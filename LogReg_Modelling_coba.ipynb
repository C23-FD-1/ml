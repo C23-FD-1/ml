{
 "cells": [
  {
   "cell_type": "markdown",
   "id": "ba69206d",
   "metadata": {},
   "source": [
    "# MODELLING\n",
    "### Fraud Detection System Development using Deep Neural Network for Reported Transactional Data"
   ]
  },
  {
   "cell_type": "code",
   "execution_count": 1,
   "id": "8cd688ac",
   "metadata": {},
   "outputs": [],
   "source": [
    "import pandas as pd\n",
    "import tensorflow as tf\n",
    "import numpy as np"
   ]
  },
  {
   "cell_type": "code",
   "execution_count": 25,
   "id": "1b4b799f",
   "metadata": {},
   "outputs": [],
   "source": [
    "df = pd.read_csv('user_data_source_dropped.csv', sep = ';')"
   ]
  },
  {
   "cell_type": "code",
   "execution_count": 28,
   "id": "6cbcc1b5",
   "metadata": {},
   "outputs": [
    {
     "data": {
      "text/html": [
       "<div>\n",
       "<style scoped>\n",
       "    .dataframe tbody tr th:only-of-type {\n",
       "        vertical-align: middle;\n",
       "    }\n",
       "\n",
       "    .dataframe tbody tr th {\n",
       "        vertical-align: top;\n",
       "    }\n",
       "\n",
       "    .dataframe thead th {\n",
       "        text-align: right;\n",
       "    }\n",
       "</style>\n",
       "<table border=\"1\" class=\"dataframe\">\n",
       "  <thead>\n",
       "    <tr style=\"text-align: right;\">\n",
       "      <th></th>\n",
       "      <th>is_scammer</th>\n",
       "      <th>trx_date</th>\n",
       "      <th>report_date</th>\n",
       "      <th>registereddate</th>\n",
       "      <th>birthday</th>\n",
       "      <th>is_verified</th>\n",
       "      <th>aqc_freq_prepaid_mobile</th>\n",
       "      <th>aqc_mean_prepaid_mobile_amount</th>\n",
       "      <th>aqc_freq_topup</th>\n",
       "      <th>aqc_freq_topup_within_7d</th>\n",
       "      <th>...</th>\n",
       "      <th>gender_Male</th>\n",
       "      <th>gender_None</th>\n",
       "      <th>job_position_KARYAWAN</th>\n",
       "      <th>job_position_LAINNYA</th>\n",
       "      <th>job_position_PEGAWAI_NS</th>\n",
       "      <th>job_position_PELAJAR</th>\n",
       "      <th>job_position_RUMAH_TANGGA</th>\n",
       "      <th>job_position_SPESIALIS</th>\n",
       "      <th>job_position_TIDAK_KERJA</th>\n",
       "      <th>job_position_WIRASWASTA</th>\n",
       "    </tr>\n",
       "  </thead>\n",
       "  <tbody>\n",
       "    <tr>\n",
       "      <th>0</th>\n",
       "      <td>1</td>\n",
       "      <td>0.376934</td>\n",
       "      <td>0.005629</td>\n",
       "      <td>0.673512</td>\n",
       "      <td>0.909517</td>\n",
       "      <td>1</td>\n",
       "      <td>0.019455</td>\n",
       "      <td>0.456958</td>\n",
       "      <td>0.022750</td>\n",
       "      <td>0.007009</td>\n",
       "      <td>...</td>\n",
       "      <td>0</td>\n",
       "      <td>0</td>\n",
       "      <td>0</td>\n",
       "      <td>0</td>\n",
       "      <td>0</td>\n",
       "      <td>1</td>\n",
       "      <td>0</td>\n",
       "      <td>0</td>\n",
       "      <td>0</td>\n",
       "      <td>0</td>\n",
       "    </tr>\n",
       "    <tr>\n",
       "      <th>1</th>\n",
       "      <td>0</td>\n",
       "      <td>0.552039</td>\n",
       "      <td>0.632270</td>\n",
       "      <td>0.784524</td>\n",
       "      <td>0.948204</td>\n",
       "      <td>1</td>\n",
       "      <td>0.000000</td>\n",
       "      <td>0.000000</td>\n",
       "      <td>0.038576</td>\n",
       "      <td>0.074766</td>\n",
       "      <td>...</td>\n",
       "      <td>1</td>\n",
       "      <td>0</td>\n",
       "      <td>0</td>\n",
       "      <td>0</td>\n",
       "      <td>0</td>\n",
       "      <td>1</td>\n",
       "      <td>0</td>\n",
       "      <td>0</td>\n",
       "      <td>0</td>\n",
       "      <td>0</td>\n",
       "    </tr>\n",
       "    <tr>\n",
       "      <th>2</th>\n",
       "      <td>0</td>\n",
       "      <td>0.772855</td>\n",
       "      <td>0.696998</td>\n",
       "      <td>0.783631</td>\n",
       "      <td>0.766422</td>\n",
       "      <td>1</td>\n",
       "      <td>0.077821</td>\n",
       "      <td>0.324991</td>\n",
       "      <td>0.683482</td>\n",
       "      <td>0.271028</td>\n",
       "      <td>...</td>\n",
       "      <td>1</td>\n",
       "      <td>0</td>\n",
       "      <td>0</td>\n",
       "      <td>0</td>\n",
       "      <td>0</td>\n",
       "      <td>0</td>\n",
       "      <td>0</td>\n",
       "      <td>0</td>\n",
       "      <td>0</td>\n",
       "      <td>1</td>\n",
       "    </tr>\n",
       "    <tr>\n",
       "      <th>3</th>\n",
       "      <td>0</td>\n",
       "      <td>0.535865</td>\n",
       "      <td>0.550657</td>\n",
       "      <td>0.565476</td>\n",
       "      <td>0.974102</td>\n",
       "      <td>1</td>\n",
       "      <td>0.042802</td>\n",
       "      <td>0.200904</td>\n",
       "      <td>0.092977</td>\n",
       "      <td>0.042056</td>\n",
       "      <td>...</td>\n",
       "      <td>0</td>\n",
       "      <td>0</td>\n",
       "      <td>0</td>\n",
       "      <td>0</td>\n",
       "      <td>0</td>\n",
       "      <td>1</td>\n",
       "      <td>0</td>\n",
       "      <td>0</td>\n",
       "      <td>0</td>\n",
       "      <td>0</td>\n",
       "    </tr>\n",
       "    <tr>\n",
       "      <th>4</th>\n",
       "      <td>0</td>\n",
       "      <td>0.786920</td>\n",
       "      <td>0.715760</td>\n",
       "      <td>0.999702</td>\n",
       "      <td>0.688586</td>\n",
       "      <td>1</td>\n",
       "      <td>0.000000</td>\n",
       "      <td>0.000000</td>\n",
       "      <td>0.031652</td>\n",
       "      <td>0.056075</td>\n",
       "      <td>...</td>\n",
       "      <td>1</td>\n",
       "      <td>0</td>\n",
       "      <td>0</td>\n",
       "      <td>0</td>\n",
       "      <td>0</td>\n",
       "      <td>0</td>\n",
       "      <td>0</td>\n",
       "      <td>0</td>\n",
       "      <td>0</td>\n",
       "      <td>1</td>\n",
       "    </tr>\n",
       "  </tbody>\n",
       "</table>\n",
       "<p>5 rows × 52 columns</p>\n",
       "</div>"
      ],
      "text/plain": [
       "   is_scammer  trx_date  report_date  registereddate  birthday  is_verified  \\\n",
       "0           1  0.376934     0.005629        0.673512  0.909517            1   \n",
       "1           0  0.552039     0.632270        0.784524  0.948204            1   \n",
       "2           0  0.772855     0.696998        0.783631  0.766422            1   \n",
       "3           0  0.535865     0.550657        0.565476  0.974102            1   \n",
       "4           0  0.786920     0.715760        0.999702  0.688586            1   \n",
       "\n",
       "   aqc_freq_prepaid_mobile  aqc_mean_prepaid_mobile_amount  aqc_freq_topup  \\\n",
       "0                 0.019455                        0.456958        0.022750   \n",
       "1                 0.000000                        0.000000        0.038576   \n",
       "2                 0.077821                        0.324991        0.683482   \n",
       "3                 0.042802                        0.200904        0.092977   \n",
       "4                 0.000000                        0.000000        0.031652   \n",
       "\n",
       "   aqc_freq_topup_within_7d  ...  gender_Male  gender_None  \\\n",
       "0                  0.007009  ...            0            0   \n",
       "1                  0.074766  ...            1            0   \n",
       "2                  0.271028  ...            1            0   \n",
       "3                  0.042056  ...            0            0   \n",
       "4                  0.056075  ...            1            0   \n",
       "\n",
       "   job_position_KARYAWAN  job_position_LAINNYA  job_position_PEGAWAI_NS  \\\n",
       "0                      0                     0                        0   \n",
       "1                      0                     0                        0   \n",
       "2                      0                     0                        0   \n",
       "3                      0                     0                        0   \n",
       "4                      0                     0                        0   \n",
       "\n",
       "   job_position_PELAJAR  job_position_RUMAH_TANGGA  job_position_SPESIALIS  \\\n",
       "0                     1                          0                       0   \n",
       "1                     1                          0                       0   \n",
       "2                     0                          0                       0   \n",
       "3                     1                          0                       0   \n",
       "4                     0                          0                       0   \n",
       "\n",
       "   job_position_TIDAK_KERJA  job_position_WIRASWASTA  \n",
       "0                         0                        0  \n",
       "1                         0                        0  \n",
       "2                         0                        1  \n",
       "3                         0                        0  \n",
       "4                         0                        1  \n",
       "\n",
       "[5 rows x 52 columns]"
      ]
     },
     "execution_count": 28,
     "metadata": {},
     "output_type": "execute_result"
    }
   ],
   "source": [
    "# df = df.rename(columns={\"Unnamed: 0\": \"id\"})\n",
    "df = df.drop(columns = ['Unnamed: 0', 'uid', 'Unnamed: 0.1'])\n",
    "df.head()"
   ]
  },
  {
   "cell_type": "markdown",
   "id": "107b3d0e",
   "metadata": {},
   "source": [
    "## Logistic Regression Method"
   ]
  },
  {
   "cell_type": "code",
   "execution_count": 29,
   "id": "cdddf7e1",
   "metadata": {},
   "outputs": [],
   "source": [
    "# Split Train and Validation Dataset\n",
    "#from sklearn.model_selection import train_test_split\n",
    "SPLIT_SIZE = 0.9\n",
    "\n",
    "train_len = int(len(df) * SPLIT_SIZE)\n",
    "\n",
    "shuffled_files = df.sample(frac = 1, random_state = 1)\n",
    "\n",
    "test_set = shuffled_files[train_len:]\n",
    "train_set = shuffled_files[:train_len]\n",
    "\n",
    "y_train = train_set['is_scammer']\n",
    "x_train = train_set.drop(columns=['is_scammer'])\n",
    "y_test = test_set['is_scammer']\n",
    "x_test = test_set.drop(columns=['is_scammer'])"
   ]
  },
  {
   "cell_type": "code",
   "execution_count": 30,
   "id": "9cb6778c",
   "metadata": {},
   "outputs": [],
   "source": [
    "x_train, y_train = tf.convert_to_tensor(x_train, dtype=tf.float32), tf.convert_to_tensor(y_train, dtype=tf.float32)\n",
    "x_test, y_test = tf.convert_to_tensor(x_test, dtype=tf.float32), tf.convert_to_tensor(y_test, dtype=tf.float32)"
   ]
  },
  {
   "cell_type": "markdown",
   "id": "16f15169",
   "metadata": {},
   "source": [
    "model = tf.keras.models.Sequential([\n",
    "    tf.keras.layers.Dense(64, activation='relu', input_shape=(x_train.shape[1])),\n",
    "    tf.keras.layers.Dense(32, activation='relu'),\n",
    "    tf.keras.layers.Dense(1, activation='sigmoid')\n",
    "])"
   ]
  },
  {
   "cell_type": "markdown",
   "id": "48c743d6",
   "metadata": {},
   "source": [
    "model.compile(optimizer=tf.keras.optimizers.Adam(learning_rate = 0.001),\n",
    "                loss='binary_crossentropy',\n",
    "                metrics=['accuracy'])"
   ]
  },
  {
   "cell_type": "markdown",
   "id": "f15fb116",
   "metadata": {},
   "source": [
    "history = model.fit(train_generator,\n",
    "                    epochs=15,\n",
    "                    verbose=1,\n",
    "                    validation_data=validation_generator)"
   ]
  },
  {
   "cell_type": "code",
   "execution_count": 31,
   "id": "6abfece9",
   "metadata": {},
   "outputs": [],
   "source": [
    "def log_loss(y_pred, y):\n",
    "    # Compute the log loss function\n",
    "    ce = tf.nn.sigmoid_cross_entropy_with_logits(labels=y, logits=y_pred)\n",
    "    return tf.reduce_mean(ce)"
   ]
  },
  {
   "cell_type": "code",
   "execution_count": 32,
   "id": "b2a69008",
   "metadata": {},
   "outputs": [],
   "source": [
    "class LogisticRegression(tf.Module):\n",
    "    \n",
    "    def __init__(self):\n",
    "        self.built = False\n",
    "        \n",
    "    def __call__(self, x, train=True):\n",
    "        # Initialize the model parameters on the first call\n",
    "        if not self.built:\n",
    "            # Randomly generate the weights and the bias term\n",
    "            rand_w = tf.random.uniform(shape=[x.shape[-1], 1], seed=22)\n",
    "            rand_b = tf.random.uniform(shape=[], seed=22)\n",
    "            self.w = tf.Variable(rand_w)\n",
    "            self.b = tf.Variable(rand_b)\n",
    "            self.built = True\n",
    "        # Compute the model output\n",
    "        z = tf.add(tf.matmul(x, self.w), self.b)\n",
    "        z = tf.squeeze(z, axis=1)\n",
    "        if train:\n",
    "            return z\n",
    "        return tf.sigmoid(z)"
   ]
  },
  {
   "cell_type": "code",
   "execution_count": 33,
   "id": "dc7de073",
   "metadata": {},
   "outputs": [],
   "source": [
    "log_reg = LogisticRegression()"
   ]
  },
  {
   "cell_type": "code",
   "execution_count": 34,
   "id": "57615118",
   "metadata": {},
   "outputs": [
    {
     "data": {
      "text/plain": [
       "array([0.99746704, 0.993196  , 0.9962249 , 0.99635196, 0.9965798 ],\n",
       "      dtype=float32)"
      ]
     },
     "execution_count": 34,
     "metadata": {},
     "output_type": "execute_result"
    }
   ],
   "source": [
    "y_pred = log_reg(x_train[:5], train=False)\n",
    "y_pred.numpy()"
   ]
  },
  {
   "cell_type": "code",
   "execution_count": 35,
   "id": "c6e29539",
   "metadata": {},
   "outputs": [],
   "source": [
    "def predict_class(y_pred, thresh=0.5):\n",
    "    # Return a tensor with  `1` if `y_pred` > `0.5`, and `0` otherwise\n",
    "    return tf.cast(y_pred > thresh, tf.float32)\n",
    "\n",
    "def accuracy(y_pred, y):\n",
    "    # Return the proportion of matches between `y_pred` and `y`\n",
    "    y_pred = tf.math.sigmoid(y_pred)\n",
    "    y_pred_class = predict_class(y_pred)\n",
    "    check_equal = tf.cast(y_pred_class == y,tf.float32)\n",
    "    acc_val = tf.reduce_mean(check_equal)\n",
    "    return acc_val"
   ]
  },
  {
   "cell_type": "code",
   "execution_count": 36,
   "id": "67f25016",
   "metadata": {},
   "outputs": [],
   "source": [
    "batch_size = 64\n",
    "\n",
    "train_dataset = tf.data.Dataset.from_tensor_slices((x_train, y_train))\n",
    "train_dataset = train_dataset.batch(batch_size)\n",
    "\n",
    "test_dataset = tf.data.Dataset.from_tensor_slices((x_test, y_test))\n",
    "test_dataset = test_dataset.batch(batch_size)"
   ]
  },
  {
   "cell_type": "code",
   "execution_count": 37,
   "id": "f6e827a2",
   "metadata": {},
   "outputs": [
    {
     "name": "stdout",
     "output_type": "stream",
     "text": [
      "Epoch: 0, Training log loss: 2.757\n",
      "Epoch: 20, Training log loss: 0.658\n",
      "Epoch: 40, Training log loss: 0.613\n",
      "Epoch: 60, Training log loss: 0.591\n",
      "Epoch: 80, Training log loss: 0.577\n",
      "Epoch: 100, Training log loss: 0.566\n",
      "Epoch: 120, Training log loss: 0.558\n",
      "Epoch: 140, Training log loss: 0.552\n",
      "Epoch: 160, Training log loss: 0.546\n",
      "Epoch: 180, Training log loss: 0.542\n"
     ]
    }
   ],
   "source": [
    "# Set training parameters\n",
    "epochs = 200\n",
    "learning_rate = 0.001\n",
    "train_losses, test_losses = [], []\n",
    "train_accs, test_accs = [], []\n",
    "\n",
    "# Set up the training loop and begin training\n",
    "for epoch in range(epochs):\n",
    "    batch_losses_train, batch_accs_train = [], []\n",
    "    batch_losses_test, batch_accs_test = [], []\n",
    "\n",
    "    # Iterate over the training data\n",
    "    for x_batch, y_batch in train_dataset:\n",
    "        with tf.GradientTape() as tape:\n",
    "            y_pred_batch = log_reg(x_batch)\n",
    "            batch_loss = log_loss(y_pred_batch, y_batch)\n",
    "        batch_acc = accuracy(y_pred_batch, y_batch)\n",
    "        # Update the parameters with respect to the gradient calculations\n",
    "        grads = tape.gradient(batch_loss, log_reg.variables)\n",
    "        for g,v in zip(grads, log_reg.variables):\n",
    "            v.assign_sub(learning_rate * g)\n",
    "        # Keep track of batch-level training performance\n",
    "        batch_losses_train.append(batch_loss)\n",
    "        batch_accs_train.append(batch_acc)\n",
    "\n",
    "    # Iterate over the testing data\n",
    "    for x_batch, y_batch in test_dataset:\n",
    "        y_pred_batch = log_reg(x_batch)\n",
    "        batch_loss = log_loss(y_pred_batch, y_batch)\n",
    "        batch_acc = accuracy(y_pred_batch, y_batch)\n",
    "        # Keep track of batch-level testing performance\n",
    "        batch_losses_test.append(batch_loss)\n",
    "        batch_accs_test.append(batch_acc)\n",
    "\n",
    "    # Keep track of epoch-level model performance\n",
    "    train_loss, train_acc = tf.reduce_mean(batch_losses_train), tf.reduce_mean(batch_accs_train)\n",
    "    test_loss, test_acc = tf.reduce_mean(batch_losses_test), tf.reduce_mean(batch_accs_test)\n",
    "    train_losses.append(train_loss)\n",
    "    train_accs.append(train_acc)\n",
    "    test_losses.append(test_loss)\n",
    "    test_accs.append(test_acc)\n",
    "    if epoch % 20 == 0:\n",
    "        print(f\"Epoch: {epoch}, Training log loss: {train_loss:.3f}\")"
   ]
  },
  {
   "cell_type": "code",
   "execution_count": 38,
   "id": "8b1bab57",
   "metadata": {},
   "outputs": [
    {
     "data": {
      "image/png": "[encoded data removed]",
      "text/plain": [
       "<Figure size 432x288 with 1 Axes>"
      ]
     },
     "metadata": {
      "needs_background": "light"
     },
     "output_type": "display_data"
    }
   ],
   "source": [
    "import matplotlib.pyplot as plt\n",
    "plt.plot(range(epochs), train_losses, label = \"Training loss\")\n",
    "plt.plot(range(epochs), test_losses, label = \"Testing loss\")\n",
    "plt.xlabel(\"Epoch\")\n",
    "plt.ylabel(\"Log loss\")\n",
    "plt.legend()\n",
    "plt.title(\"Log loss vs training iterations\");"
   ]
  },
  {
   "cell_type": "code",
   "execution_count": 39,
   "id": "75f9faf4",
   "metadata": {},
   "outputs": [
    {
     "data": {
      "image/png": "[encoded data removed]",
      "text/plain": [
       "<Figure size 432x288 with 1 Axes>"
      ]
     },
     "metadata": {
      "needs_background": "light"
     },
     "output_type": "display_data"
    }
   ],
   "source": [
    "plt.plot(range(epochs), train_accs, label = \"Training accuracy\")\n",
    "plt.plot(range(epochs), test_accs, label = \"Testing accuracy\")\n",
    "plt.xlabel(\"Epoch\")\n",
    "plt.ylabel(\"Accuracy (%)\")\n",
    "plt.legend()\n",
    "plt.title(\"Accuracy vs training iterations\");"
   ]
  },
  {
   "cell_type": "code",
   "execution_count": 40,
   "id": "4bd1fab2",
   "metadata": {},
   "outputs": [
    {
     "name": "stdout",
     "output_type": "stream",
     "text": [
      "Final training log loss: 0.538\n",
      "Final testing log Loss: 0.535\n"
     ]
    }
   ],
   "source": [
    "print(f\"Final training log loss: {train_losses[-1]:.3f}\")\n",
    "print(f\"Final testing log Loss: {test_losses[-1]:.3f}\")"
   ]
  },
  {
   "cell_type": "code",
   "execution_count": 45,
   "id": "bd2901ea",
   "metadata": {},
   "outputs": [
    {
     "name": "stdout",
     "output_type": "stream",
     "text": [
      "Final training accuracy: 0.7438\n",
      "Final testing accuracy: 0.7391\n"
     ]
    }
   ],
   "source": [
    "print(f\"Final training accuracy: {train_accs[-1]:.4f}\")\n",
    "print(f\"Final testing accuracy: {test_accs[-1]:.4f}\")"
   ]
  },
  {
   "cell_type": "code",
   "execution_count": 42,
   "id": "50e96aed",
   "metadata": {},
   "outputs": [],
   "source": [
    "import sklearn.metrics as metrics\n",
    "\n",
    "def show_confusion_matrix(y, y_classes, typ):\n",
    "    # Compute the confusion matrix and normalize it\n",
    "    plt.figure(figsize=(10,10))\n",
    "    confusion = metrics.confusion_matrix(y.numpy(), y_classes.numpy())\n",
    "    confusion_normalized = confusion / confusion.sum(axis=1)\n",
    "    axis_labels = range(2)\n",
    "    ax = sns.heatmap(\n",
    "        confusion_normalized, xticklabels=axis_labels, yticklabels=axis_labels,\n",
    "        cmap='Blues', annot=True, fmt='.4f', square=True)\n",
    "    plt.title(f\"Confusion matrix: {typ}\")\n",
    "    plt.ylabel(\"True label\")\n",
    "    plt.xlabel(\"Predicted label\")\n",
    "\n",
    "y_pred_train, y_pred_test = log_reg(x_train, train=False), log_reg(x_test, train=False)\n",
    "train_classes, test_classes = predict_class(y_pred_train), predict_class(y_pred_test)"
   ]
  },
  {
   "cell_type": "code",
   "execution_count": 43,
   "id": "87bc4a4f",
   "metadata": {},
   "outputs": [
    {
     "data": {
      "image/png": "[encoded data removed]",
      "text/plain": [
       "<Figure size 720x720 with 2 Axes>"
      ]
     },
     "metadata": {
      "needs_background": "light"
     },
     "output_type": "display_data"
    }
   ],
   "source": [
    "from sklearn import metrics\n",
    "import seaborn as sns\n",
    "show_confusion_matrix(y_train, train_classes, 'Training')"
   ]
  },
  {
   "cell_type": "code",
   "execution_count": 44,
   "id": "94395631",
   "metadata": {
    "scrolled": false
   },
   "outputs": [
    {
     "data": {
      "image/png": "[encoded data removed]",
      "text/plain": [
       "<Figure size 720x720 with 2 Axes>"
      ]
     },
     "metadata": {
      "needs_background": "light"
     },
     "output_type": "display_data"
    }
   ],
   "source": [
    "show_confusion_matrix(y_test, test_classes, 'Testing')"
   ]
  },
  {
   "cell_type": "markdown",
   "id": "1eeb0d07",
   "metadata": {},
   "source": [
    "Source:\n",
    "https://www.tensorflow.org/guide/core/logistic_regression_core"
   ]
  }
 ],
 "metadata": {
  "kernelspec": {
   "display_name": "Python 3 (ipykernel)",
   "language": "python",
   "name": "python3"
  },
  "language_info": {
   "codemirror_mode": {
    "name": "ipython",
    "version": 3
   },
   "file_extension": ".py",
   "mimetype": "text/x-python",
   "name": "python",
   "nbconvert_exporter": "python",
   "pygments_lexer": "ipython3",
   "version": "3.11.3"
  }
 },
 "nbformat": 4,
 "nbformat_minor": 5
}
