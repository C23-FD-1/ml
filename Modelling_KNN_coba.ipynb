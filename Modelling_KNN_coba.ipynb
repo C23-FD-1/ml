{
 "cells": [
  {
   "cell_type": "markdown",
   "metadata": {
    "id": "ba69206d"
   },
   "source": [
    "# MODELLING\n",
    "### Fraud Detection System Development using Deep Neural Network for Reported Transactional Data in DANA"
   ]
  },
  {
   "cell_type": "code",
   "execution_count": 1,
   "metadata": {
    "id": "8cd688ac"
   },
   "outputs": [],
   "source": [
    "# Import all libraries that will used for this project\n",
    "import pandas as pd\n",
    "import numpy as np\n",
    "import seaborn as sns\n",
    "import matplotlib.pyplot as plt\n",
    "import tensorflow as tf\n",
    "import sklearn.metrics as metrics\n",
    "from sklearn.model_selection import train_test_split\n",
    "from sklearn.preprocessing import StandardScaler\n",
    "from sklearn.neighbors import KNeighborsClassifier\n",
    "from sklearn.metrics import confusion_matrix"
   ]
  },
  {
   "cell_type": "code",
   "execution_count": 23,
   "metadata": {},
   "outputs": [
    {
     "name": "stdout",
     "output_type": "stream",
     "text": [
      "pd:  1.1.5\n",
      "np:  1.19.5\n",
      "sns:  0.11.2\n",
      "tf:  2.2.0\n",
      "python:  3.6.13\n",
      "sklearn:  0.24.2\n"
     ]
    }
   ],
   "source": [
    "from platform import python_version\n",
    "import sklearn\n",
    "print(\"pd: \", pd.__version__)\n",
    "print(\"np: \", np.__version__)\n",
    "print(\"sns: \", sns.__version__)\n",
    "print(\"tf: \", tf.__version__)\n",
    "print(\"python: \", python_version())\n",
    "print(\"sklearn: \", sklearn.__version__)"
   ]
  },
  {
   "cell_type": "code",
   "execution_count": 2,
   "metadata": {
    "id": "1b4b799f"
   },
   "outputs": [],
   "source": [
    "# Read dataset\n",
    "df = pd.read_csv(\"user_data_clip99_minmax.csv\", sep=';')"
   ]
  },
  {
   "cell_type": "code",
   "execution_count": 3,
   "metadata": {
    "colab": {
     "base_uri": "https://localhost:8080/",
     "height": 299
    },
    "id": "6cbcc1b5",
    "outputId": "9cc81eae-3f53-43a5-f562-23d9bc5f4c54"
   },
   "outputs": [
    {
     "data": {
      "text/html": [
       "<div>\n",
       "<style scoped>\n",
       "    .dataframe tbody tr th:only-of-type {\n",
       "        vertical-align: middle;\n",
       "    }\n",
       "\n",
       "    .dataframe tbody tr th {\n",
       "        vertical-align: top;\n",
       "    }\n",
       "\n",
       "    .dataframe thead th {\n",
       "        text-align: right;\n",
       "    }\n",
       "</style>\n",
       "<table border=\"1\" class=\"dataframe\">\n",
       "  <thead>\n",
       "    <tr style=\"text-align: right;\">\n",
       "      <th></th>\n",
       "      <th>is_scammer</th>\n",
       "      <th>trx_date</th>\n",
       "      <th>report_date</th>\n",
       "      <th>registereddate</th>\n",
       "      <th>birthday</th>\n",
       "      <th>is_verified</th>\n",
       "      <th>aqc_freq_prepaid_mobile</th>\n",
       "      <th>aqc_mean_prepaid_mobile_amount</th>\n",
       "      <th>aqc_freq_topup</th>\n",
       "      <th>aqc_freq_topup_within_7d</th>\n",
       "      <th>...</th>\n",
       "      <th>gender_Male</th>\n",
       "      <th>gender_None</th>\n",
       "      <th>job_position_KARYAWAN</th>\n",
       "      <th>job_position_LAINNYA</th>\n",
       "      <th>job_position_PEGAWAI_NS</th>\n",
       "      <th>job_position_PELAJAR</th>\n",
       "      <th>job_position_RUMAH_TANGGA</th>\n",
       "      <th>job_position_SPESIALIS</th>\n",
       "      <th>job_position_TIDAK_KERJA</th>\n",
       "      <th>job_position_WIRASWASTA</th>\n",
       "    </tr>\n",
       "  </thead>\n",
       "  <tbody>\n",
       "    <tr>\n",
       "      <th>0</th>\n",
       "      <td>0</td>\n",
       "      <td>0.784107</td>\n",
       "      <td>0.714822</td>\n",
       "      <td>0.782440</td>\n",
       "      <td>0.000000</td>\n",
       "      <td>1</td>\n",
       "      <td>0.097656</td>\n",
       "      <td>0.343195</td>\n",
       "      <td>0.171118</td>\n",
       "      <td>0.138889</td>\n",
       "      <td>...</td>\n",
       "      <td>1</td>\n",
       "      <td>0</td>\n",
       "      <td>0</td>\n",
       "      <td>0</td>\n",
       "      <td>0</td>\n",
       "      <td>0</td>\n",
       "      <td>0</td>\n",
       "      <td>0</td>\n",
       "      <td>0</td>\n",
       "      <td>1</td>\n",
       "    </tr>\n",
       "    <tr>\n",
       "      <th>1</th>\n",
       "      <td>1</td>\n",
       "      <td>0.772855</td>\n",
       "      <td>0.704503</td>\n",
       "      <td>0.566964</td>\n",
       "      <td>0.013855</td>\n",
       "      <td>1</td>\n",
       "      <td>0.128906</td>\n",
       "      <td>0.144773</td>\n",
       "      <td>0.379822</td>\n",
       "      <td>0.203704</td>\n",
       "      <td>...</td>\n",
       "      <td>0</td>\n",
       "      <td>0</td>\n",
       "      <td>0</td>\n",
       "      <td>0</td>\n",
       "      <td>0</td>\n",
       "      <td>0</td>\n",
       "      <td>0</td>\n",
       "      <td>0</td>\n",
       "      <td>0</td>\n",
       "      <td>1</td>\n",
       "    </tr>\n",
       "    <tr>\n",
       "      <th>2</th>\n",
       "      <td>1</td>\n",
       "      <td>0.448664</td>\n",
       "      <td>0.269231</td>\n",
       "      <td>0.783333</td>\n",
       "      <td>0.014068</td>\n",
       "      <td>1</td>\n",
       "      <td>0.105469</td>\n",
       "      <td>0.118935</td>\n",
       "      <td>0.067260</td>\n",
       "      <td>0.011574</td>\n",
       "      <td>...</td>\n",
       "      <td>0</td>\n",
       "      <td>0</td>\n",
       "      <td>1</td>\n",
       "      <td>0</td>\n",
       "      <td>0</td>\n",
       "      <td>0</td>\n",
       "      <td>0</td>\n",
       "      <td>0</td>\n",
       "      <td>0</td>\n",
       "      <td>0</td>\n",
       "    </tr>\n",
       "    <tr>\n",
       "      <th>3</th>\n",
       "      <td>1</td>\n",
       "      <td>0.913502</td>\n",
       "      <td>0.884615</td>\n",
       "      <td>0.999405</td>\n",
       "      <td>0.026893</td>\n",
       "      <td>1</td>\n",
       "      <td>0.000000</td>\n",
       "      <td>0.000000</td>\n",
       "      <td>0.012859</td>\n",
       "      <td>0.013889</td>\n",
       "      <td>...</td>\n",
       "      <td>1</td>\n",
       "      <td>0</td>\n",
       "      <td>1</td>\n",
       "      <td>0</td>\n",
       "      <td>0</td>\n",
       "      <td>0</td>\n",
       "      <td>0</td>\n",
       "      <td>0</td>\n",
       "      <td>0</td>\n",
       "      <td>0</td>\n",
       "    </tr>\n",
       "    <tr>\n",
       "      <th>4</th>\n",
       "      <td>1</td>\n",
       "      <td>0.870605</td>\n",
       "      <td>0.827392</td>\n",
       "      <td>0.893155</td>\n",
       "      <td>0.053004</td>\n",
       "      <td>1</td>\n",
       "      <td>0.000000</td>\n",
       "      <td>0.000000</td>\n",
       "      <td>0.064293</td>\n",
       "      <td>0.060185</td>\n",
       "      <td>...</td>\n",
       "      <td>1</td>\n",
       "      <td>0</td>\n",
       "      <td>1</td>\n",
       "      <td>0</td>\n",
       "      <td>0</td>\n",
       "      <td>0</td>\n",
       "      <td>0</td>\n",
       "      <td>0</td>\n",
       "      <td>0</td>\n",
       "      <td>0</td>\n",
       "    </tr>\n",
       "  </tbody>\n",
       "</table>\n",
       "<p>5 rows × 56 columns</p>\n",
       "</div>"
      ],
      "text/plain": [
       "   is_scammer  trx_date  report_date  registereddate  birthday  is_verified  \\\n",
       "0           0  0.784107     0.714822        0.782440  0.000000            1   \n",
       "1           1  0.772855     0.704503        0.566964  0.013855            1   \n",
       "2           1  0.448664     0.269231        0.783333  0.014068            1   \n",
       "3           1  0.913502     0.884615        0.999405  0.026893            1   \n",
       "4           1  0.870605     0.827392        0.893155  0.053004            1   \n",
       "\n",
       "   aqc_freq_prepaid_mobile  aqc_mean_prepaid_mobile_amount  aqc_freq_topup  \\\n",
       "0                 0.097656                        0.343195        0.171118   \n",
       "1                 0.128906                        0.144773        0.379822   \n",
       "2                 0.105469                        0.118935        0.067260   \n",
       "3                 0.000000                        0.000000        0.012859   \n",
       "4                 0.000000                        0.000000        0.064293   \n",
       "\n",
       "   aqc_freq_topup_within_7d  ...  gender_Male  gender_None  \\\n",
       "0                  0.138889  ...            1            0   \n",
       "1                  0.203704  ...            0            0   \n",
       "2                  0.011574  ...            0            0   \n",
       "3                  0.013889  ...            1            0   \n",
       "4                  0.060185  ...            1            0   \n",
       "\n",
       "   job_position_KARYAWAN  job_position_LAINNYA  job_position_PEGAWAI_NS  \\\n",
       "0                      0                     0                        0   \n",
       "1                      0                     0                        0   \n",
       "2                      1                     0                        0   \n",
       "3                      1                     0                        0   \n",
       "4                      1                     0                        0   \n",
       "\n",
       "   job_position_PELAJAR  job_position_RUMAH_TANGGA  job_position_SPESIALIS  \\\n",
       "0                     0                          0                       0   \n",
       "1                     0                          0                       0   \n",
       "2                     0                          0                       0   \n",
       "3                     0                          0                       0   \n",
       "4                     0                          0                       0   \n",
       "\n",
       "   job_position_TIDAK_KERJA  job_position_WIRASWASTA  \n",
       "0                         0                        1  \n",
       "1                         0                        1  \n",
       "2                         0                        0  \n",
       "3                         0                        0  \n",
       "4                         0                        0  \n",
       "\n",
       "[5 rows x 56 columns]"
      ]
     },
     "execution_count": 3,
     "metadata": {},
     "output_type": "execute_result"
    }
   ],
   "source": [
    "df = df.rename(columns={\"Unnamed: 0\": \"id\"})\n",
    "df = df.drop(columns = ['uid', 'id'])\n",
    "df.head()"
   ]
  },
  {
   "cell_type": "code",
   "execution_count": 31,
   "metadata": {},
   "outputs": [
    {
     "data": {
      "text/plain": [
       "0    21139\n",
       "Name: source_CS_REPORT_VICTIM, dtype: int64"
      ]
     },
     "execution_count": 31,
     "metadata": {},
     "output_type": "execute_result"
    }
   ],
   "source": [
    "df.loc[(df['is_scammer'] == 1)]['source_CS_REPORT_VICTIM'].value_counts()"
   ]
  },
  {
   "cell_type": "code",
   "execution_count": 32,
   "metadata": {},
   "outputs": [
    {
     "data": {
      "text/plain": [
       "0    21139\n",
       "Name: source_INCOMPLETE_CS_REPORT_VICTIM, dtype: int64"
      ]
     },
     "execution_count": 32,
     "metadata": {},
     "output_type": "execute_result"
    }
   ],
   "source": [
    "df.loc[(df['is_scammer'] == 1)]['source_INCOMPLETE_CS_REPORT_VICTIM'].value_counts()"
   ]
  },
  {
   "cell_type": "code",
   "execution_count": 33,
   "metadata": {},
   "outputs": [
    {
     "data": {
      "text/plain": [
       "0    12577\n",
       "1     8562\n",
       "Name: source_INCOMPLETE_CS_REPORT_SCAMMER, dtype: int64"
      ]
     },
     "execution_count": 33,
     "metadata": {},
     "output_type": "execute_result"
    }
   ],
   "source": [
    "df.loc[(df['is_scammer'] == 1)]['source_INCOMPLETE_CS_REPORT_SCAMMER'].value_counts()"
   ]
  },
  {
   "cell_type": "code",
   "execution_count": 34,
   "metadata": {},
   "outputs": [
    {
     "data": {
      "text/plain": [
       "1    12577\n",
       "0     8562\n",
       "Name: source_CS_REPORT_SCAMMER, dtype: int64"
      ]
     },
     "execution_count": 34,
     "metadata": {},
     "output_type": "execute_result"
    }
   ],
   "source": [
    "df.loc[(df['is_scammer'] == 1)]['source_CS_REPORT_SCAMMER'].value_counts()"
   ]
  },
  {
   "cell_type": "markdown",
   "metadata": {
    "id": "SNG_7CN-vxsS"
   },
   "source": [
    "## Logistic Regression Model"
   ]
  },
  {
   "cell_type": "code",
   "execution_count": 4,
   "metadata": {
    "id": "cdddf7e1"
   },
   "outputs": [],
   "source": [
    "# Split Train and Validation Dataset\n",
    "#from sklearn.model_selection import train_test_split\n",
    "# SPLIT_SIZE = 0.9\n",
    "\n",
    "# train_len = int(len(df) * SPLIT_SIZE)\n",
    "\n",
    "# shuffled_files = df.sample(frac = 1, random_state = 1)\n",
    "\n",
    "# test_set = shuffled_files[train_len:]\n",
    "# train_set = shuffled_files[:train_len]\n",
    "\n",
    "# y_train = train_set['is_scammer']\n",
    "# x_train = train_set.drop(columns=['is_scammer'])\n",
    "# y_test = test_set['is_scammer']\n",
    "# x_test = test_set.drop(columns=['is_scammer'])"
   ]
  },
  {
   "cell_type": "code",
   "execution_count": 5,
   "metadata": {
    "id": "9cb6778c"
   },
   "outputs": [],
   "source": [
    "# x_train, y_train = tf.convert_to_tensor(x_train, dtype=tf.float32), tf.convert_to_tensor(y_train, dtype=tf.float32)\n",
    "# x_test, y_test = tf.convert_to_tensor(x_test, dtype=tf.float32), tf.convert_to_tensor(y_test, dtype=tf.float32)"
   ]
  },
  {
   "cell_type": "markdown",
   "metadata": {
    "id": "Z8Mwl0Vy0NxG"
   },
   "source": [
    "## K-Nearest Neighbors Algorithm Method"
   ]
  },
  {
   "cell_type": "code",
   "execution_count": 6,
   "metadata": {
    "id": "e0FCpyDu09FK"
   },
   "outputs": [],
   "source": [
    "# train_set: x \n",
    "# test_set: y\n",
    "# y_train = train_set['is_scammer']\n",
    "# x_train = train_set.drop(columns=['is_scammer'])\n",
    "train_set2 = df.drop(columns =['is_scammer'])\n",
    "test_set2 = df['is_scammer']\n",
    "x_train2, x_test2, y_train2, y_test2 = train_test_split(train_set2, test_set2, test_size = 0.0526, random_state = 0)"
   ]
  },
  {
   "cell_type": "code",
   "execution_count": 7,
   "metadata": {
    "id": "i08ezs6p4cOt"
   },
   "outputs": [],
   "source": [
    "# Feature Scaling\n",
    "std_scaler = StandardScaler()\n",
    "x_train2 = std_scaler.fit_transform(x_train2)\n",
    "x_test2 = std_scaler.fit_transform(x_test2)"
   ]
  },
  {
   "cell_type": "code",
   "execution_count": 8,
   "metadata": {
    "colab": {
     "base_uri": "https://localhost:8080/",
     "height": 74
    },
    "id": "18LtVEdp40pE",
    "outputId": "92f9ad24-793d-4b6e-ac5e-cbbf2821cfaf"
   },
   "outputs": [
    {
     "data": {
      "text/plain": [
       "KNeighborsClassifier()"
      ]
     },
     "execution_count": 8,
     "metadata": {},
     "output_type": "execute_result"
    }
   ],
   "source": [
    "# Fitting KNN classifier to the training set\n",
    "classifier = KNeighborsClassifier(n_neighbors = 5, metric = 'minkowski', p = 2)\n",
    "classifier.fit(x_train2, y_train2)"
   ]
  },
  {
   "cell_type": "code",
   "execution_count": 9,
   "metadata": {
    "id": "K1KJEzWR-QTp"
   },
   "outputs": [],
   "source": [
    "#Predicting the test set result\n",
    "y_pred_train2 = classifier.predict(x_train2)\n",
    "y_pred_test2 = classifier.predict(x_test2)"
   ]
  },
  {
   "cell_type": "code",
   "execution_count": 10,
   "metadata": {
    "colab": {
     "base_uri": "https://localhost:8080/"
    },
    "id": "X1zVC2Uu_oSs",
    "outputId": "4f45755c-cf93-40fb-9ec3-55d3d727d4be"
   },
   "outputs": [
    {
     "name": "stdout",
     "output_type": "stream",
     "text": [
      "Confusion Matrix: Training\n",
      "\n",
      "Confusion Matrix: Testing\n"
     ]
    },
    {
     "data": {
      "text/plain": [
       "array([[5333,   41],\n",
       "       [  82, 5259]], dtype=int64)"
      ]
     },
     "execution_count": 10,
     "metadata": {},
     "output_type": "execute_result"
    }
   ],
   "source": [
    "#Creating the Confusion matrix  \n",
    "con_matrix_train = confusion_matrix(y_train2, y_pred_train2)  \n",
    "con_matrix_test = confusion_matrix(y_test2, y_pred_test2)\n",
    "\n",
    "print('Confusion Matrix: Training')\n",
    "con_matrix_train\n",
    "print('\\nConfusion Matrix: Testing')\n",
    "con_matrix_test"
   ]
  },
  {
   "cell_type": "code",
   "execution_count": 11,
   "metadata": {
    "id": "dQ5wg2smBUE1"
   },
   "outputs": [],
   "source": [
    "def predict_class(y_pred, thresh=0.5):\n",
    "    # Return a tensor with  `1` if `y_pred` > `0.5`, and `0` otherwise\n",
    "    return tf.cast(y_pred > thresh, tf.float32)\n",
    "\n",
    "def show_confusion_matrix2(y, y_classes, typ):\n",
    "    # Compute the confusion matrix and normalize it\n",
    "    plt.figure(figsize=(10,10))\n",
    "    confusion = metrics.confusion_matrix(y.to_numpy(), y_classes.numpy())\n",
    "    confusion_normalized = confusion / confusion.sum(axis=1)\n",
    "    axis_labels = range(2)\n",
    "    ax = sns.heatmap(\n",
    "        confusion_normalized, xticklabels=axis_labels, yticklabels=axis_labels,\n",
    "        cmap='Blues', annot=True, fmt='.4f', square=True)\n",
    "    plt.title(f\"Confusion matrix: {typ}\")\n",
    "    plt.ylabel(\"True label\")\n",
    "    plt.xlabel(\"Predicted label\")\n",
    "\n",
    "train_classes2, test_classes2 = predict_class(y_pred_train2), predict_class(y_pred_test2)"
   ]
  },
  {
   "cell_type": "code",
   "execution_count": 12,
   "metadata": {
    "colab": {
     "base_uri": "https://localhost:8080/",
     "height": 807
    },
    "id": "LaBgBOHaALxT",
    "outputId": "2fadbfd8-2f73-4ba7-fc7c-32ae987d7787"
   },
   "outputs": [
    {
     "data": {
      "image/png": "[encoded data removed]",
      "text/plain": [
       "<Figure size 720x720 with 2 Axes>"
      ]
     },
     "metadata": {
      "needs_background": "light"
     },
     "output_type": "display_data"
    }
   ],
   "source": [
    "show_confusion_matrix2(y_train2, train_classes2, 'Training')"
   ]
  },
  {
   "cell_type": "code",
   "execution_count": 13,
   "metadata": {
    "colab": {
     "base_uri": "https://localhost:8080/",
     "height": 807
    },
    "id": "bfURVD6xCToq",
    "outputId": "f2fc0248-af97-470b-8014-db3fc4ffea6e"
   },
   "outputs": [
    {
     "data": {
      "image/png": "[encoded data removed]",
      "text/plain": [
       "<Figure size 720x720 with 2 Axes>"
      ]
     },
     "metadata": {
      "needs_background": "light"
     },
     "output_type": "display_data"
    }
   ],
   "source": [
    "show_confusion_matrix2(y_test2, test_classes2, 'Testing')"
   ]
  },
  {
   "cell_type": "markdown",
   "metadata": {
    "id": "900wq8ObDyNe"
   },
   "source": [
    "source: https://www.javatpoint.com/k-nearest-neighbor-algorithm-for-machine-learning"
   ]
  }
 ],
 "metadata": {
  "colab": {
   "provenance": []
  },
  "kernelspec": {
   "display_name": "Python 3",
   "language": "python",
   "name": "python3"
  },
  "language_info": {
   "codemirror_mode": {
    "name": "ipython",
    "version": 3
   },
   "file_extension": ".py",
   "mimetype": "text/x-python",
   "name": "python",
   "nbconvert_exporter": "python",
   "pygments_lexer": "ipython3",
   "version": "3.6.13"
  }
 },
 "nbformat": 4,
 "nbformat_minor": 1
}
