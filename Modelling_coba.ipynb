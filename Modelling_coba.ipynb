{
 "cells": [
  {
   "cell_type": "markdown",
   "id": "ba69206d",
   "metadata": {},
   "source": [
    "# MODELLING\n",
    "### Fraud Detection System Development using Deep Neural Network for Reported Transactional Data in DANA"
   ]
  },
  {
   "cell_type": "code",
   "execution_count": 3,
   "id": "b764ca0d",
   "metadata": {},
   "outputs": [
    {
     "name": "stdout",
     "output_type": "stream",
     "text": [
      "Collecting tensorflow\n",
      "  Using cached tensorflow-2.12.0-cp310-cp310-win_amd64.whl (1.9 kB)\n",
      "Collecting tensorflow-intel==2.12.0\n",
      "  Using cached tensorflow_intel-2.12.0-cp310-cp310-win_amd64.whl (272.8 MB)\n",
      "Collecting keras<2.13,>=2.12.0\n",
      "  Using cached keras-2.12.0-py2.py3-none-any.whl (1.7 MB)\n",
      "Requirement already satisfied: protobuf!=4.21.0,!=4.21.1,!=4.21.2,!=4.21.3,!=4.21.4,!=4.21.5,<5.0.0dev,>=3.20.3 in d:\\application\\anaconda\\lib\\site-packages (from tensorflow-intel==2.12.0->tensorflow) (4.22.4)\n",
      "Requirement already satisfied: tensorflow-io-gcs-filesystem>=0.23.1 in d:\\application\\anaconda\\lib\\site-packages (from tensorflow-intel==2.12.0->tensorflow) (0.31.0)\n",
      "Requirement already satisfied: wrapt<1.15,>=1.11.0 in d:\\application\\anaconda\\lib\\site-packages (from tensorflow-intel==2.12.0->tensorflow) (1.14.1)\n",
      "Requirement already satisfied: termcolor>=1.1.0 in d:\\application\\anaconda\\lib\\site-packages (from tensorflow-intel==2.12.0->tensorflow) (2.3.0)\n",
      "Requirement already satisfied: h5py>=2.9.0 in d:\\application\\anaconda\\lib\\site-packages (from tensorflow-intel==2.12.0->tensorflow) (3.7.0)\n",
      "Collecting google-pasta>=0.1.1\n",
      "  Using cached google_pasta-0.2.0-py3-none-any.whl (57 kB)\n",
      "Collecting astunparse>=1.6.0\n",
      "  Using cached astunparse-1.6.3-py2.py3-none-any.whl (12 kB)\n",
      "Requirement already satisfied: libclang>=13.0.0 in d:\\application\\anaconda\\lib\\site-packages (from tensorflow-intel==2.12.0->tensorflow) (16.0.0)\n",
      "Collecting opt-einsum>=2.3.2\n",
      "  Using cached opt_einsum-3.3.0-py3-none-any.whl (65 kB)\n",
      "Collecting grpcio<2.0,>=1.24.3\n",
      "  Using cached grpcio-1.54.0-cp310-cp310-win_amd64.whl (4.1 MB)\n",
      "Requirement already satisfied: tensorflow-estimator<2.13,>=2.12.0 in d:\\application\\anaconda\\lib\\site-packages (from tensorflow-intel==2.12.0->tensorflow) (2.12.0)\n",
      "Collecting tensorboard<2.13,>=2.12\n",
      "  Using cached tensorboard-2.12.3-py3-none-any.whl (5.6 MB)\n",
      "Requirement already satisfied: numpy<1.24,>=1.22 in d:\\application\\anaconda\\lib\\site-packages (from tensorflow-intel==2.12.0->tensorflow) (1.23.5)\n",
      "Requirement already satisfied: typing-extensions>=3.6.6 in d:\\application\\anaconda\\lib\\site-packages (from tensorflow-intel==2.12.0->tensorflow) (4.4.0)\n",
      "Collecting gast<=0.4.0,>=0.2.1\n",
      "  Using cached gast-0.4.0-py3-none-any.whl (9.8 kB)\n",
      "Requirement already satisfied: setuptools in d:\\application\\anaconda\\lib\\site-packages (from tensorflow-intel==2.12.0->tensorflow) (65.6.3)\n",
      "Requirement already satisfied: flatbuffers>=2.0 in d:\\application\\anaconda\\lib\\site-packages (from tensorflow-intel==2.12.0->tensorflow) (23.3.3)\n",
      "Requirement already satisfied: packaging in d:\\application\\anaconda\\lib\\site-packages (from tensorflow-intel==2.12.0->tensorflow) (22.0)\n",
      "Requirement already satisfied: six>=1.12.0 in d:\\application\\anaconda\\lib\\site-packages (from tensorflow-intel==2.12.0->tensorflow) (1.16.0)\n",
      "Collecting absl-py>=1.0.0\n",
      "  Using cached absl_py-1.4.0-py3-none-any.whl (126 kB)\n",
      "Collecting jax>=0.3.15\n",
      "  Using cached jax-0.4.8-py3-none-any.whl\n",
      "Requirement already satisfied: wheel<1.0,>=0.23.0 in d:\\application\\anaconda\\lib\\site-packages (from astunparse>=1.6.0->tensorflow-intel==2.12.0->tensorflow) (0.38.4)\n",
      "Collecting ml-dtypes>=0.0.3\n",
      "  Using cached ml_dtypes-0.1.0-cp310-cp310-win_amd64.whl (120 kB)\n",
      "Requirement already satisfied: scipy>=1.7 in d:\\application\\anaconda\\lib\\site-packages (from jax>=0.3.15->tensorflow-intel==2.12.0->tensorflow) (1.10.0)\n",
      "Collecting google-auth<3,>=1.6.3\n",
      "  Using cached google_auth-2.17.3-py2.py3-none-any.whl (178 kB)\n",
      "Requirement already satisfied: requests<3,>=2.21.0 in d:\\application\\anaconda\\lib\\site-packages (from tensorboard<2.13,>=2.12->tensorflow-intel==2.12.0->tensorflow) (2.28.1)\n",
      "Requirement already satisfied: tensorboard-data-server<0.8.0,>=0.7.0 in d:\\application\\anaconda\\lib\\site-packages (from tensorboard<2.13,>=2.12->tensorflow-intel==2.12.0->tensorflow) (0.7.0)\n",
      "Requirement already satisfied: werkzeug>=1.0.1 in d:\\application\\anaconda\\lib\\site-packages (from tensorboard<2.13,>=2.12->tensorflow-intel==2.12.0->tensorflow) (2.2.2)\n",
      "Collecting google-auth-oauthlib<1.1,>=0.5\n",
      "  Using cached google_auth_oauthlib-1.0.0-py2.py3-none-any.whl (18 kB)\n",
      "Requirement already satisfied: markdown>=2.6.8 in d:\\application\\anaconda\\lib\\site-packages (from tensorboard<2.13,>=2.12->tensorflow-intel==2.12.0->tensorflow) (3.4.1)\n",
      "Requirement already satisfied: rsa<5,>=3.1.4 in d:\\application\\anaconda\\lib\\site-packages (from google-auth<3,>=1.6.3->tensorboard<2.13,>=2.12->tensorflow-intel==2.12.0->tensorflow) (4.9)\n",
      "Collecting cachetools<6.0,>=2.0.0\n",
      "  Using cached cachetools-5.3.0-py3-none-any.whl (9.3 kB)\n",
      "Requirement already satisfied: pyasn1-modules>=0.2.1 in d:\\application\\anaconda\\lib\\site-packages (from google-auth<3,>=1.6.3->tensorboard<2.13,>=2.12->tensorflow-intel==2.12.0->tensorflow) (0.2.8)\n",
      "Collecting requests-oauthlib>=0.7.0\n",
      "  Using cached requests_oauthlib-1.3.1-py2.py3-none-any.whl (23 kB)\n",
      "Requirement already satisfied: urllib3<1.27,>=1.21.1 in d:\\application\\anaconda\\lib\\site-packages (from requests<3,>=2.21.0->tensorboard<2.13,>=2.12->tensorflow-intel==2.12.0->tensorflow) (1.26.14)\n",
      "Requirement already satisfied: idna<4,>=2.5 in d:\\application\\anaconda\\lib\\site-packages (from requests<3,>=2.21.0->tensorboard<2.13,>=2.12->tensorflow-intel==2.12.0->tensorflow) (3.4)\n",
      "Requirement already satisfied: certifi>=2017.4.17 in d:\\application\\anaconda\\lib\\site-packages (from requests<3,>=2.21.0->tensorboard<2.13,>=2.12->tensorflow-intel==2.12.0->tensorflow) (2022.12.7)\n",
      "Requirement already satisfied: charset-normalizer<3,>=2 in d:\\application\\anaconda\\lib\\site-packages (from requests<3,>=2.21.0->tensorboard<2.13,>=2.12->tensorflow-intel==2.12.0->tensorflow) (2.0.4)\n",
      "Requirement already satisfied: MarkupSafe>=2.1.1 in d:\\application\\anaconda\\lib\\site-packages (from werkzeug>=1.0.1->tensorboard<2.13,>=2.12->tensorflow-intel==2.12.0->tensorflow) (2.1.1)\n",
      "Requirement already satisfied: pyasn1<0.5.0,>=0.4.6 in d:\\application\\anaconda\\lib\\site-packages (from pyasn1-modules>=0.2.1->google-auth<3,>=1.6.3->tensorboard<2.13,>=2.12->tensorflow-intel==2.12.0->tensorflow) (0.4.8)\n",
      "Requirement already satisfied: oauthlib>=3.0.0 in d:\\application\\anaconda\\lib\\site-packages (from requests-oauthlib>=0.7.0->google-auth-oauthlib<1.1,>=0.5->tensorboard<2.13,>=2.12->tensorflow-intel==2.12.0->tensorflow) (3.2.2)\n",
      "Installing collected packages: opt-einsum, ml-dtypes, keras, grpcio, google-pasta, gast, cachetools, astunparse, absl-py, requests-oauthlib, jax, google-auth, google-auth-oauthlib, tensorboard, tensorflow-intel, tensorflow\n",
      "Successfully installed absl-py-1.4.0 astunparse-1.6.3 cachetools-5.3.0 gast-0.4.0 google-auth-2.17.3 google-auth-oauthlib-1.0.0 google-pasta-0.2.0 grpcio-1.54.0 jax-0.4.8 keras-2.12.0 ml-dtypes-0.1.0 opt-einsum-3.3.0 requests-oauthlib-1.3.1 tensorboard-2.12.3 tensorflow-2.12.0 tensorflow-intel-2.12.0\n"
     ]
    },
    {
     "name": "stderr",
     "output_type": "stream",
     "text": [
      "  WARNING: The script google-oauthlib-tool.exe is installed in 'C:\\Users\\user\\AppData\\Roaming\\Python\\Python310\\Scripts' which is not on PATH.\n",
      "  Consider adding this directory to PATH or, if you prefer to suppress this warning, use --no-warn-script-location.\n",
      "  WARNING: The script tensorboard.exe is installed in 'C:\\Users\\user\\AppData\\Roaming\\Python\\Python310\\Scripts' which is not on PATH.\n",
      "  Consider adding this directory to PATH or, if you prefer to suppress this warning, use --no-warn-script-location.\n",
      "  WARNING: The scripts estimator_ckpt_converter.exe, import_pb_to_tensorboard.exe, saved_model_cli.exe, tensorboard.exe, tf_upgrade_v2.exe, tflite_convert.exe, toco.exe and toco_from_protos.exe are installed in 'C:\\Users\\user\\AppData\\Roaming\\Python\\Python310\\Scripts' which is not on PATH.\n",
      "  Consider adding this directory to PATH or, if you prefer to suppress this warning, use --no-warn-script-location.\n"
     ]
    }
   ],
   "source": [
    "!pip install tensorflow --user"
   ]
  },
  {
   "cell_type": "code",
   "execution_count": 4,
   "id": "8cd688ac",
   "metadata": {},
   "outputs": [],
   "source": [
    "import pandas as pd\n",
    "import tensorflow as tf\n",
    "import numpy as np"
   ]
  },
  {
   "cell_type": "code",
   "execution_count": 5,
   "id": "1b4b799f",
   "metadata": {},
   "outputs": [],
   "source": [
    "df = pd.read_csv('user_data_clip99_minmax.csv', sep = ';')"
   ]
  },
  {
   "cell_type": "code",
   "execution_count": 6,
   "id": "6cbcc1b5",
   "metadata": {},
   "outputs": [
    {
     "data": {
      "text/html": [
       "<div>\n",
       "<style scoped>\n",
       "    .dataframe tbody tr th:only-of-type {\n",
       "        vertical-align: middle;\n",
       "    }\n",
       "\n",
       "    .dataframe tbody tr th {\n",
       "        vertical-align: top;\n",
       "    }\n",
       "\n",
       "    .dataframe thead th {\n",
       "        text-align: right;\n",
       "    }\n",
       "</style>\n",
       "<table border=\"1\" class=\"dataframe\">\n",
       "  <thead>\n",
       "    <tr style=\"text-align: right;\">\n",
       "      <th></th>\n",
       "      <th>is_scammer</th>\n",
       "      <th>trx_date</th>\n",
       "      <th>report_date</th>\n",
       "      <th>registereddate</th>\n",
       "      <th>birthday</th>\n",
       "      <th>is_verified</th>\n",
       "      <th>aqc_freq_prepaid_mobile</th>\n",
       "      <th>aqc_mean_prepaid_mobile_amount</th>\n",
       "      <th>aqc_freq_topup</th>\n",
       "      <th>aqc_freq_topup_within_7d</th>\n",
       "      <th>...</th>\n",
       "      <th>gender_Male</th>\n",
       "      <th>gender_None</th>\n",
       "      <th>job_position_KARYAWAN</th>\n",
       "      <th>job_position_LAINNYA</th>\n",
       "      <th>job_position_PEGAWAI_NS</th>\n",
       "      <th>job_position_PELAJAR</th>\n",
       "      <th>job_position_RUMAH_TANGGA</th>\n",
       "      <th>job_position_SPESIALIS</th>\n",
       "      <th>job_position_TIDAK_KERJA</th>\n",
       "      <th>job_position_WIRASWASTA</th>\n",
       "    </tr>\n",
       "  </thead>\n",
       "  <tbody>\n",
       "    <tr>\n",
       "      <th>0</th>\n",
       "      <td>0</td>\n",
       "      <td>0.784107</td>\n",
       "      <td>0.714822</td>\n",
       "      <td>0.782440</td>\n",
       "      <td>0.000000</td>\n",
       "      <td>1</td>\n",
       "      <td>0.097656</td>\n",
       "      <td>0.343195</td>\n",
       "      <td>0.171118</td>\n",
       "      <td>0.138889</td>\n",
       "      <td>...</td>\n",
       "      <td>1</td>\n",
       "      <td>0</td>\n",
       "      <td>0</td>\n",
       "      <td>0</td>\n",
       "      <td>0</td>\n",
       "      <td>0</td>\n",
       "      <td>0</td>\n",
       "      <td>0</td>\n",
       "      <td>0</td>\n",
       "      <td>1</td>\n",
       "    </tr>\n",
       "    <tr>\n",
       "      <th>1</th>\n",
       "      <td>1</td>\n",
       "      <td>0.772855</td>\n",
       "      <td>0.704503</td>\n",
       "      <td>0.566964</td>\n",
       "      <td>0.013855</td>\n",
       "      <td>1</td>\n",
       "      <td>0.128906</td>\n",
       "      <td>0.144773</td>\n",
       "      <td>0.379822</td>\n",
       "      <td>0.203704</td>\n",
       "      <td>...</td>\n",
       "      <td>0</td>\n",
       "      <td>0</td>\n",
       "      <td>0</td>\n",
       "      <td>0</td>\n",
       "      <td>0</td>\n",
       "      <td>0</td>\n",
       "      <td>0</td>\n",
       "      <td>0</td>\n",
       "      <td>0</td>\n",
       "      <td>1</td>\n",
       "    </tr>\n",
       "    <tr>\n",
       "      <th>2</th>\n",
       "      <td>1</td>\n",
       "      <td>0.448664</td>\n",
       "      <td>0.269231</td>\n",
       "      <td>0.783333</td>\n",
       "      <td>0.014068</td>\n",
       "      <td>1</td>\n",
       "      <td>0.105469</td>\n",
       "      <td>0.118935</td>\n",
       "      <td>0.067260</td>\n",
       "      <td>0.011574</td>\n",
       "      <td>...</td>\n",
       "      <td>0</td>\n",
       "      <td>0</td>\n",
       "      <td>1</td>\n",
       "      <td>0</td>\n",
       "      <td>0</td>\n",
       "      <td>0</td>\n",
       "      <td>0</td>\n",
       "      <td>0</td>\n",
       "      <td>0</td>\n",
       "      <td>0</td>\n",
       "    </tr>\n",
       "    <tr>\n",
       "      <th>3</th>\n",
       "      <td>1</td>\n",
       "      <td>0.913502</td>\n",
       "      <td>0.884615</td>\n",
       "      <td>0.999405</td>\n",
       "      <td>0.026893</td>\n",
       "      <td>1</td>\n",
       "      <td>0.000000</td>\n",
       "      <td>0.000000</td>\n",
       "      <td>0.012859</td>\n",
       "      <td>0.013889</td>\n",
       "      <td>...</td>\n",
       "      <td>1</td>\n",
       "      <td>0</td>\n",
       "      <td>1</td>\n",
       "      <td>0</td>\n",
       "      <td>0</td>\n",
       "      <td>0</td>\n",
       "      <td>0</td>\n",
       "      <td>0</td>\n",
       "      <td>0</td>\n",
       "      <td>0</td>\n",
       "    </tr>\n",
       "    <tr>\n",
       "      <th>4</th>\n",
       "      <td>1</td>\n",
       "      <td>0.870605</td>\n",
       "      <td>0.827392</td>\n",
       "      <td>0.893155</td>\n",
       "      <td>0.053004</td>\n",
       "      <td>1</td>\n",
       "      <td>0.000000</td>\n",
       "      <td>0.000000</td>\n",
       "      <td>0.064293</td>\n",
       "      <td>0.060185</td>\n",
       "      <td>...</td>\n",
       "      <td>1</td>\n",
       "      <td>0</td>\n",
       "      <td>1</td>\n",
       "      <td>0</td>\n",
       "      <td>0</td>\n",
       "      <td>0</td>\n",
       "      <td>0</td>\n",
       "      <td>0</td>\n",
       "      <td>0</td>\n",
       "      <td>0</td>\n",
       "    </tr>\n",
       "  </tbody>\n",
       "</table>\n",
       "<p>5 rows × 56 columns</p>\n",
       "</div>"
      ],
      "text/plain": [
       "   is_scammer  trx_date  report_date  registereddate  birthday  is_verified   \n",
       "0           0  0.784107     0.714822        0.782440  0.000000            1  \\\n",
       "1           1  0.772855     0.704503        0.566964  0.013855            1   \n",
       "2           1  0.448664     0.269231        0.783333  0.014068            1   \n",
       "3           1  0.913502     0.884615        0.999405  0.026893            1   \n",
       "4           1  0.870605     0.827392        0.893155  0.053004            1   \n",
       "\n",
       "   aqc_freq_prepaid_mobile  aqc_mean_prepaid_mobile_amount  aqc_freq_topup   \n",
       "0                 0.097656                        0.343195        0.171118  \\\n",
       "1                 0.128906                        0.144773        0.379822   \n",
       "2                 0.105469                        0.118935        0.067260   \n",
       "3                 0.000000                        0.000000        0.012859   \n",
       "4                 0.000000                        0.000000        0.064293   \n",
       "\n",
       "   aqc_freq_topup_within_7d  ...  gender_Male  gender_None   \n",
       "0                  0.138889  ...            1            0  \\\n",
       "1                  0.203704  ...            0            0   \n",
       "2                  0.011574  ...            0            0   \n",
       "3                  0.013889  ...            1            0   \n",
       "4                  0.060185  ...            1            0   \n",
       "\n",
       "   job_position_KARYAWAN  job_position_LAINNYA  job_position_PEGAWAI_NS   \n",
       "0                      0                     0                        0  \\\n",
       "1                      0                     0                        0   \n",
       "2                      1                     0                        0   \n",
       "3                      1                     0                        0   \n",
       "4                      1                     0                        0   \n",
       "\n",
       "   job_position_PELAJAR  job_position_RUMAH_TANGGA  job_position_SPESIALIS   \n",
       "0                     0                          0                       0  \\\n",
       "1                     0                          0                       0   \n",
       "2                     0                          0                       0   \n",
       "3                     0                          0                       0   \n",
       "4                     0                          0                       0   \n",
       "\n",
       "   job_position_TIDAK_KERJA  job_position_WIRASWASTA  \n",
       "0                         0                        1  \n",
       "1                         0                        1  \n",
       "2                         0                        0  \n",
       "3                         0                        0  \n",
       "4                         0                        0  \n",
       "\n",
       "[5 rows x 56 columns]"
      ]
     },
     "execution_count": 6,
     "metadata": {},
     "output_type": "execute_result"
    }
   ],
   "source": [
    "df = df.rename(columns={\"Unnamed: 0\": \"id\"})\n",
    "df = df.drop(columns = ['uid', 'id'])\n",
    "df.head()"
   ]
  },
  {
   "cell_type": "code",
   "execution_count": 16,
   "id": "cdddf7e1",
   "metadata": {},
   "outputs": [],
   "source": [
    "# Split Train and Validation Dataset\n",
    "#from sklearn.model_selection import train_test_split\n",
    "SPLIT_SIZE = 0.9\n",
    "\n",
    "train_len = int(len(df) * SPLIT_SIZE)\n",
    "\n",
    "shuffled_files = df.sample(frac = 1, random_state = 1)\n",
    "\n",
    "test_set = shuffled_files[train_len:]\n",
    "train_set = shuffled_files[:train_len]\n",
    "\n",
    "y_train = train_set['is_scammer']\n",
    "x_train = train_set.drop(columns=['is_scammer'])\n",
    "y_test = test_set['is_scammer']\n",
    "x_test = test_set.drop(columns=['is_scammer'])"
   ]
  },
  {
   "cell_type": "code",
   "execution_count": 17,
   "id": "9cb6778c",
   "metadata": {},
   "outputs": [],
   "source": [
    "x_train, y_train = tf.convert_to_tensor(x_train, dtype=tf.float32), tf.convert_to_tensor(y_train, dtype=tf.float32)\n",
    "x_test, y_test = tf.convert_to_tensor(x_test, dtype=tf.float32), tf.convert_to_tensor(y_test, dtype=tf.float32)"
   ]
  },
  {
   "cell_type": "markdown",
   "id": "16f15169",
   "metadata": {},
   "source": [
    "model = tf.keras.models.Sequential([\n",
    "    tf.keras.layers.Dense(64, activation='relu', input_shape=(x_train.shape[1])),\n",
    "    tf.keras.layers.Dense(32, activation='relu'),\n",
    "    tf.keras.layers.Dense(1, activation='sigmoid')\n",
    "])"
   ]
  },
  {
   "cell_type": "markdown",
   "id": "48c743d6",
   "metadata": {},
   "source": [
    "model.compile(optimizer=tf.keras.optimizers.Adam(learning_rate = 0.001),\n",
    "                loss='binary_crossentropy',\n",
    "                metrics=['accuracy'])"
   ]
  },
  {
   "cell_type": "markdown",
   "id": "f15fb116",
   "metadata": {},
   "source": [
    "history = model.fit(train_generator,\n",
    "                    epochs=15,\n",
    "                    verbose=1,\n",
    "                    validation_data=validation_generator)"
   ]
  },
  {
   "cell_type": "code",
   "execution_count": 18,
   "id": "6abfece9",
   "metadata": {},
   "outputs": [],
   "source": [
    "def log_loss(y_pred, y):\n",
    "    # Compute the log loss function\n",
    "    ce = tf.nn.sigmoid_cross_entropy_with_logits(labels=y, logits=y_pred)\n",
    "    return tf.reduce_mean(ce)"
   ]
  },
  {
   "cell_type": "code",
   "execution_count": 19,
   "id": "b2a69008",
   "metadata": {},
   "outputs": [],
   "source": [
    "class LogisticRegression(tf.Module):\n",
    "    \n",
    "    def __init__(self):\n",
    "        self.built = False\n",
    "        \n",
    "    def __call__(self, x, train=True):\n",
    "        # Initialize the model parameters on the first call\n",
    "        if not self.built:\n",
    "            # Randomly generate the weights and the bias term\n",
    "            rand_w = tf.random.uniform(shape=[x.shape[-1], 1], seed=22)\n",
    "            rand_b = tf.random.uniform(shape=[], seed=22)\n",
    "            self.w = tf.Variable(rand_w)\n",
    "            self.b = tf.Variable(rand_b)\n",
    "            self.built = True\n",
    "        # Compute the model output\n",
    "        z = tf.add(tf.matmul(x, self.w), self.b)\n",
    "        z = tf.squeeze(z, axis=1)\n",
    "        if train:\n",
    "            return z\n",
    "        return tf.sigmoid(z)"
   ]
  },
  {
   "cell_type": "code",
   "execution_count": 20,
   "id": "dc7de073",
   "metadata": {},
   "outputs": [],
   "source": [
    "log_reg = LogisticRegression()"
   ]
  },
  {
   "cell_type": "code",
   "execution_count": 21,
   "id": "57615118",
   "metadata": {},
   "outputs": [
    {
     "data": {
      "text/plain": [
       "array([0.9972495 , 0.9997422 , 0.99273765, 0.99855345, 0.99548805],\n",
       "      dtype=float32)"
      ]
     },
     "execution_count": 21,
     "metadata": {},
     "output_type": "execute_result"
    }
   ],
   "source": [
    "y_pred = log_reg(x_train[:5], train=False)\n",
    "y_pred.numpy()"
   ]
  },
  {
   "cell_type": "code",
   "execution_count": 22,
   "id": "c6e29539",
   "metadata": {},
   "outputs": [],
   "source": [
    "def predict_class(y_pred, thresh=0.5):\n",
    "    # Return a tensor with  `1` if `y_pred` > `0.5`, and `0` otherwise\n",
    "    return tf.cast(y_pred > thresh, tf.float32)\n",
    "\n",
    "def accuracy(y_pred, y):\n",
    "    # Return the proportion of matches between `y_pred` and `y`\n",
    "    y_pred = tf.math.sigmoid(y_pred)\n",
    "    y_pred_class = predict_class(y_pred)\n",
    "    check_equal = tf.cast(y_pred_class == y,tf.float32)\n",
    "    acc_val = tf.reduce_mean(check_equal)\n",
    "    return acc_val"
   ]
  },
  {
   "cell_type": "code",
   "execution_count": 24,
   "id": "67f25016",
   "metadata": {},
   "outputs": [],
   "source": [
    "batch_size = 64\n",
    "\n",
    "train_dataset = tf.data.Dataset.from_tensor_slices((x_train, y_train))\n",
    "train_dataset = train_dataset.batch(batch_size)\n",
    "\n",
    "test_dataset = tf.data.Dataset.from_tensor_slices((x_test, y_test))\n",
    "test_dataset = test_dataset.batch(batch_size)"
   ]
  },
  {
   "cell_type": "code",
   "execution_count": 25,
   "id": "f6e827a2",
   "metadata": {},
   "outputs": [
    {
     "name": "stdout",
     "output_type": "stream",
     "text": [
      "Epoch: 0, Training log loss: 2.675\n",
      "Epoch: 20, Training log loss: 0.284\n",
      "Epoch: 40, Training log loss: 0.164\n",
      "Epoch: 60, Training log loss: 0.113\n",
      "Epoch: 80, Training log loss: 0.086\n",
      "Epoch: 100, Training log loss: 0.069\n",
      "Epoch: 120, Training log loss: 0.057\n",
      "Epoch: 140, Training log loss: 0.049\n",
      "Epoch: 160, Training log loss: 0.043\n",
      "Epoch: 180, Training log loss: 0.038\n"
     ]
    }
   ],
   "source": [
    "# Set training parameters\n",
    "epochs = 200\n",
    "learning_rate = 0.001\n",
    "train_losses, test_losses = [], []\n",
    "train_accs, test_accs = [], []\n",
    "\n",
    "# Set up the training loop and begin training\n",
    "for epoch in range(epochs):\n",
    "    batch_losses_train, batch_accs_train = [], []\n",
    "    batch_losses_test, batch_accs_test = [], []\n",
    "\n",
    "    # Iterate over the training data\n",
    "    for x_batch, y_batch in train_dataset:\n",
    "        with tf.GradientTape() as tape:\n",
    "            y_pred_batch = log_reg(x_batch)\n",
    "            batch_loss = log_loss(y_pred_batch, y_batch)\n",
    "        batch_acc = accuracy(y_pred_batch, y_batch)\n",
    "        # Update the parameters with respect to the gradient calculations\n",
    "        grads = tape.gradient(batch_loss, log_reg.variables)\n",
    "        for g,v in zip(grads, log_reg.variables):\n",
    "            v.assign_sub(learning_rate * g)\n",
    "        # Keep track of batch-level training performance\n",
    "        batch_losses_train.append(batch_loss)\n",
    "        batch_accs_train.append(batch_acc)\n",
    "\n",
    "    # Iterate over the testing data\n",
    "    for x_batch, y_batch in test_dataset:\n",
    "        y_pred_batch = log_reg(x_batch)\n",
    "        batch_loss = log_loss(y_pred_batch, y_batch)\n",
    "        batch_acc = accuracy(y_pred_batch, y_batch)\n",
    "        # Keep track of batch-level testing performance\n",
    "        batch_losses_test.append(batch_loss)\n",
    "        batch_accs_test.append(batch_acc)\n",
    "\n",
    "    # Keep track of epoch-level model performance\n",
    "    train_loss, train_acc = tf.reduce_mean(batch_losses_train), tf.reduce_mean(batch_accs_train)\n",
    "    test_loss, test_acc = tf.reduce_mean(batch_losses_test), tf.reduce_mean(batch_accs_test)\n",
    "    train_losses.append(train_loss)\n",
    "    train_accs.append(train_acc)\n",
    "    test_losses.append(test_loss)\n",
    "    test_accs.append(test_acc)\n",
    "    if epoch % 20 == 0:\n",
    "        print(f\"Epoch: {epoch}, Training log loss: {train_loss:.3f}\")"
   ]
  },
  {
   "cell_type": "code",
   "execution_count": 27,
   "id": "8b1bab57",
   "metadata": {},
   "outputs": [
    {
     "data": {
      "image/png": "[encoded data removed]",
      "text/plain": [
       "<Figure size 640x480 with 1 Axes>"
      ]
     },
     "metadata": {},
     "output_type": "display_data"
    }
   ],
   "source": [
    "import matplotlib.pyplot as plt\n",
    "plt.plot(range(epochs), train_losses, label = \"Training loss\")\n",
    "plt.plot(range(epochs), test_losses, label = \"Testing loss\")\n",
    "plt.xlabel(\"Epoch\")\n",
    "plt.ylabel(\"Log loss\")\n",
    "plt.legend()\n",
    "plt.title(\"Log loss vs training iterations\");"
   ]
  },
  {
   "cell_type": "code",
   "execution_count": 28,
   "id": "75f9faf4",
   "metadata": {},
   "outputs": [
    {
     "data": {
      "image/png": "[encoded data removed]",
      "text/plain": [
       "<Figure size 640x480 with 1 Axes>"
      ]
     },
     "metadata": {},
     "output_type": "display_data"
    }
   ],
   "source": [
    "plt.plot(range(epochs), train_accs, label = \"Training accuracy\")\n",
    "plt.plot(range(epochs), test_accs, label = \"Testing accuracy\")\n",
    "plt.xlabel(\"Epoch\")\n",
    "plt.ylabel(\"Accuracy (%)\")\n",
    "plt.legend()\n",
    "plt.title(\"Accuracy vs training iterations\");"
   ]
  },
  {
   "cell_type": "code",
   "execution_count": 29,
   "id": "4bd1fab2",
   "metadata": {},
   "outputs": [
    {
     "name": "stdout",
     "output_type": "stream",
     "text": [
      "Final training log loss: 0.034\n",
      "Final testing log Loss: 0.035\n"
     ]
    }
   ],
   "source": [
    "print(f\"Final training log loss: {train_losses[-1]:.3f}\")\n",
    "print(f\"Final testing log Loss: {test_losses[-1]:.3f}\")"
   ]
  },
  {
   "cell_type": "code",
   "execution_count": 30,
   "id": "bd2901ea",
   "metadata": {},
   "outputs": [
    {
     "name": "stdout",
     "output_type": "stream",
     "text": [
      "Final training accuracy: 1.000\n",
      "Final testing accuracy: 1.000\n"
     ]
    }
   ],
   "source": [
    "print(f\"Final training accuracy: {train_accs[-1]:.3f}\")\n",
    "print(f\"Final testing accuracy: {test_accs[-1]:.3f}\")"
   ]
  },
  {
   "cell_type": "code",
   "execution_count": 37,
   "id": "50e96aed",
   "metadata": {},
   "outputs": [],
   "source": [
    "import sklearn.metrics as metrics\n",
    "\n",
    "def show_confusion_matrix(y, y_classes, typ):\n",
    "    # Compute the confusion matrix and normalize it\n",
    "    plt.figure(figsize=(10,10))\n",
    "    confusion = metrics.confusion_matrix(y.numpy(), y_classes.numpy())\n",
    "    confusion_normalized = confusion / confusion.sum(axis=1)\n",
    "    axis_labels = range(2)\n",
    "    ax = sns.heatmap(\n",
    "        confusion_normalized, xticklabels=axis_labels, yticklabels=axis_labels,\n",
    "        cmap='Blues', annot=True, fmt='.4f', square=True)\n",
    "    plt.title(f\"Confusion matrix: {typ}\")\n",
    "    plt.ylabel(\"True label\")\n",
    "    plt.xlabel(\"Predicted label\")\n",
    "\n",
    "y_pred_train, y_pred_test = log_reg(x_train, train=False), log_reg(x_test, train=False)\n",
    "train_classes, test_classes = predict_class(y_pred_train), predict_class(y_pred_test)"
   ]
  },
  {
   "cell_type": "code",
   "execution_count": 39,
   "id": "87bc4a4f",
   "metadata": {},
   "outputs": [
    {
     "data": {
      "image/png": "[encoded data removed]",
      "text/plain": [
       "<Figure size 1000x1000 with 2 Axes>"
      ]
     },
     "metadata": {},
     "output_type": "display_data"
    }
   ],
   "source": [
    "from sklearn import metrics\n",
    "import seaborn as sns\n",
    "show_confusion_matrix(y_train, train_classes, 'Training')"
   ]
  },
  {
   "cell_type": "code",
   "execution_count": 40,
   "id": "94395631",
   "metadata": {
    "scrolled": false
   },
   "outputs": [
    {
     "data": {
      "image/png": "[encoded data removed]",
      "text/plain": [
       "<Figure size 1000x1000 with 2 Axes>"
      ]
     },
     "metadata": {},
     "output_type": "display_data"
    }
   ],
   "source": [
    "show_confusion_matrix(y_test, test_classes, 'Testing')"
   ]
  },
  {
   "cell_type": "markdown",
   "id": "1eeb0d07",
   "metadata": {},
   "source": [
    "Source:\n",
    "https://www.tensorflow.org/guide/core/logistic_regression_core"
   ]
  }
 ],
 "metadata": {
  "kernelspec": {
   "display_name": "Python 3 (ipykernel)",
   "language": "python",
   "name": "python3"
  },
  "language_info": {
   "codemirror_mode": {
    "name": "ipython",
    "version": 3
   },
   "file_extension": ".py",
   "mimetype": "text/x-python",
   "name": "python",
   "nbconvert_exporter": "python",
   "pygments_lexer": "ipython3",
   "version": "3.10.9"
  }
 },
 "nbformat": 4,
 "nbformat_minor": 5
}
