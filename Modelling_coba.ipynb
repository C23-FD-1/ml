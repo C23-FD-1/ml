{
 "cells": [
  {
   "cell_type": "markdown",
   "id": "ba69206d",
   "metadata": {},
   "source": [
    "# MODELLING\n",
    "## Logistic Regression with Tensorflow Core API\n",
    "### Fraud Detection System Development using Deep Neural Network for Reported Transactional Data in DANA"
   ]
  },
  {
   "cell_type": "markdown",
   "id": "1104f324",
   "metadata": {},
   "source": [
    "#### Import Libraries"
   ]
  },
  {
   "cell_type": "code",
   "execution_count": 1,
   "id": "8cd688ac",
   "metadata": {},
   "outputs": [],
   "source": [
    "import pandas as pd\n",
    "import tensorflow as tf\n",
    "import numpy as np"
   ]
  },
  {
   "cell_type": "markdown",
   "id": "48876501",
   "metadata": {},
   "source": [
    "#### Read CSV File"
   ]
  },
  {
   "cell_type": "code",
   "execution_count": 2,
   "id": "1b4b799f",
   "metadata": {},
   "outputs": [],
   "source": [
    "df = pd.read_csv('user_data_clip99_minmax.csv', sep = ';')"
   ]
  },
  {
   "cell_type": "code",
   "execution_count": 3,
   "id": "6cbcc1b5",
   "metadata": {
    "scrolled": true
   },
   "outputs": [
    {
     "data": {
      "text/html": [
       "<div>\n",
       "<style scoped>\n",
       "    .dataframe tbody tr th:only-of-type {\n",
       "        vertical-align: middle;\n",
       "    }\n",
       "\n",
       "    .dataframe tbody tr th {\n",
       "        vertical-align: top;\n",
       "    }\n",
       "\n",
       "    .dataframe thead th {\n",
       "        text-align: right;\n",
       "    }\n",
       "</style>\n",
       "<table border=\"1\" class=\"dataframe\">\n",
       "  <thead>\n",
       "    <tr style=\"text-align: right;\">\n",
       "      <th></th>\n",
       "      <th>is_scammer</th>\n",
       "      <th>trx_date</th>\n",
       "      <th>report_date</th>\n",
       "      <th>registereddate</th>\n",
       "      <th>birthday</th>\n",
       "      <th>is_verified</th>\n",
       "      <th>aqc_freq_prepaid_mobile</th>\n",
       "      <th>aqc_mean_prepaid_mobile_amount</th>\n",
       "      <th>aqc_freq_topup</th>\n",
       "      <th>aqc_freq_topup_within_7d</th>\n",
       "      <th>...</th>\n",
       "      <th>gender_Male</th>\n",
       "      <th>gender_None</th>\n",
       "      <th>job_position_KARYAWAN</th>\n",
       "      <th>job_position_LAINNYA</th>\n",
       "      <th>job_position_PEGAWAI_NS</th>\n",
       "      <th>job_position_PELAJAR</th>\n",
       "      <th>job_position_RUMAH_TANGGA</th>\n",
       "      <th>job_position_SPESIALIS</th>\n",
       "      <th>job_position_TIDAK_KERJA</th>\n",
       "      <th>job_position_WIRASWASTA</th>\n",
       "    </tr>\n",
       "  </thead>\n",
       "  <tbody>\n",
       "    <tr>\n",
       "      <th>0</th>\n",
       "      <td>1</td>\n",
       "      <td>0.376934</td>\n",
       "      <td>0.005629</td>\n",
       "      <td>0.673512</td>\n",
       "      <td>0.909517</td>\n",
       "      <td>1</td>\n",
       "      <td>0.019455</td>\n",
       "      <td>0.456958</td>\n",
       "      <td>0.022750</td>\n",
       "      <td>0.007009</td>\n",
       "      <td>...</td>\n",
       "      <td>0</td>\n",
       "      <td>0</td>\n",
       "      <td>0</td>\n",
       "      <td>0</td>\n",
       "      <td>0</td>\n",
       "      <td>1</td>\n",
       "      <td>0</td>\n",
       "      <td>0</td>\n",
       "      <td>0</td>\n",
       "      <td>0</td>\n",
       "    </tr>\n",
       "    <tr>\n",
       "      <th>1</th>\n",
       "      <td>0</td>\n",
       "      <td>0.552039</td>\n",
       "      <td>0.632270</td>\n",
       "      <td>0.784524</td>\n",
       "      <td>0.948204</td>\n",
       "      <td>1</td>\n",
       "      <td>0.000000</td>\n",
       "      <td>0.000000</td>\n",
       "      <td>0.038576</td>\n",
       "      <td>0.074766</td>\n",
       "      <td>...</td>\n",
       "      <td>1</td>\n",
       "      <td>0</td>\n",
       "      <td>0</td>\n",
       "      <td>0</td>\n",
       "      <td>0</td>\n",
       "      <td>1</td>\n",
       "      <td>0</td>\n",
       "      <td>0</td>\n",
       "      <td>0</td>\n",
       "      <td>0</td>\n",
       "    </tr>\n",
       "    <tr>\n",
       "      <th>2</th>\n",
       "      <td>0</td>\n",
       "      <td>0.772855</td>\n",
       "      <td>0.696998</td>\n",
       "      <td>0.783631</td>\n",
       "      <td>0.766422</td>\n",
       "      <td>1</td>\n",
       "      <td>0.077821</td>\n",
       "      <td>0.324991</td>\n",
       "      <td>0.683482</td>\n",
       "      <td>0.271028</td>\n",
       "      <td>...</td>\n",
       "      <td>1</td>\n",
       "      <td>0</td>\n",
       "      <td>0</td>\n",
       "      <td>0</td>\n",
       "      <td>0</td>\n",
       "      <td>0</td>\n",
       "      <td>0</td>\n",
       "      <td>0</td>\n",
       "      <td>0</td>\n",
       "      <td>1</td>\n",
       "    </tr>\n",
       "    <tr>\n",
       "      <th>3</th>\n",
       "      <td>0</td>\n",
       "      <td>0.535865</td>\n",
       "      <td>0.550657</td>\n",
       "      <td>0.565476</td>\n",
       "      <td>0.974102</td>\n",
       "      <td>1</td>\n",
       "      <td>0.042802</td>\n",
       "      <td>0.200904</td>\n",
       "      <td>0.092977</td>\n",
       "      <td>0.042056</td>\n",
       "      <td>...</td>\n",
       "      <td>0</td>\n",
       "      <td>0</td>\n",
       "      <td>0</td>\n",
       "      <td>0</td>\n",
       "      <td>0</td>\n",
       "      <td>1</td>\n",
       "      <td>0</td>\n",
       "      <td>0</td>\n",
       "      <td>0</td>\n",
       "      <td>0</td>\n",
       "    </tr>\n",
       "    <tr>\n",
       "      <th>4</th>\n",
       "      <td>0</td>\n",
       "      <td>0.786920</td>\n",
       "      <td>0.715760</td>\n",
       "      <td>0.999702</td>\n",
       "      <td>0.688586</td>\n",
       "      <td>1</td>\n",
       "      <td>0.000000</td>\n",
       "      <td>0.000000</td>\n",
       "      <td>0.031652</td>\n",
       "      <td>0.056075</td>\n",
       "      <td>...</td>\n",
       "      <td>1</td>\n",
       "      <td>0</td>\n",
       "      <td>0</td>\n",
       "      <td>0</td>\n",
       "      <td>0</td>\n",
       "      <td>0</td>\n",
       "      <td>0</td>\n",
       "      <td>0</td>\n",
       "      <td>0</td>\n",
       "      <td>1</td>\n",
       "    </tr>\n",
       "  </tbody>\n",
       "</table>\n",
       "<p>5 rows × 56 columns</p>\n",
       "</div>"
      ],
      "text/plain": [
       "   is_scammer  trx_date  report_date  registereddate  birthday  is_verified   \n",
       "0           1  0.376934     0.005629        0.673512  0.909517            1  \\\n",
       "1           0  0.552039     0.632270        0.784524  0.948204            1   \n",
       "2           0  0.772855     0.696998        0.783631  0.766422            1   \n",
       "3           0  0.535865     0.550657        0.565476  0.974102            1   \n",
       "4           0  0.786920     0.715760        0.999702  0.688586            1   \n",
       "\n",
       "   aqc_freq_prepaid_mobile  aqc_mean_prepaid_mobile_amount  aqc_freq_topup   \n",
       "0                 0.019455                        0.456958        0.022750  \\\n",
       "1                 0.000000                        0.000000        0.038576   \n",
       "2                 0.077821                        0.324991        0.683482   \n",
       "3                 0.042802                        0.200904        0.092977   \n",
       "4                 0.000000                        0.000000        0.031652   \n",
       "\n",
       "   aqc_freq_topup_within_7d  ...  gender_Male  gender_None   \n",
       "0                  0.007009  ...            0            0  \\\n",
       "1                  0.074766  ...            1            0   \n",
       "2                  0.271028  ...            1            0   \n",
       "3                  0.042056  ...            0            0   \n",
       "4                  0.056075  ...            1            0   \n",
       "\n",
       "   job_position_KARYAWAN  job_position_LAINNYA  job_position_PEGAWAI_NS   \n",
       "0                      0                     0                        0  \\\n",
       "1                      0                     0                        0   \n",
       "2                      0                     0                        0   \n",
       "3                      0                     0                        0   \n",
       "4                      0                     0                        0   \n",
       "\n",
       "   job_position_PELAJAR  job_position_RUMAH_TANGGA  job_position_SPESIALIS   \n",
       "0                     1                          0                       0  \\\n",
       "1                     1                          0                       0   \n",
       "2                     0                          0                       0   \n",
       "3                     1                          0                       0   \n",
       "4                     0                          0                       0   \n",
       "\n",
       "   job_position_TIDAK_KERJA  job_position_WIRASWASTA  \n",
       "0                         0                        0  \n",
       "1                         0                        0  \n",
       "2                         0                        1  \n",
       "3                         0                        0  \n",
       "4                         0                        1  \n",
       "\n",
       "[5 rows x 56 columns]"
      ]
     },
     "execution_count": 3,
     "metadata": {},
     "output_type": "execute_result"
    }
   ],
   "source": [
    "df = df.rename(columns={\"Unnamed: 0\": \"id\"})\n",
    "df = df.drop(columns = ['uid', 'id'])\n",
    "df.head()"
   ]
  },
  {
   "cell_type": "markdown",
   "id": "e8e81c78",
   "metadata": {},
   "source": [
    "#### Preparing Train and Validation Dataset"
   ]
  },
  {
   "cell_type": "code",
   "execution_count": 4,
   "id": "cdddf7e1",
   "metadata": {},
   "outputs": [],
   "source": [
    "# Split Train and Validation Dataset\n",
    "#from sklearn.model_selection import train_test_split\n",
    "SPLIT_SIZE = 0.7368421\n",
    "\n",
    "train_len = int(len(df) * SPLIT_SIZE)\n",
    "\n",
    "shuffled_files = df.sample(frac = 1, random_state = 1)\n",
    "\n",
    "test_set = shuffled_files[train_len:]\n",
    "train_set = shuffled_files[:train_len]\n",
    "\n",
    "y_train = train_set['is_scammer']\n",
    "x_train = train_set.drop(columns=['is_scammer'])\n",
    "y_test = test_set['is_scammer']\n",
    "x_test = test_set.drop(columns=['is_scammer'])"
   ]
  },
  {
   "cell_type": "code",
   "execution_count": 5,
   "id": "83c09f8b",
   "metadata": {},
   "outputs": [
    {
     "data": {
      "text/plain": [
       "is_scammer\n",
       "0    15192\n",
       "1    14809\n",
       "Name: count, dtype: int64"
      ]
     },
     "execution_count": 5,
     "metadata": {},
     "output_type": "execute_result"
    }
   ],
   "source": [
    "y_train.value_counts()"
   ]
  },
  {
   "cell_type": "code",
   "execution_count": 6,
   "id": "4ea2a35f",
   "metadata": {},
   "outputs": [
    {
     "data": {
      "text/plain": [
       "is_scammer\n",
       "0    5475\n",
       "1    5241\n",
       "Name: count, dtype: int64"
      ]
     },
     "execution_count": 6,
     "metadata": {},
     "output_type": "execute_result"
    }
   ],
   "source": [
    "y_test.value_counts()"
   ]
  },
  {
   "cell_type": "code",
   "execution_count": 7,
   "id": "9cb6778c",
   "metadata": {},
   "outputs": [],
   "source": [
    "# Convert to tensors\n",
    "x_train, y_train = tf.convert_to_tensor(x_train, dtype=tf.float32), tf.convert_to_tensor(y_train, dtype=tf.float32)\n",
    "x_test, y_test = tf.convert_to_tensor(x_test, dtype=tf.float32), tf.convert_to_tensor(y_test, dtype=tf.float32)"
   ]
  },
  {
   "cell_type": "markdown",
   "id": "16f15169",
   "metadata": {},
   "source": [
    "model = tf.keras.models.Sequential([\n",
    "    tf.keras.layers.Dense(64, activation='relu', input_shape=(x_train.shape[1])),\n",
    "    tf.keras.layers.Dense(32, activation='relu'),\n",
    "    tf.keras.layers.Dense(1, activation='sigmoid')\n",
    "])"
   ]
  },
  {
   "cell_type": "markdown",
   "id": "48c743d6",
   "metadata": {},
   "source": [
    "model.compile(optimizer=tf.keras.optimizers.Adam(learning_rate = 0.001),\n",
    "                loss='binary_crossentropy',\n",
    "                metrics=['accuracy'])"
   ]
  },
  {
   "cell_type": "markdown",
   "id": "f15fb116",
   "metadata": {},
   "source": [
    "history = model.fit(train_generator,\n",
    "                    epochs=15,\n",
    "                    verbose=1,\n",
    "                    validation_data=validation_generator)"
   ]
  },
  {
   "cell_type": "markdown",
   "id": "0b2f6930",
   "metadata": {},
   "source": [
    "#### Modelling"
   ]
  },
  {
   "cell_type": "code",
   "execution_count": 8,
   "id": "6abfece9",
   "metadata": {},
   "outputs": [],
   "source": [
    "def log_loss(y_pred, y):\n",
    "    # Compute the log loss function\n",
    "    ce = tf.nn.sigmoid_cross_entropy_with_logits(labels=y, logits=y_pred)\n",
    "    return tf.reduce_mean(ce)"
   ]
  },
  {
   "cell_type": "code",
   "execution_count": 9,
   "id": "b2a69008",
   "metadata": {},
   "outputs": [],
   "source": [
    "class LogisticRegression(tf.Module):\n",
    "    \n",
    "    def __init__(self):\n",
    "        self.built = False\n",
    "        \n",
    "    def __call__(self, x, train=True):\n",
    "        # Initialize the model parameters on the first call\n",
    "        if not self.built:\n",
    "            # Randomly generate the weights and the bias term\n",
    "            rand_w = tf.random.uniform(shape=[x.shape[-1], 1], seed=22)\n",
    "            rand_b = tf.random.uniform(shape=[], seed=22)\n",
    "            self.w = tf.Variable(rand_w)\n",
    "            self.b = tf.Variable(rand_b)\n",
    "            self.built = True\n",
    "        # Compute the model output\n",
    "        z = tf.add(tf.matmul(x, self.w), self.b)\n",
    "        z = tf.squeeze(z, axis=1)\n",
    "        if train:\n",
    "            return z\n",
    "        return tf.sigmoid(z)"
   ]
  },
  {
   "cell_type": "code",
   "execution_count": 10,
   "id": "dc7de073",
   "metadata": {},
   "outputs": [],
   "source": [
    "log_reg = LogisticRegression()"
   ]
  },
  {
   "cell_type": "code",
   "execution_count": 11,
   "id": "57615118",
   "metadata": {},
   "outputs": [
    {
     "data": {
      "text/plain": [
       "array([0.9977224 , 0.9939011 , 0.995665  , 0.99588495, 0.99782157],\n",
       "      dtype=float32)"
      ]
     },
     "execution_count": 11,
     "metadata": {},
     "output_type": "execute_result"
    }
   ],
   "source": [
    "y_pred = log_reg(x_train[:5], train=False)\n",
    "y_pred.numpy()"
   ]
  },
  {
   "cell_type": "code",
   "execution_count": 12,
   "id": "c6e29539",
   "metadata": {},
   "outputs": [],
   "source": [
    "def predict_class(y_pred, thresh=0.5):\n",
    "    # Return a tensor with  `1` if `y_pred` > `0.5`, and `0` otherwise\n",
    "    return tf.cast(y_pred > thresh, tf.float32)\n",
    "\n",
    "def accuracy(y_pred, y):\n",
    "    # Return the proportion of matches between `y_pred` and `y`\n",
    "    y_pred = tf.math.sigmoid(y_pred)\n",
    "    y_pred_class = predict_class(y_pred)\n",
    "    check_equal = tf.cast(y_pred_class == y,tf.float32)\n",
    "    acc_val = tf.reduce_mean(check_equal)\n",
    "    return acc_val"
   ]
  },
  {
   "cell_type": "code",
   "execution_count": 13,
   "id": "67f25016",
   "metadata": {},
   "outputs": [],
   "source": [
    "batch_size = 64\n",
    "\n",
    "train_dataset = tf.data.Dataset.from_tensor_slices((x_train, y_train))\n",
    "train_dataset = train_dataset.batch(batch_size)\n",
    "\n",
    "test_dataset = tf.data.Dataset.from_tensor_slices((x_test, y_test))\n",
    "test_dataset = test_dataset.batch(batch_size)"
   ]
  },
  {
   "cell_type": "code",
   "execution_count": 14,
   "id": "f6e827a2",
   "metadata": {},
   "outputs": [
    {
     "name": "stdout",
     "output_type": "stream",
     "text": [
      "Epoch: 0, Training log loss: 3.144\n",
      "Epoch: 20, Training log loss: 0.353\n",
      "Epoch: 40, Training log loss: 0.209\n",
      "Epoch: 60, Training log loss: 0.145\n",
      "Epoch: 80, Training log loss: 0.110\n",
      "Epoch: 100, Training log loss: 0.088\n",
      "Epoch: 120, Training log loss: 0.074\n",
      "Epoch: 140, Training log loss: 0.063\n",
      "Epoch: 160, Training log loss: 0.055\n",
      "Epoch: 180, Training log loss: 0.049\n"
     ]
    }
   ],
   "source": [
    "# Set training parameters\n",
    "epochs = 200\n",
    "learning_rate = 0.001\n",
    "train_losses, test_losses = [], []\n",
    "train_accs, test_accs = [], []\n",
    "\n",
    "# Set up the training loop and begin training\n",
    "for epoch in range(epochs):\n",
    "    batch_losses_train, batch_accs_train = [], []\n",
    "    batch_losses_test, batch_accs_test = [], []\n",
    "\n",
    "    # Iterate over the training data\n",
    "    for x_batch, y_batch in train_dataset:\n",
    "        with tf.GradientTape() as tape:\n",
    "            y_pred_batch = log_reg(x_batch)\n",
    "            batch_loss = log_loss(y_pred_batch, y_batch)\n",
    "        batch_acc = accuracy(y_pred_batch, y_batch)\n",
    "        # Update the parameters with respect to the gradient calculations\n",
    "        grads = tape.gradient(batch_loss, log_reg.variables)\n",
    "        for g,v in zip(grads, log_reg.variables):\n",
    "            v.assign_sub(learning_rate * g)\n",
    "        # Keep track of batch-level training performance\n",
    "        batch_losses_train.append(batch_loss)\n",
    "        batch_accs_train.append(batch_acc)\n",
    "\n",
    "    # Iterate over the testing data\n",
    "    for x_batch, y_batch in test_dataset:\n",
    "        y_pred_batch = log_reg(x_batch)\n",
    "        batch_loss = log_loss(y_pred_batch, y_batch)\n",
    "        batch_acc = accuracy(y_pred_batch, y_batch)\n",
    "        # Keep track of batch-level testing performance\n",
    "        batch_losses_test.append(batch_loss)\n",
    "        batch_accs_test.append(batch_acc)\n",
    "\n",
    "    # Keep track of epoch-level model performance\n",
    "    train_loss, train_acc = tf.reduce_mean(batch_losses_train), tf.reduce_mean(batch_accs_train)\n",
    "    test_loss, test_acc = tf.reduce_mean(batch_losses_test), tf.reduce_mean(batch_accs_test)\n",
    "    train_losses.append(train_loss)\n",
    "    train_accs.append(train_acc)\n",
    "    test_losses.append(test_loss)\n",
    "    test_accs.append(test_acc)\n",
    "    if epoch % 20 == 0:\n",
    "        print(f\"Epoch: {epoch}, Training log loss: {train_loss:.3f}\")"
   ]
  },
  {
   "cell_type": "code",
   "execution_count": 15,
   "id": "8b1bab57",
   "metadata": {},
   "outputs": [
    {
     "data": {
      "image/png": "[encoded data removed]",
      "text/plain": [
       "<Figure size 640x480 with 1 Axes>"
      ]
     },
     "metadata": {},
     "output_type": "display_data"
    }
   ],
   "source": [
    "import matplotlib.pyplot as plt\n",
    "plt.plot(range(epochs), train_losses, label = \"Training loss\")\n",
    "plt.plot(range(epochs), test_losses, label = \"Testing loss\")\n",
    "plt.xlabel(\"Epoch\")\n",
    "plt.ylabel(\"Log loss\")\n",
    "plt.legend()\n",
    "plt.title(\"Log loss vs training iterations\");"
   ]
  },
  {
   "cell_type": "code",
   "execution_count": 16,
   "id": "75f9faf4",
   "metadata": {},
   "outputs": [
    {
     "data": {
      "image/png": "[encoded data removed]",
      "text/plain": [
       "<Figure size 640x480 with 1 Axes>"
      ]
     },
     "metadata": {},
     "output_type": "display_data"
    }
   ],
   "source": [
    "plt.plot(range(epochs), train_accs, label = \"Training accuracy\")\n",
    "plt.plot(range(epochs), test_accs, label = \"Testing accuracy\")\n",
    "plt.xlabel(\"Epoch\")\n",
    "plt.ylabel(\"Accuracy (%)\")\n",
    "plt.legend()\n",
    "plt.title(\"Accuracy vs training iterations\");"
   ]
  },
  {
   "cell_type": "code",
   "execution_count": 17,
   "id": "4bd1fab2",
   "metadata": {},
   "outputs": [
    {
     "name": "stdout",
     "output_type": "stream",
     "text": [
      "Final training log loss: 0.044\n",
      "Final testing log Loss: 0.043\n"
     ]
    }
   ],
   "source": [
    "print(f\"Final training log loss: {train_losses[-1]:.3f}\")\n",
    "print(f\"Final testing log Loss: {test_losses[-1]:.3f}\")"
   ]
  },
  {
   "cell_type": "code",
   "execution_count": 18,
   "id": "bd2901ea",
   "metadata": {},
   "outputs": [
    {
     "name": "stdout",
     "output_type": "stream",
     "text": [
      "Final training accuracy: 1.000\n",
      "Final testing accuracy: 1.000\n"
     ]
    }
   ],
   "source": [
    "print(f\"Final training accuracy: {train_accs[-1]:.3f}\")\n",
    "print(f\"Final testing accuracy: {test_accs[-1]:.3f}\")"
   ]
  },
  {
   "cell_type": "code",
   "execution_count": 19,
   "id": "50e96aed",
   "metadata": {},
   "outputs": [],
   "source": [
    "import sklearn.metrics as metrics\n",
    "\n",
    "def show_confusion_matrix(y, y_classes, typ):\n",
    "    # Compute the confusion matrix and normalize it\n",
    "    plt.figure(figsize=(10,10))\n",
    "    confusion = metrics.confusion_matrix(y.numpy(), y_classes.numpy())\n",
    "    confusion_normalized = confusion / confusion.sum(axis=1)\n",
    "    axis_labels = range(2)\n",
    "    ax = sns.heatmap(\n",
    "        confusion_normalized, xticklabels=axis_labels, yticklabels=axis_labels,\n",
    "        cmap='Blues', annot=True, fmt='.4f', square=True)\n",
    "    plt.title(f\"Confusion matrix: {typ}\")\n",
    "    plt.ylabel(\"True label\")\n",
    "    plt.xlabel(\"Predicted label\")\n",
    "\n",
    "y_pred_train, y_pred_test = log_reg(x_train, train=False), log_reg(x_test, train=False)\n",
    "train_classes, test_classes = predict_class(y_pred_train), predict_class(y_pred_test)"
   ]
  },
  {
   "cell_type": "code",
   "execution_count": 20,
   "id": "87bc4a4f",
   "metadata": {},
   "outputs": [
    {
     "data": {
      "image/png": "[encoded data removed]",
      "text/plain": [
       "<Figure size 1000x1000 with 2 Axes>"
      ]
     },
     "metadata": {},
     "output_type": "display_data"
    }
   ],
   "source": [
    "from sklearn import metrics\n",
    "import seaborn as sns\n",
    "show_confusion_matrix(y_train, train_classes, 'Training')"
   ]
  },
  {
   "cell_type": "code",
   "execution_count": 21,
   "id": "94395631",
   "metadata": {
    "scrolled": false
   },
   "outputs": [
    {
     "data": {
      "image/png": "[encoded data removed]",
      "text/plain": [
       "<Figure size 1000x1000 with 2 Axes>"
      ]
     },
     "metadata": {},
     "output_type": "display_data"
    }
   ],
   "source": [
    "show_confusion_matrix(y_test, test_classes, 'Testing')"
   ]
  },
  {
   "cell_type": "markdown",
   "id": "1eeb0d07",
   "metadata": {},
   "source": [
    "Source:\n",
    "https://www.tensorflow.org/guide/core/logistic_regression_core"
   ]
  },
  {
   "cell_type": "code",
   "execution_count": 22,
   "id": "54dbf079",
   "metadata": {},
   "outputs": [],
   "source": [
    "class ExportModule(tf.Module):\n",
    "  def __init__(self, model, class_pred):\n",
    "    # Initialize pre- and post-processing functions\n",
    "    self.model = model\n",
    "    self.class_pred = class_pred\n",
    "\n",
    "  @tf.function(input_signature=[tf.TensorSpec(shape=[None, None], dtype=tf.float32)])\n",
    "  def __call__(self, x):\n",
    "    # Run the `ExportModule` for new data points\n",
    "    y = self.model(x, train=False)\n",
    "    y = self.class_pred(y)\n",
    "    return y"
   ]
  },
  {
   "cell_type": "code",
   "execution_count": 23,
   "id": "2c176ebb",
   "metadata": {},
   "outputs": [],
   "source": [
    "log_reg_export = ExportModule(model=log_reg,\n",
    "                              class_pred=predict_class)"
   ]
  },
  {
   "cell_type": "code",
   "execution_count": 25,
   "id": "3a20be5f",
   "metadata": {},
   "outputs": [],
   "source": [
    "import tempfile\n",
    "import os\n",
    "models = tempfile.mkdtemp()\n",
    "save_path = os.path.join(models, 'log_reg_export')\n"
   ]
  },
  {
   "cell_type": "code",
   "execution_count": null,
   "id": "863f657c",
   "metadata": {},
   "outputs": [],
   "source": [
    "tf.saved_model.save(log_reg_export, save_path, save_format='h5')"
   ]
  },
  {
   "cell_type": "code",
   "execution_count": 27,
   "id": "2a1bd3f4",
   "metadata": {},
   "outputs": [
    {
     "ename": "AttributeError",
     "evalue": "'LogisticRegression' object has no attribute 'save'",
     "output_type": "error",
     "traceback": [
      "\u001b[1;31m---------------------------------------------------------------------------\u001b[0m",
      "\u001b[1;31mAttributeError\u001b[0m                            Traceback (most recent call last)",
      "Cell \u001b[1;32mIn[27], line 1\u001b[0m\n\u001b[1;32m----> 1\u001b[0m \u001b[43mlog_reg\u001b[49m\u001b[38;5;241;43m.\u001b[39;49m\u001b[43msave\u001b[49m(\u001b[38;5;124m\"\u001b[39m\u001b[38;5;124mlog_reg_export.h5\u001b[39m\u001b[38;5;124m\"\u001b[39m)\n",
      "\u001b[1;31mAttributeError\u001b[0m: 'LogisticRegression' object has no attribute 'save'"
     ]
    }
   ],
   "source": [
    "log_reg.save(\"log_reg_export.h5\")"
   ]
  },
  {
   "cell_type": "markdown",
   "id": "1029c25b",
   "metadata": {},
   "source": [
    "#### Convert TF pb into h5"
   ]
  },
  {
   "cell_type": "code",
   "execution_count": 28,
   "id": "dbcaedc3",
   "metadata": {},
   "outputs": [
    {
     "name": "stdout",
     "output_type": "stream",
     "text": [
      "WARNING:tensorflow:SavedModel saved prior to TF 2.5 detected when loading Keras model. Please ensure that you are saving the model with model.save() or tf.keras.models.save_model(), *NOT* tf.saved_model.save(). To confirm, there should be a file named \"keras_metadata.pb\" in the SavedModel directory.\n"
     ]
    }
   ],
   "source": [
    "# Loading the Tensorflow Saved Model (PB)\n",
    "model_toh5 = tf.keras.models.load_model(\"log_reg_export\")"
   ]
  },
  {
   "cell_type": "code",
   "execution_count": null,
   "id": "f4aff498",
   "metadata": {},
   "outputs": [],
   "source": [
    "model_path = \"https://tfhub.dev/google/universal-sentence-encoder/4\"\n",
    "\n",
    "def save_model(model_path):\n",
    "    model = tf.keras.Sequential()\n",
    "    hub_layer = hub.KerasLayer(model_path, \n",
    "                               input_shape=[], \n",
    "                               dtype=tf.string, trainable=False)\n",
    "    model.add(hub_layer)\n",
    "    model.save('saved/')\n",
    "\n",
    "save_model(model_path)\n",
    "model = tf.keras.models.load_model('/content/saved')\n",
    "model.summary() # OK \n",
    "model.get_weights() # OK"
   ]
  },
  {
   "cell_type": "code",
   "execution_count": 37,
   "id": "a028fc33",
   "metadata": {},
   "outputs": [
    {
     "name": "stdout",
     "output_type": "stream",
     "text": [
      "Collecting tensorflow_hub\n",
      "  Downloading tensorflow_hub-0.13.0-py2.py3-none-any.whl (100 kB)\n",
      "     ------------------------------------ 100.6/100.6 kB 386.0 kB/s eta 0:00:00\n",
      "Requirement already satisfied: protobuf>=3.19.6 in d:\\application\\anaconda\\lib\\site-packages (from tensorflow_hub) (4.22.4)\n",
      "Requirement already satisfied: numpy>=1.12.0 in c:\\users\\user\\appdata\\roaming\\python\\python310\\site-packages (from tensorflow_hub) (1.24.3)\n",
      "Installing collected packages: tensorflow_hub\n",
      "Successfully installed tensorflow_hub-0.13.0\n"
     ]
    }
   ],
   "source": [
    "!pip install --upgrade tensorflow_hub"
   ]
  },
  {
   "cell_type": "code",
   "execution_count": null,
   "id": "e5c6f7ee",
   "metadata": {},
   "outputs": [],
   "source": []
  },
  {
   "cell_type": "code",
   "execution_count": 38,
   "id": "c09c674b",
   "metadata": {},
   "outputs": [
    {
     "ename": "ValueError",
     "evalue": "Exception encountered when calling layer \"keras_layer\" (type KerasLayer).\n\nin user code:\n\n    File \"D:\\Application\\Anaconda\\lib\\site-packages\\tensorflow_hub\\keras_layer.py\", line 234, in call  *\n        result = f()\n\n    ValueError: Python inputs incompatible with input_signature:\n      inputs: (\n        Tensor(\"Placeholder:0\", shape=(None,), dtype=string))\n      input_signature: (\n        TensorSpec(shape=(None, None), dtype=tf.float32, name=None)).\n\n\nCall arguments received by layer \"keras_layer\" (type KerasLayer):\n  • inputs=tf.Tensor(shape=(None,), dtype=string)\n  • training=None",
     "output_type": "error",
     "traceback": [
      "\u001b[1;31m---------------------------------------------------------------------------\u001b[0m",
      "\u001b[1;31mValueError\u001b[0m                                Traceback (most recent call last)",
      "Cell \u001b[1;32mIn[38], line 16\u001b[0m\n\u001b[0;32m     13\u001b[0m     model2\u001b[38;5;241m.\u001b[39madd(hub_layer)\n\u001b[0;32m     14\u001b[0m     model2\u001b[38;5;241m.\u001b[39msave(\u001b[38;5;124m'\u001b[39m\u001b[38;5;124msaved/\u001b[39m\u001b[38;5;124m'\u001b[39m)\n\u001b[1;32m---> 16\u001b[0m \u001b[43msave_model\u001b[49m\u001b[43m(\u001b[49m\u001b[43mpb_model_dir\u001b[49m\u001b[43m)\u001b[49m\n\u001b[0;32m     17\u001b[0m model2 \u001b[38;5;241m=\u001b[39m tf\u001b[38;5;241m.\u001b[39mkeras\u001b[38;5;241m.\u001b[39mmodels\u001b[38;5;241m.\u001b[39mload_model(\u001b[38;5;124m'\u001b[39m\u001b[38;5;124m/content/saved\u001b[39m\u001b[38;5;124m'\u001b[39m)\n\u001b[0;32m     18\u001b[0m model2\u001b[38;5;241m.\u001b[39msummary() \u001b[38;5;66;03m# OK \u001b[39;00m\n",
      "Cell \u001b[1;32mIn[38], line 13\u001b[0m, in \u001b[0;36msave_model\u001b[1;34m(model_path)\u001b[0m\n\u001b[0;32m      9\u001b[0m model2 \u001b[38;5;241m=\u001b[39m tf\u001b[38;5;241m.\u001b[39mkeras\u001b[38;5;241m.\u001b[39mSequential()\n\u001b[0;32m     10\u001b[0m hub_layer \u001b[38;5;241m=\u001b[39m hub\u001b[38;5;241m.\u001b[39mKerasLayer(model_path, \n\u001b[0;32m     11\u001b[0m                            input_shape\u001b[38;5;241m=\u001b[39m[], \n\u001b[0;32m     12\u001b[0m                            dtype\u001b[38;5;241m=\u001b[39mtf\u001b[38;5;241m.\u001b[39mstring, trainable\u001b[38;5;241m=\u001b[39m\u001b[38;5;28;01mFalse\u001b[39;00m)\n\u001b[1;32m---> 13\u001b[0m \u001b[43mmodel2\u001b[49m\u001b[38;5;241;43m.\u001b[39;49m\u001b[43madd\u001b[49m\u001b[43m(\u001b[49m\u001b[43mhub_layer\u001b[49m\u001b[43m)\u001b[49m\n\u001b[0;32m     14\u001b[0m model2\u001b[38;5;241m.\u001b[39msave(\u001b[38;5;124m'\u001b[39m\u001b[38;5;124msaved/\u001b[39m\u001b[38;5;124m'\u001b[39m)\n",
      "File \u001b[1;32m~\\AppData\\Roaming\\Python\\Python310\\site-packages\\tensorflow\\python\\trackable\\base.py:205\u001b[0m, in \u001b[0;36mno_automatic_dependency_tracking.<locals>._method_wrapper\u001b[1;34m(self, *args, **kwargs)\u001b[0m\n\u001b[0;32m    203\u001b[0m \u001b[38;5;28mself\u001b[39m\u001b[38;5;241m.\u001b[39m_self_setattr_tracking \u001b[38;5;241m=\u001b[39m \u001b[38;5;28;01mFalse\u001b[39;00m  \u001b[38;5;66;03m# pylint: disable=protected-access\u001b[39;00m\n\u001b[0;32m    204\u001b[0m \u001b[38;5;28;01mtry\u001b[39;00m:\n\u001b[1;32m--> 205\u001b[0m   result \u001b[38;5;241m=\u001b[39m method(\u001b[38;5;28mself\u001b[39m, \u001b[38;5;241m*\u001b[39margs, \u001b[38;5;241m*\u001b[39m\u001b[38;5;241m*\u001b[39mkwargs)\n\u001b[0;32m    206\u001b[0m \u001b[38;5;28;01mfinally\u001b[39;00m:\n\u001b[0;32m    207\u001b[0m   \u001b[38;5;28mself\u001b[39m\u001b[38;5;241m.\u001b[39m_self_setattr_tracking \u001b[38;5;241m=\u001b[39m previous_value  \u001b[38;5;66;03m# pylint: disable=protected-access\u001b[39;00m\n",
      "File \u001b[1;32m~\\AppData\\Roaming\\Python\\Python310\\site-packages\\keras\\utils\\traceback_utils.py:70\u001b[0m, in \u001b[0;36mfilter_traceback.<locals>.error_handler\u001b[1;34m(*args, **kwargs)\u001b[0m\n\u001b[0;32m     67\u001b[0m     filtered_tb \u001b[38;5;241m=\u001b[39m _process_traceback_frames(e\u001b[38;5;241m.\u001b[39m__traceback__)\n\u001b[0;32m     68\u001b[0m     \u001b[38;5;66;03m# To get the full stack trace, call:\u001b[39;00m\n\u001b[0;32m     69\u001b[0m     \u001b[38;5;66;03m# `tf.debugging.disable_traceback_filtering()`\u001b[39;00m\n\u001b[1;32m---> 70\u001b[0m     \u001b[38;5;28;01mraise\u001b[39;00m e\u001b[38;5;241m.\u001b[39mwith_traceback(filtered_tb) \u001b[38;5;28;01mfrom\u001b[39;00m \u001b[38;5;28mNone\u001b[39m\n\u001b[0;32m     71\u001b[0m \u001b[38;5;28;01mfinally\u001b[39;00m:\n\u001b[0;32m     72\u001b[0m     \u001b[38;5;28;01mdel\u001b[39;00m filtered_tb\n",
      "File \u001b[1;32m~\\AppData\\Local\\Temp\\__autograph_generated_filelsnkuwnw.py:74\u001b[0m, in \u001b[0;36mouter_factory.<locals>.inner_factory.<locals>.tf__call\u001b[1;34m(self, inputs, training)\u001b[0m\n\u001b[0;32m     72\u001b[0m     result \u001b[38;5;241m=\u001b[39m ag__\u001b[38;5;241m.\u001b[39mconverted_call(ag__\u001b[38;5;241m.\u001b[39mld(smart_cond)\u001b[38;5;241m.\u001b[39msmart_cond, (ag__\u001b[38;5;241m.\u001b[39mld(training), ag__\u001b[38;5;241m.\u001b[39mautograph_artifact(\u001b[38;5;28;01mlambda\u001b[39;00m : ag__\u001b[38;5;241m.\u001b[39mconverted_call(ag__\u001b[38;5;241m.\u001b[39mld(f), (), \u001b[38;5;28mdict\u001b[39m(training\u001b[38;5;241m=\u001b[39m\u001b[38;5;28;01mTrue\u001b[39;00m), fscope)), ag__\u001b[38;5;241m.\u001b[39mautograph_artifact(\u001b[38;5;28;01mlambda\u001b[39;00m : ag__\u001b[38;5;241m.\u001b[39mconverted_call(ag__\u001b[38;5;241m.\u001b[39mld(f), (), \u001b[38;5;28mdict\u001b[39m(training\u001b[38;5;241m=\u001b[39m\u001b[38;5;28;01mFalse\u001b[39;00m), fscope))), \u001b[38;5;28;01mNone\u001b[39;00m, fscope)\n\u001b[0;32m     73\u001b[0m result \u001b[38;5;241m=\u001b[39m ag__\u001b[38;5;241m.\u001b[39mUndefined(\u001b[38;5;124m'\u001b[39m\u001b[38;5;124mresult\u001b[39m\u001b[38;5;124m'\u001b[39m)\n\u001b[1;32m---> 74\u001b[0m \u001b[43mag__\u001b[49m\u001b[38;5;241;43m.\u001b[39;49m\u001b[43mif_stmt\u001b[49m\u001b[43m(\u001b[49m\u001b[43mag__\u001b[49m\u001b[38;5;241;43m.\u001b[39;49m\u001b[43mnot_\u001b[49m\u001b[43m(\u001b[49m\u001b[43mag__\u001b[49m\u001b[38;5;241;43m.\u001b[39;49m\u001b[43mld\u001b[49m\u001b[43m(\u001b[49m\u001b[38;5;28;43mself\u001b[39;49m\u001b[43m)\u001b[49m\u001b[38;5;241;43m.\u001b[39;49m\u001b[43m_has_training_argument\u001b[49m\u001b[43m)\u001b[49m\u001b[43m,\u001b[49m\u001b[43m \u001b[49m\u001b[43mif_body_3\u001b[49m\u001b[43m,\u001b[49m\u001b[43m \u001b[49m\u001b[43melse_body_3\u001b[49m\u001b[43m,\u001b[49m\u001b[43m \u001b[49m\u001b[43mget_state_3\u001b[49m\u001b[43m,\u001b[49m\u001b[43m \u001b[49m\u001b[43mset_state_3\u001b[49m\u001b[43m,\u001b[49m\u001b[43m \u001b[49m\u001b[43m(\u001b[49m\u001b[38;5;124;43m'\u001b[39;49m\u001b[38;5;124;43mresult\u001b[39;49m\u001b[38;5;124;43m'\u001b[39;49m\u001b[43m,\u001b[49m\u001b[43m \u001b[49m\u001b[38;5;124;43m'\u001b[39;49m\u001b[38;5;124;43mtraining\u001b[39;49m\u001b[38;5;124;43m'\u001b[39;49m\u001b[43m)\u001b[49m\u001b[43m,\u001b[49m\u001b[43m \u001b[49m\u001b[38;5;241;43m1\u001b[39;49m\u001b[43m)\u001b[49m\n\u001b[0;32m     76\u001b[0m \u001b[38;5;28;01mdef\u001b[39;00m \u001b[38;5;21mget_state_6\u001b[39m():\n\u001b[0;32m     77\u001b[0m     \u001b[38;5;28;01mreturn\u001b[39;00m (result,)\n",
      "File \u001b[1;32m~\\AppData\\Local\\Temp\\__autograph_generated_filelsnkuwnw.py:37\u001b[0m, in \u001b[0;36mouter_factory.<locals>.inner_factory.<locals>.tf__call.<locals>.if_body_3\u001b[1;34m()\u001b[0m\n\u001b[0;32m     35\u001b[0m \u001b[38;5;28;01mdef\u001b[39;00m \u001b[38;5;21mif_body_3\u001b[39m():\n\u001b[0;32m     36\u001b[0m     \u001b[38;5;28;01mnonlocal\u001b[39;00m result, training\n\u001b[1;32m---> 37\u001b[0m     result \u001b[38;5;241m=\u001b[39m \u001b[43mag__\u001b[49m\u001b[38;5;241;43m.\u001b[39;49m\u001b[43mconverted_call\u001b[49m\u001b[43m(\u001b[49m\u001b[43mag__\u001b[49m\u001b[38;5;241;43m.\u001b[39;49m\u001b[43mld\u001b[49m\u001b[43m(\u001b[49m\u001b[43mf\u001b[49m\u001b[43m)\u001b[49m\u001b[43m,\u001b[49m\u001b[43m \u001b[49m\u001b[43m(\u001b[49m\u001b[43m)\u001b[49m\u001b[43m,\u001b[49m\u001b[43m \u001b[49m\u001b[38;5;28;43;01mNone\u001b[39;49;00m\u001b[43m,\u001b[49m\u001b[43m \u001b[49m\u001b[43mfscope\u001b[49m\u001b[43m)\u001b[49m\n",
      "\u001b[1;31mValueError\u001b[0m: Exception encountered when calling layer \"keras_layer\" (type KerasLayer).\n\nin user code:\n\n    File \"D:\\Application\\Anaconda\\lib\\site-packages\\tensorflow_hub\\keras_layer.py\", line 234, in call  *\n        result = f()\n\n    ValueError: Python inputs incompatible with input_signature:\n      inputs: (\n        Tensor(\"Placeholder:0\", shape=(None,), dtype=string))\n      input_signature: (\n        TensorSpec(shape=(None, None), dtype=tf.float32, name=None)).\n\n\nCall arguments received by layer \"keras_layer\" (type KerasLayer):\n  • inputs=tf.Tensor(shape=(None,), dtype=string)\n  • training=None"
     ]
    }
   ],
   "source": [
    "import os\n",
    "import tensorflow_hub as hub\n",
    "from tensorflow.keras.preprocessing import image\n",
    "\n",
    "pb_model_dir = \"log_reg_export\"\n",
    "h5_model = \"log_reg_export.h5\"\n",
    "\n",
    "def save_model(model_path):\n",
    "    model2 = tf.keras.Sequential()\n",
    "    hub_layer = hub.KerasLayer(model_path, \n",
    "                               input_shape=[], \n",
    "                               dtype=tf.string, trainable=False)\n",
    "    model2.add(hub_layer)\n",
    "    model2.save('saved/')\n",
    "\n",
    "save_model(pb_model_dir)\n",
    "model2 = tf.keras.models.load_model('/content/saved')\n",
    "model2.summary() # OK \n",
    "model2.get_weights() # OK\n",
    "\n",
    "# Loading the Tensorflow Saved Model (PB)\n",
    "model2 = tf.keras.models.load_model(pb_model_dir)\n",
    "# print(model2.summary())\n",
    "\n",
    "# Saving the Model in H5 Format\n",
    "tf.keras.models.save_model(model2, h5_model)\n",
    "\n",
    "# Loading the H5 Saved Model\n",
    "loaded_model_from_h5 = tf.keras.models.load_model(h5_model)\n",
    "print(loaded_model_from_h5.summary())"
   ]
  },
  {
   "cell_type": "code",
   "execution_count": null,
   "id": "03f0e0bc",
   "metadata": {},
   "outputs": [],
   "source": []
  }
 ],
 "metadata": {
  "kernelspec": {
   "display_name": "Python 3 (ipykernel)",
   "language": "python",
   "name": "python3"
  },
  "language_info": {
   "codemirror_mode": {
    "name": "ipython",
    "version": 3
   },
   "file_extension": ".py",
   "mimetype": "text/x-python",
   "name": "python",
   "nbconvert_exporter": "python",
   "pygments_lexer": "ipython3",
   "version": "3.10.9"
  }
 },
 "nbformat": 4,
 "nbformat_minor": 5
}
