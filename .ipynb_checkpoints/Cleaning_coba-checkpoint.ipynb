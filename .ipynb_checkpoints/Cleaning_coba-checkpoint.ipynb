{
 "cells": [
  {
   "cell_type": "code",
   "execution_count": 1,
   "id": "5caa1117",
   "metadata": {},
   "outputs": [],
   "source": [
    "import pandas as pd\n",
    "import numpy as np\n",
    "import datetime as dt"
   ]
  },
  {
   "cell_type": "code",
   "execution_count": 2,
   "id": "e12934b4",
   "metadata": {},
   "outputs": [
    {
     "name": "stderr",
     "output_type": "stream",
     "text": [
      "E:\\DPrograms\\Anaconda\\envs\\opencv-env\\lib\\site-packages\\IPython\\core\\interactiveshell.py:3072: DtypeWarning: Columns (28,40) have mixed types.Specify dtype option on import or set low_memory=False.\n",
      "  interactivity=interactivity, compiler=compiler, result=result)\n"
     ]
    }
   ],
   "source": [
    "df = pd.read_csv('user_data.csv', sep=';')"
   ]
  },
  {
   "cell_type": "code",
   "execution_count": 3,
   "id": "e8fff70c",
   "metadata": {},
   "outputs": [
    {
     "data": {
      "text/html": [
       "<div>\n",
       "<style scoped>\n",
       "    .dataframe tbody tr th:only-of-type {\n",
       "        vertical-align: middle;\n",
       "    }\n",
       "\n",
       "    .dataframe tbody tr th {\n",
       "        vertical-align: top;\n",
       "    }\n",
       "\n",
       "    .dataframe thead th {\n",
       "        text-align: right;\n",
       "    }\n",
       "</style>\n",
       "<table border=\"1\" class=\"dataframe\">\n",
       "  <thead>\n",
       "    <tr style=\"text-align: right;\">\n",
       "      <th></th>\n",
       "      <th>uid</th>\n",
       "      <th>is_scammer</th>\n",
       "      <th>source</th>\n",
       "      <th>trx_date</th>\n",
       "      <th>report_date</th>\n",
       "      <th>registereddate</th>\n",
       "      <th>birthday</th>\n",
       "      <th>gender</th>\n",
       "      <th>job_position</th>\n",
       "      <th>is_verified</th>\n",
       "      <th>...</th>\n",
       "      <th>dormancy_count_trx</th>\n",
       "      <th>kyc_total_failed</th>\n",
       "      <th>kyc_total_revoked</th>\n",
       "      <th>avg_topup_weight_1</th>\n",
       "      <th>avg_x2x_weight_1</th>\n",
       "      <th>avg_other_weight_1</th>\n",
       "      <th>centrality_outdegree_p2p</th>\n",
       "      <th>centrality_indegree_p2p</th>\n",
       "      <th>centrality_undirected_p2p</th>\n",
       "      <th>centrality_outdegree_sendmoney</th>\n",
       "    </tr>\n",
       "  </thead>\n",
       "  <tbody>\n",
       "    <tr>\n",
       "      <th>0</th>\n",
       "      <td>da41ba31-1fb7-4123-b4f5-49d3c93c407d</td>\n",
       "      <td>1</td>\n",
       "      <td>INCOMPLETE_CS_REPORT_SCAMMER</td>\n",
       "      <td>2023-02-10</td>\n",
       "      <td>10/02/2023</td>\n",
       "      <td>01/10/2022</td>\n",
       "      <td>01/01/1994</td>\n",
       "      <td>Female</td>\n",
       "      <td>MENGURUS RUMAH TANGGA</td>\n",
       "      <td>1</td>\n",
       "      <td>...</td>\n",
       "      <td>685</td>\n",
       "      <td>10.0</td>\n",
       "      <td>0.0</td>\n",
       "      <td>1125</td>\n",
       "      <td>505</td>\n",
       "      <td>1666667</td>\n",
       "      <td>1,35695E+11</td>\n",
       "      <td>73430675506</td>\n",
       "      <td>80780810494</td>\n",
       "      <td>653040,1993</td>\n",
       "    </tr>\n",
       "    <tr>\n",
       "      <th>1</th>\n",
       "      <td>39063101-67dc-4a30-8d3a-d16a388f5dbd</td>\n",
       "      <td>1</td>\n",
       "      <td>INCOMPLETE_CS_REPORT_SCAMMER</td>\n",
       "      <td>2023-02-07</td>\n",
       "      <td>07/02/2023</td>\n",
       "      <td>01/01/2023</td>\n",
       "      <td>01/04/2002</td>\n",
       "      <td>Male</td>\n",
       "      <td>PELAJAR / MAHASISWA</td>\n",
       "      <td>1</td>\n",
       "      <td>...</td>\n",
       "      <td>70</td>\n",
       "      <td>0.0</td>\n",
       "      <td>0.0</td>\n",
       "      <td>22083333</td>\n",
       "      <td>30416667</td>\n",
       "      <td>14166667</td>\n",
       "      <td>0</td>\n",
       "      <td>70674374,89</td>\n",
       "      <td>70674374,89</td>\n",
       "      <td>1306080399</td>\n",
       "    </tr>\n",
       "    <tr>\n",
       "      <th>2</th>\n",
       "      <td>74196a84-6b98-475a-b01d-a4eb22c4c015</td>\n",
       "      <td>1</td>\n",
       "      <td>INCOMPLETE_CS_REPORT_SCAMMER</td>\n",
       "      <td>2023-01-16</td>\n",
       "      <td>16/01/2023</td>\n",
       "      <td>01/12/2022</td>\n",
       "      <td>01/04/1991</td>\n",
       "      <td>Male</td>\n",
       "      <td>BELUM / TIDAK BEKERJA</td>\n",
       "      <td>1</td>\n",
       "      <td>...</td>\n",
       "      <td>18</td>\n",
       "      <td>0.0</td>\n",
       "      <td>0.0</td>\n",
       "      <td>375</td>\n",
       "      <td>35833333</td>\n",
       "      <td>23333333</td>\n",
       "      <td>0</td>\n",
       "      <td>5300578116</td>\n",
       "      <td>5300578116</td>\n",
       "      <td>653040,1993</td>\n",
       "    </tr>\n",
       "    <tr>\n",
       "      <th>3</th>\n",
       "      <td>640d7332-34f5-45bd-8404-65f72417fadc</td>\n",
       "      <td>1</td>\n",
       "      <td>CS_REPORT_SCAMMER</td>\n",
       "      <td>2022-04-19</td>\n",
       "      <td>21/04/2022</td>\n",
       "      <td>01/04/2022</td>\n",
       "      <td>NaN</td>\n",
       "      <td>NaN</td>\n",
       "      <td>NaN</td>\n",
       "      <td>0</td>\n",
       "      <td>...</td>\n",
       "      <td>7</td>\n",
       "      <td>NaN</td>\n",
       "      <td>NaN</td>\n",
       "      <td>0</td>\n",
       "      <td>0</td>\n",
       "      <td>0</td>\n",
       "      <td>0</td>\n",
       "      <td>0</td>\n",
       "      <td>0</td>\n",
       "      <td>0</td>\n",
       "    </tr>\n",
       "    <tr>\n",
       "      <th>4</th>\n",
       "      <td>640d7332-34f5-45bd-8404-65f72417fadc</td>\n",
       "      <td>1</td>\n",
       "      <td>CS_REPORT_SCAMMER</td>\n",
       "      <td>2022-04-19</td>\n",
       "      <td>21/04/2022</td>\n",
       "      <td>01/04/2022</td>\n",
       "      <td>NaN</td>\n",
       "      <td>NaN</td>\n",
       "      <td>NaN</td>\n",
       "      <td>0</td>\n",
       "      <td>...</td>\n",
       "      <td>7</td>\n",
       "      <td>NaN</td>\n",
       "      <td>NaN</td>\n",
       "      <td>0</td>\n",
       "      <td>0</td>\n",
       "      <td>0</td>\n",
       "      <td>0</td>\n",
       "      <td>0</td>\n",
       "      <td>0</td>\n",
       "      <td>0</td>\n",
       "    </tr>\n",
       "  </tbody>\n",
       "</table>\n",
       "<p>5 rows × 45 columns</p>\n",
       "</div>"
      ],
      "text/plain": [
       "                                    uid  is_scammer  \\\n",
       "0  da41ba31-1fb7-4123-b4f5-49d3c93c407d           1   \n",
       "1  39063101-67dc-4a30-8d3a-d16a388f5dbd           1   \n",
       "2  74196a84-6b98-475a-b01d-a4eb22c4c015           1   \n",
       "3  640d7332-34f5-45bd-8404-65f72417fadc           1   \n",
       "4  640d7332-34f5-45bd-8404-65f72417fadc           1   \n",
       "\n",
       "                         source    trx_date report_date registereddate  \\\n",
       "0  INCOMPLETE_CS_REPORT_SCAMMER  2023-02-10  10/02/2023     01/10/2022   \n",
       "1  INCOMPLETE_CS_REPORT_SCAMMER  2023-02-07  07/02/2023     01/01/2023   \n",
       "2  INCOMPLETE_CS_REPORT_SCAMMER  2023-01-16  16/01/2023     01/12/2022   \n",
       "3             CS_REPORT_SCAMMER  2022-04-19  21/04/2022     01/04/2022   \n",
       "4             CS_REPORT_SCAMMER  2022-04-19  21/04/2022     01/04/2022   \n",
       "\n",
       "     birthday  gender           job_position  is_verified  ...  \\\n",
       "0  01/01/1994  Female  MENGURUS RUMAH TANGGA            1  ...   \n",
       "1  01/04/2002    Male    PELAJAR / MAHASISWA            1  ...   \n",
       "2  01/04/1991    Male  BELUM / TIDAK BEKERJA            1  ...   \n",
       "3         NaN     NaN                    NaN            0  ...   \n",
       "4         NaN     NaN                    NaN            0  ...   \n",
       "\n",
       "   dormancy_count_trx kyc_total_failed  kyc_total_revoked  avg_topup_weight_1  \\\n",
       "0                 685             10.0                0.0                1125   \n",
       "1                  70              0.0                0.0            22083333   \n",
       "2                  18              0.0                0.0                 375   \n",
       "3                   7              NaN                NaN                   0   \n",
       "4                   7              NaN                NaN                   0   \n",
       "\n",
       "  avg_x2x_weight_1 avg_other_weight_1 centrality_outdegree_p2p  \\\n",
       "0              505            1666667              1,35695E+11   \n",
       "1         30416667           14166667                        0   \n",
       "2         35833333           23333333                        0   \n",
       "3                0                  0                        0   \n",
       "4                0                  0                        0   \n",
       "\n",
       "  centrality_indegree_p2p  centrality_undirected_p2p  \\\n",
       "0             73430675506                80780810494   \n",
       "1             70674374,89                70674374,89   \n",
       "2              5300578116                 5300578116   \n",
       "3                       0                          0   \n",
       "4                       0                          0   \n",
       "\n",
       "   centrality_outdegree_sendmoney  \n",
       "0                     653040,1993  \n",
       "1                      1306080399  \n",
       "2                     653040,1993  \n",
       "3                               0  \n",
       "4                               0  \n",
       "\n",
       "[5 rows x 45 columns]"
      ]
     },
     "execution_count": 3,
     "metadata": {},
     "output_type": "execute_result"
    }
   ],
   "source": [
    "df.head()"
   ]
  },
  {
   "cell_type": "code",
   "execution_count": 4,
   "id": "82b2c1b8",
   "metadata": {},
   "outputs": [
    {
     "data": {
      "text/plain": [
       "uid                                     0\n",
       "is_scammer                              0\n",
       "source                             221763\n",
       "trx_date                                0\n",
       "report_date                        355291\n",
       "registereddate                       1005\n",
       "birthday                            44280\n",
       "gender                              43265\n",
       "job_position                        44277\n",
       "is_verified                             0\n",
       "aqc_freq_prepaid_mobile                 0\n",
       "aqc_mean_prepaid_mobile_amount          0\n",
       "aqc_freq_topup                          0\n",
       "aqc_freq_topup_within_7d                0\n",
       "aqc_mean_topup_amount                   0\n",
       "aqc_mean_topup_amount_7d                0\n",
       "aqc_mean_topup_amount_30d               0\n",
       "aqc_mean_topup_amount_90d               0\n",
       "aqc_total_topup_amount_7d               0\n",
       "aqc_total_topup_amount_90d              0\n",
       "aqc_freq_x2x                            0\n",
       "aqc_freq_x2x_within_60d                 0\n",
       "aqc_freq_x2x_within_90d                 0\n",
       "aqc_mean_x2x_amount                     0\n",
       "aqc_mean_x2x_amount_7d                  0\n",
       "aqc_mean_x2x_amount_30d                 0\n",
       "aqc_mean_x2x_amount_60d                 0\n",
       "aqc_mean_x2x_amount_90d                 0\n",
       "aqc_total_x2x_amount                    0\n",
       "aqc_total_x2x_amount_7d                 0\n",
       "aqc_total_x2x_amount_30d                0\n",
       "aqc_total_x2x_amount_60d                0\n",
       "aqc_total_x2x_amount_90d                0\n",
       "dormancy_max_gmt_pay_diff_days        818\n",
       "dormancy_mean_gmt_pay_diff_days       818\n",
       "dormancy_count_trx                      0\n",
       "kyc_total_failed                    20060\n",
       "kyc_total_revoked                   20060\n",
       "avg_topup_weight_1                      0\n",
       "avg_x2x_weight_1                        0\n",
       "avg_other_weight_1                      0\n",
       "centrality_outdegree_p2p                0\n",
       "centrality_indegree_p2p                 0\n",
       "centrality_undirected_p2p               0\n",
       "centrality_outdegree_sendmoney          0\n",
       "dtype: int64"
      ]
     },
     "execution_count": 4,
     "metadata": {},
     "output_type": "execute_result"
    }
   ],
   "source": [
    "df.isna().sum()"
   ]
  },
  {
   "cell_type": "code",
   "execution_count": 5,
   "id": "febbec41",
   "metadata": {},
   "outputs": [],
   "source": [
    "# Drop uid column\n",
    "df1 = df.drop(columns=['uid'])"
   ]
  },
  {
   "cell_type": "code",
   "execution_count": 6,
   "id": "a2a60c34",
   "metadata": {},
   "outputs": [],
   "source": [
    "# Change df['source'] null to 'none'\n",
    "df1['source'] = df1['source'].fillna('none')"
   ]
  },
  {
   "cell_type": "code",
   "execution_count": 7,
   "id": "7b61e11f",
   "metadata": {},
   "outputs": [
    {
     "data": {
      "text/plain": [
       "none                            221763\n",
       "FACE_MEDIUM_FP                   76814\n",
       "FACE_HIGH_FP                     30046\n",
       "RANDOM_ACTIVE_USER               19691\n",
       "CS_REPORT_SCAMMER                12577\n",
       "CS_REPORT_VICTIM                 11353\n",
       "INCOMPLETE_CS_REPORT_VICTIM      10367\n",
       "INCOMPLETE_CS_REPORT_SCAMMER      8562\n",
       "FACE_MEDIUM_TP                    4693\n",
       "FACE_HIGH_TP                      2466\n",
       "Name: source, dtype: int64"
      ]
     },
     "execution_count": 7,
     "metadata": {},
     "output_type": "execute_result"
    }
   ],
   "source": [
    "# One-hot Encoding for df['source']\n",
    "df1['source'].value_counts()"
   ]
  },
  {
   "cell_type": "code",
   "execution_count": 8,
   "id": "e56909d4",
   "metadata": {},
   "outputs": [],
   "source": [
    "# df['trx_date'] change to integer\n",
    "df1['trx_date'] = pd.to_datetime(df1['trx_date'])\n",
    "df1['trx_date'] = (df1['trx_date'] - np.datetime64(0, 'Y')).dt.days"
   ]
  },
  {
   "cell_type": "code",
   "execution_count": 9,
   "id": "90c894a0",
   "metadata": {},
   "outputs": [],
   "source": [
    "# df['report_date'] null to np.datetime64('1970')\n",
    "# df['report_date'] change to integer\n",
    "df1['report_date'] = df1['report_date'].fillna(np.datetime64(0, 'Y'))\n",
    "df1['report_date'] = pd.to_datetime(df1['report_date'])\n",
    "df1['report_date'] = (df1['report_date'] - np.datetime64(0, 'Y')).dt.days"
   ]
  },
  {
   "cell_type": "code",
   "execution_count": 10,
   "id": "d6d8308a",
   "metadata": {},
   "outputs": [],
   "source": [
    "# df['registereddate'] null to np.datetime64('1970')\n",
    "# df['registereddate'] change to integer\n",
    "df1['registereddate'] = df1['registereddate'].fillna(np.datetime64(0, 'Y'))\n",
    "df1['registereddate'] = pd.to_datetime(df1['registereddate'])\n",
    "df1['registereddate'] = (df1['registereddate'] - np.datetime64(0, 'Y')).dt.days"
   ]
  },
  {
   "cell_type": "code",
   "execution_count": 11,
   "id": "4e6ccfd0",
   "metadata": {},
   "outputs": [],
   "source": [
    "# Handle corrupt birthday data '#'*256\n",
    "# df['birthday'] null to np.datetime64('0000')\n",
    "# df['birthday'] change to integer\n",
    "df1.loc[(df1['birthday'] == '#'*255)] = np.datetime64('0000')\n",
    "df1['birthday'] = df1['birthday'].fillna(np.datetime64('0000'))\n",
    "df1['birthday'] = pd.to_datetime(df1['birthday'])\n",
    "df1['birthday'] = (df1['birthday'] - np.datetime64(0, 'Y')).dt.days"
   ]
  },
  {
   "cell_type": "code",
   "execution_count": 12,
   "id": "2661f284",
   "metadata": {},
   "outputs": [
    {
     "data": {
      "text/plain": [
       "Male      222408\n",
       "Female    132629\n",
       "Null       43265\n",
       "-1970         30\n",
       "Name: gender, dtype: int64"
      ]
     },
     "execution_count": 12,
     "metadata": {},
     "output_type": "execute_result"
    }
   ],
   "source": [
    "# df['gender'] null to 'Null'\n",
    "df1['gender'] = df1['gender'].fillna('Null')\n",
    "df1['gender'].value_counts()"
   ]
  },
  {
   "cell_type": "code",
   "execution_count": 13,
   "id": "086819d1",
   "metadata": {},
   "outputs": [
    {
     "data": {
      "text/plain": [
       "array(['MENGURUS RUMAH TANGGA', 'PELAJAR / MAHASISWA',\n",
       "       'BELUM / TIDAK BEKERJA', nan, 'KARYAWAN SWASTA', 'WIRASWASTA',\n",
       "       'PERANGKAT DESA', 'TUKANG LISTRIK', 'BURUH HARIAN LEPAS',\n",
       "       'WIARSWASTA', 'PEGAWAI NEGERI SIPIL', 'PETANI / PEKEBUN',\n",
       "       'PERDAGANGAN', 'KEPOLISIAN RI', 'PERAWAT', 'KARYAWAN HONORER',\n",
       "       'KARYAWAN BUMN', 'GURU', 'DOSEN', 'GUBERNUR', 'KARYAWAN BUMD',\n",
       "       'KONSTRUKSI', 'BURUH TANI / PERKEBUNAN', '16', '13',\n",
       "       'PEKERJAAN LAINNYA', 'BIDAN', 'TUKANG JAHIT', '114',\n",
       "       'BELUM/TIDAK BEKERJA', 'PEDAGANG', 'WARTAWAN', '110', 'DOKTER',\n",
       "       'NELAYAN / PERIKANAN', 'APOTEKER', 'INDUSTRI', 'WIRASAWSTA',\n",
       "       'TENTARA NASIONAL INDONESIA', 'SOPIR', 'AKUNTAN', 'PENGACARA',\n",
       "       'PENDETA', 'PELAUT', 'PENATA RIAS', 'TABIB', 'USTADZ / MUBALIGH',\n",
       "       'SWASTA', '68', 'PENATA RAMBUT', '131', 'TRANSPORTASI', 'PILOT',\n",
       "       'SENIMAN', 'BURUH NELAYAN / PERIKANAN', 'PENATA BUSANA', '126',\n",
       "       'PEKERJAAN LAINYYA', 'TUKANG LAS / PANDAI BESI',\n",
       "       'PEKERJAAN LAINNTA', 'WIRASWSATA', 'PENSIUN', 'PEKERJAAN LAINYA',\n",
       "       'TUKANG KAYU', 'WIRASAWASTA', 'PERANCANG BUSANA', 'MEKANIK',\n",
       "       'WIRASWSASTA', 'ANGGOTA LEMBAGA TINGGI LAINYA', 'WIRASEWASTA',\n",
       "       'TUKANG BATU', 'BELUM KAWIN', 'WIRASWTAS', '62',\n",
       "       'BELUM/T IDAK BENERJA', 'KONSULTAN', 'PEKERJA LAINNYA',\n",
       "       'WIRASWAST', 'NOTARIS', 'WIRAWASTA', 'WIRWASWASTA', 'PETERNAK',\n",
       "       'WIRSWASTA', 'PENELITI', 'PENYIAR TELEVISI',\n",
       "       'PEMBANTU RUMAH TANGGA', 'TUKANG CUKUR', 'WRASWASTA',\n",
       "       'ANGGOTA MAHKAMAH KONSTITUSI', 'ANGGOTA DPRD KAB / KOTA', '75',\n",
       "       '156', 'TIDAK BEKERJA', 'KEPALA DESA', 'WIRASWASTSA', 'WIRASWATA',\n",
       "       'BELUM TIDAK BEKERJA', 'PENSIUNAN', 'WIRASWASTQA', 'WRRASWASTA',\n",
       "       'ARSITEK', '153', 'PENTERJEMAH', '137', '166', 'PENYIAR RADIO',\n",
       "       '112', '11', '154', '117', '119', 'ANGGOTA KABINET / KEMENTRIAN',\n",
       "       '51', 'KARYAWAN', 'PELAJAR/MAHASISWA', 'WEIRASWASTA', 'PARAJI',\n",
       "       'WIRASWASAT', 'WIIRASWASTA', 'WIRASWASTAT', 'JURU MASAK',\n",
       "       'BURUH PETERNAKAN', 'WURASWASTA', 'DUTA BESAR', 'WISASWASTA',\n",
       "       'PIALANG', 'WIRASWASA', 'WIRASWSTA', 'PETANI PEKEBUN',\n",
       "       'TUKANG SOL SEPATU', 'WIASRWASTA', 'WIRASWASATA', 'TUKANG GIGI',\n",
       "       'ANGGOTA LEMBAGA TINGGI LAINNYA', 'WIRAASWASTA', 'OHTERS', 'HAKIM',\n",
       "       'W', 'BIARAWATI', 'IMAM MASJID', 'BELUM BEKERJA', 'MENGURUS RUMAH',\n",
       "       'ANGGOTA DPRD PROPINSI', 'PEK', 'PARANORMAL', 'WIRASWAASTA',\n",
       "       'WIROSWASTA', 'PETANI/PEKEBUN', 'PASTUR', 'NELAYANPERIKANAN',\n",
       "       'WALIKOTA', 'WIRASWASRA', 'ISLAM BELUM/TIDAK BEKERJA', 'BUPATI',\n",
       "       'OTHERS', 'PELAJAR MAHASISWA', 'NELAYAN/PERIKANAN', 'PENGEMUDI',\n",
       "       'ANGGOTA BPK', 'PELAJARIMAHASISWA'], dtype=object)"
      ]
     },
     "execution_count": 13,
     "metadata": {},
     "output_type": "execute_result"
    }
   ],
   "source": [
    "# df['job_position'] perbaiki typo\n",
    "# df['job_position'] null --> 'LAINNYA'\n",
    "# df['job_position'] kelompokkan menjadi RT, Pelajar, TidakBekerja, Wiraswasta, Spesialis, Karyawan, Lainnya\n",
    "# note: ada 159 unique job entries\n",
    "# semangat dit\n",
    "df['job_position'].unique()"
   ]
  },
  {
   "cell_type": "code",
   "execution_count": 14,
   "id": "0129341f",
   "metadata": {},
   "outputs": [],
   "source": [
    "# df['dormancy_max_gmt_pay_diff_days'] null --> 0\n",
    "# df['dormancy_mean_gmt_pay_diff_days'] null --> 0\n",
    "df1['dormancy_max_gmt_pay_diff_days'] = df1['dormancy_max_gmt_pay_diff_days'].fillna(0)\n",
    "df1['dormancy_mean_gmt_pay_diff_days'] = df1['dormancy_mean_gmt_pay_diff_days'].fillna(0)"
   ]
  },
  {
   "cell_type": "code",
   "execution_count": 15,
   "id": "ff0ee3c1",
   "metadata": {},
   "outputs": [],
   "source": [
    "# df['kyc_total_failed'] null --> 0\n",
    "# df['kyc_total_revoked'] null --> 0\n",
    "df1['kyc_total_failed'] = df1['kyc_total_failed'].fillna(0)\n",
    "df1['kyc_total_revoked'] = df1['kyc_total_revoked'].fillna(0)"
   ]
  },
  {
   "cell_type": "code",
   "execution_count": null,
   "id": "a5201308",
   "metadata": {},
   "outputs": [],
   "source": [
    "# TO-DO NEXT:\n",
    "# Perbaiki JOB_POSITION\n",
    "# ONE-HOT ENCODING"
   ]
  }
 ],
 "metadata": {
  "kernelspec": {
   "display_name": "Python 3",
   "language": "python",
   "name": "python3"
  },
  "language_info": {
   "codemirror_mode": {
    "name": "ipython",
    "version": 3
   },
   "file_extension": ".py",
   "mimetype": "text/x-python",
   "name": "python",
   "nbconvert_exporter": "python",
   "pygments_lexer": "ipython3",
   "version": "3.6.13"
  }
 },
 "nbformat": 4,
 "nbformat_minor": 5
}
