{
 "cells": [
  {
   "cell_type": "markdown",
   "id": "08e00600",
   "metadata": {},
   "source": [
    "# Model Predict Testing"
   ]
  },
  {
   "cell_type": "code",
   "execution_count": 1,
   "id": "a5d53170",
   "metadata": {},
   "outputs": [],
   "source": [
    "import pandas as pd\n",
    "import tensorflow as tf"
   ]
  },
  {
   "cell_type": "code",
   "execution_count": 15,
   "id": "1a4bf707",
   "metadata": {},
   "outputs": [],
   "source": [
    "df = pd.read_csv(\"user_data_test_cleaned.csv\", sep=';')"
   ]
  },
  {
   "cell_type": "code",
   "execution_count": 16,
   "id": "dc3de152",
   "metadata": {},
   "outputs": [
    {
     "data": {
      "text/html": [
       "<div>\n",
       "<style scoped>\n",
       "    .dataframe tbody tr th:only-of-type {\n",
       "        vertical-align: middle;\n",
       "    }\n",
       "\n",
       "    .dataframe tbody tr th {\n",
       "        vertical-align: top;\n",
       "    }\n",
       "\n",
       "    .dataframe thead th {\n",
       "        text-align: right;\n",
       "    }\n",
       "</style>\n",
       "<table border=\"1\" class=\"dataframe\">\n",
       "  <thead>\n",
       "    <tr style=\"text-align: right;\">\n",
       "      <th></th>\n",
       "      <th>Unnamed: 0</th>\n",
       "      <th>trx_date</th>\n",
       "      <th>report_date</th>\n",
       "      <th>registereddate</th>\n",
       "      <th>birthday</th>\n",
       "      <th>is_verified</th>\n",
       "      <th>aqc_freq_prepaid_mobile</th>\n",
       "      <th>aqc_mean_prepaid_mobile_amount</th>\n",
       "      <th>aqc_freq_topup</th>\n",
       "      <th>aqc_freq_topup_within_7d</th>\n",
       "      <th>...</th>\n",
       "      <th>job_position_KARYAWAN</th>\n",
       "      <th>job_position_LAINNYA</th>\n",
       "      <th>job_position_PEGAWAI_NS</th>\n",
       "      <th>job_position_PELAJAR</th>\n",
       "      <th>job_position_RUMAH_TANGGA</th>\n",
       "      <th>job_position_SPESIALIS</th>\n",
       "      <th>job_position_TIDAK_KERJA</th>\n",
       "      <th>job_position_WIRASWASTA</th>\n",
       "      <th>uid</th>\n",
       "      <th>is_scammer</th>\n",
       "    </tr>\n",
       "  </thead>\n",
       "  <tbody>\n",
       "    <tr>\n",
       "      <th>0</th>\n",
       "      <td>0</td>\n",
       "      <td>0.812236</td>\n",
       "      <td>0.812763</td>\n",
       "      <td>0.963095</td>\n",
       "      <td>0.916693</td>\n",
       "      <td>1</td>\n",
       "      <td>0.000000</td>\n",
       "      <td>0.000000</td>\n",
       "      <td>0.077151</td>\n",
       "      <td>0.053738</td>\n",
       "      <td>...</td>\n",
       "      <td>0</td>\n",
       "      <td>0</td>\n",
       "      <td>0</td>\n",
       "      <td>1</td>\n",
       "      <td>0</td>\n",
       "      <td>0</td>\n",
       "      <td>0</td>\n",
       "      <td>0</td>\n",
       "      <td>b3007010-e28e-4b0a-8549-a9dfd7f58ff3</td>\n",
       "      <td>0</td>\n",
       "    </tr>\n",
       "    <tr>\n",
       "      <th>1</th>\n",
       "      <td>1</td>\n",
       "      <td>0.800985</td>\n",
       "      <td>0.801543</td>\n",
       "      <td>1.000000</td>\n",
       "      <td>0.345767</td>\n",
       "      <td>1</td>\n",
       "      <td>0.000000</td>\n",
       "      <td>0.000000</td>\n",
       "      <td>0.015826</td>\n",
       "      <td>0.037383</td>\n",
       "      <td>...</td>\n",
       "      <td>0</td>\n",
       "      <td>0</td>\n",
       "      <td>0</td>\n",
       "      <td>0</td>\n",
       "      <td>1</td>\n",
       "      <td>0</td>\n",
       "      <td>0</td>\n",
       "      <td>0</td>\n",
       "      <td>76bef4cc-81d2-4759-80ac-8ffa6324f958</td>\n",
       "      <td>1</td>\n",
       "    </tr>\n",
       "    <tr>\n",
       "      <th>2</th>\n",
       "      <td>2</td>\n",
       "      <td>0.796765</td>\n",
       "      <td>0.797335</td>\n",
       "      <td>0.944643</td>\n",
       "      <td>0.962166</td>\n",
       "      <td>1</td>\n",
       "      <td>0.000000</td>\n",
       "      <td>0.000000</td>\n",
       "      <td>0.005935</td>\n",
       "      <td>0.004673</td>\n",
       "      <td>...</td>\n",
       "      <td>0</td>\n",
       "      <td>0</td>\n",
       "      <td>0</td>\n",
       "      <td>1</td>\n",
       "      <td>0</td>\n",
       "      <td>0</td>\n",
       "      <td>0</td>\n",
       "      <td>0</td>\n",
       "      <td>4c40e720-9640-4aff-8f54-22603fed66ec</td>\n",
       "      <td>0</td>\n",
       "    </tr>\n",
       "    <tr>\n",
       "      <th>3</th>\n",
       "      <td>3</td>\n",
       "      <td>0.756681</td>\n",
       "      <td>0.771388</td>\n",
       "      <td>0.872619</td>\n",
       "      <td>0.789122</td>\n",
       "      <td>1</td>\n",
       "      <td>0.038911</td>\n",
       "      <td>0.041929</td>\n",
       "      <td>0.033630</td>\n",
       "      <td>0.065421</td>\n",
       "      <td>...</td>\n",
       "      <td>1</td>\n",
       "      <td>0</td>\n",
       "      <td>0</td>\n",
       "      <td>0</td>\n",
       "      <td>0</td>\n",
       "      <td>0</td>\n",
       "      <td>0</td>\n",
       "      <td>0</td>\n",
       "      <td>1b92b298-eb2e-4efd-a881-131a267182b8</td>\n",
       "      <td>0</td>\n",
       "    </tr>\n",
       "    <tr>\n",
       "      <th>4</th>\n",
       "      <td>4</td>\n",
       "      <td>0.775668</td>\n",
       "      <td>0.776297</td>\n",
       "      <td>0.935714</td>\n",
       "      <td>0.886426</td>\n",
       "      <td>1</td>\n",
       "      <td>0.062257</td>\n",
       "      <td>0.195669</td>\n",
       "      <td>0.016815</td>\n",
       "      <td>0.018692</td>\n",
       "      <td>...</td>\n",
       "      <td>0</td>\n",
       "      <td>0</td>\n",
       "      <td>0</td>\n",
       "      <td>0</td>\n",
       "      <td>0</td>\n",
       "      <td>0</td>\n",
       "      <td>1</td>\n",
       "      <td>0</td>\n",
       "      <td>6d407ea1-8f3e-4766-a7f7-72324eba15d2</td>\n",
       "      <td>1</td>\n",
       "    </tr>\n",
       "  </tbody>\n",
       "</table>\n",
       "<p>5 rows × 54 columns</p>\n",
       "</div>"
      ],
      "text/plain": [
       "   Unnamed: 0  trx_date  report_date  registereddate  birthday  is_verified  \\\n",
       "0           0  0.812236     0.812763        0.963095  0.916693            1   \n",
       "1           1  0.800985     0.801543        1.000000  0.345767            1   \n",
       "2           2  0.796765     0.797335        0.944643  0.962166            1   \n",
       "3           3  0.756681     0.771388        0.872619  0.789122            1   \n",
       "4           4  0.775668     0.776297        0.935714  0.886426            1   \n",
       "\n",
       "   aqc_freq_prepaid_mobile  aqc_mean_prepaid_mobile_amount  aqc_freq_topup  \\\n",
       "0                 0.000000                        0.000000        0.077151   \n",
       "1                 0.000000                        0.000000        0.015826   \n",
       "2                 0.000000                        0.000000        0.005935   \n",
       "3                 0.038911                        0.041929        0.033630   \n",
       "4                 0.062257                        0.195669        0.016815   \n",
       "\n",
       "   aqc_freq_topup_within_7d  ...  job_position_KARYAWAN  job_position_LAINNYA  \\\n",
       "0                  0.053738  ...                      0                     0   \n",
       "1                  0.037383  ...                      0                     0   \n",
       "2                  0.004673  ...                      0                     0   \n",
       "3                  0.065421  ...                      1                     0   \n",
       "4                  0.018692  ...                      0                     0   \n",
       "\n",
       "   job_position_PEGAWAI_NS  job_position_PELAJAR  job_position_RUMAH_TANGGA  \\\n",
       "0                        0                     1                          0   \n",
       "1                        0                     0                          1   \n",
       "2                        0                     1                          0   \n",
       "3                        0                     0                          0   \n",
       "4                        0                     0                          0   \n",
       "\n",
       "   job_position_SPESIALIS  job_position_TIDAK_KERJA  job_position_WIRASWASTA  \\\n",
       "0                       0                         0                        0   \n",
       "1                       0                         0                        0   \n",
       "2                       0                         0                        0   \n",
       "3                       0                         0                        0   \n",
       "4                       0                         1                        0   \n",
       "\n",
       "                                    uid  is_scammer  \n",
       "0  b3007010-e28e-4b0a-8549-a9dfd7f58ff3           0  \n",
       "1  76bef4cc-81d2-4759-80ac-8ffa6324f958           1  \n",
       "2  4c40e720-9640-4aff-8f54-22603fed66ec           0  \n",
       "3  1b92b298-eb2e-4efd-a881-131a267182b8           0  \n",
       "4  6d407ea1-8f3e-4766-a7f7-72324eba15d2           1  \n",
       "\n",
       "[5 rows x 54 columns]"
      ]
     },
     "execution_count": 16,
     "metadata": {},
     "output_type": "execute_result"
    }
   ],
   "source": [
    "df.head()"
   ]
  },
  {
   "cell_type": "code",
   "execution_count": 28,
   "id": "f7792a64",
   "metadata": {},
   "outputs": [],
   "source": [
    "y_test = df['is_scammer']"
   ]
  },
  {
   "cell_type": "code",
   "execution_count": null,
   "id": "3f900046",
   "metadata": {},
   "outputs": [],
   "source": [
    "x_test = df.drop(columns=['Unnamed: 0', 'uid', 'is_scammer'])"
   ]
  },
  {
   "cell_type": "code",
   "execution_count": 19,
   "id": "81ae3964",
   "metadata": {
    "scrolled": false
   },
   "outputs": [
    {
     "data": {
      "text/plain": [
       "0       0\n",
       "1       1\n",
       "2       0\n",
       "3       0\n",
       "4       1\n",
       "       ..\n",
       "2137    0\n",
       "2138    0\n",
       "2139    1\n",
       "2140    0\n",
       "2141    0\n",
       "Name: is_scammer, Length: 2142, dtype: int64"
      ]
     },
     "execution_count": 19,
     "metadata": {},
     "output_type": "execute_result"
    }
   ],
   "source": [
    "y_test"
   ]
  },
  {
   "cell_type": "markdown",
   "id": "8fb627d3",
   "metadata": {},
   "source": [
    "#### Convert to Tensor"
   ]
  },
  {
   "cell_type": "code",
   "execution_count": 21,
   "id": "da399004",
   "metadata": {},
   "outputs": [],
   "source": [
    "x_test, y_test = tf.convert_to_tensor(x_test, dtype=tf.float32), tf.convert_to_tensor(y_test, dtype=tf.float32)"
   ]
  },
  {
   "cell_type": "code",
   "execution_count": 12,
   "id": "77a29e1b",
   "metadata": {},
   "outputs": [],
   "source": [
    "model = tf.keras.models.load_model(\"saved_models/log_reg_keras_source_drop.h5\", compile=False)"
   ]
  },
  {
   "cell_type": "code",
   "execution_count": 13,
   "id": "e6a4b5de",
   "metadata": {},
   "outputs": [
    {
     "name": "stdout",
     "output_type": "stream",
     "text": [
      "Model: \"sequential_2\"\n",
      "_________________________________________________________________\n",
      "Layer (type)                 Output Shape              Param #   \n",
      "=================================================================\n",
      "dense_5 (Dense)              (None, 10)                520       \n",
      "_________________________________________________________________\n",
      "dense_6 (Dense)              (None, 1)                 11        \n",
      "=================================================================\n",
      "Total params: 531\n",
      "Trainable params: 531\n",
      "Non-trainable params: 0\n",
      "_________________________________________________________________\n"
     ]
    }
   ],
   "source": [
    "model.summary()"
   ]
  },
  {
   "cell_type": "code",
   "execution_count": 23,
   "id": "076bcaea",
   "metadata": {},
   "outputs": [],
   "source": [
    "y_result = model.predict(x_test)"
   ]
  },
  {
   "cell_type": "code",
   "execution_count": 38,
   "id": "2c92a65b",
   "metadata": {},
   "outputs": [
    {
     "data": {
      "text/plain": [
       "2142"
      ]
     },
     "execution_count": 38,
     "metadata": {},
     "output_type": "execute_result"
    }
   ],
   "source": [
    "len(y_result)"
   ]
  },
  {
   "cell_type": "code",
   "execution_count": 43,
   "id": "988dc2b4",
   "metadata": {},
   "outputs": [],
   "source": [
    "pred_correct = 0\n",
    "pred_false = 0\n",
    "for i in range (0, len(y_result)):\n",
    "    if y_result[i] >= 0.5:\n",
    "        if (y_test[i] == 1):\n",
    "            pred_correct += 1\n",
    "        else:\n",
    "            pred_false += 1\n",
    "    else:\n",
    "        if (y_test[i] == 0):\n",
    "            pred_correct += 1\n",
    "        else:\n",
    "            pred_false += 1"
   ]
  },
  {
   "cell_type": "code",
   "execution_count": 44,
   "id": "6fec4541",
   "metadata": {},
   "outputs": [
    {
     "data": {
      "text/plain": [
       "1769"
      ]
     },
     "execution_count": 44,
     "metadata": {},
     "output_type": "execute_result"
    }
   ],
   "source": [
    "pred_correct"
   ]
  },
  {
   "cell_type": "code",
   "execution_count": 45,
   "id": "96858238",
   "metadata": {},
   "outputs": [
    {
     "data": {
      "text/plain": [
       "373"
      ]
     },
     "execution_count": 45,
     "metadata": {},
     "output_type": "execute_result"
    }
   ],
   "source": [
    "pred_false"
   ]
  },
  {
   "cell_type": "code",
   "execution_count": 47,
   "id": "4d6220c9",
   "metadata": {},
   "outputs": [
    {
     "data": {
      "text/plain": [
       "0.8258636788048552"
      ]
     },
     "execution_count": 47,
     "metadata": {},
     "output_type": "execute_result"
    }
   ],
   "source": [
    "# Accuracy\n",
    "pred_correct/(pred_correct+pred_false)"
   ]
  },
  {
   "cell_type": "code",
   "execution_count": null,
   "id": "6090b1db",
   "metadata": {},
   "outputs": [],
   "source": []
  }
 ],
 "metadata": {
  "kernelspec": {
   "display_name": "Python 3",
   "language": "python",
   "name": "python3"
  },
  "language_info": {
   "codemirror_mode": {
    "name": "ipython",
    "version": 3
   },
   "file_extension": ".py",
   "mimetype": "text/x-python",
   "name": "python",
   "nbconvert_exporter": "python",
   "pygments_lexer": "ipython3",
   "version": "3.6.13"
  }
 },
 "nbformat": 4,
 "nbformat_minor": 5
}
