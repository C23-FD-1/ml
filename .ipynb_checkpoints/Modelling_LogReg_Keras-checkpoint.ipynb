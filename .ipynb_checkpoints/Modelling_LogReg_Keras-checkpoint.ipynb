{
 "cells": [
  {
   "cell_type": "markdown",
   "id": "6be7ec0f",
   "metadata": {},
   "source": [
    "# MODELLING\n",
    "## Logistic Regression with Tensorflow Keras\n",
    "### Fraud Detection System Development using Deep Neural Network for Reported Transactional Data"
   ]
  },
  {
   "cell_type": "markdown",
   "id": "baeb582b",
   "metadata": {},
   "source": [
    "#### Import Libraries and Dataset"
   ]
  },
  {
   "cell_type": "code",
   "execution_count": 1,
   "id": "26305c25",
   "metadata": {},
   "outputs": [],
   "source": [
    "import pandas as pd\n",
    "import tensorflow as tf\n",
    "import numpy as np"
   ]
  },
  {
   "cell_type": "code",
   "execution_count": 6,
   "id": "296bd2aa",
   "metadata": {},
   "outputs": [],
   "source": [
    "df = pd.read_csv('user_data_clip99_minmax.csv', sep = ';')"
   ]
  },
  {
   "cell_type": "code",
   "execution_count": 7,
   "id": "576b0d49",
   "metadata": {
    "scrolled": true
   },
   "outputs": [
    {
     "data": {
      "text/html": [
       "<div>\n",
       "<style scoped>\n",
       "    .dataframe tbody tr th:only-of-type {\n",
       "        vertical-align: middle;\n",
       "    }\n",
       "\n",
       "    .dataframe tbody tr th {\n",
       "        vertical-align: top;\n",
       "    }\n",
       "\n",
       "    .dataframe thead th {\n",
       "        text-align: right;\n",
       "    }\n",
       "</style>\n",
       "<table border=\"1\" class=\"dataframe\">\n",
       "  <thead>\n",
       "    <tr style=\"text-align: right;\">\n",
       "      <th></th>\n",
       "      <th>is_scammer</th>\n",
       "      <th>trx_date</th>\n",
       "      <th>report_date</th>\n",
       "      <th>registereddate</th>\n",
       "      <th>birthday</th>\n",
       "      <th>is_verified</th>\n",
       "      <th>aqc_freq_prepaid_mobile</th>\n",
       "      <th>aqc_mean_prepaid_mobile_amount</th>\n",
       "      <th>aqc_freq_topup</th>\n",
       "      <th>aqc_freq_topup_within_7d</th>\n",
       "      <th>...</th>\n",
       "      <th>gender_Male</th>\n",
       "      <th>gender_None</th>\n",
       "      <th>job_position_KARYAWAN</th>\n",
       "      <th>job_position_LAINNYA</th>\n",
       "      <th>job_position_PEGAWAI_NS</th>\n",
       "      <th>job_position_PELAJAR</th>\n",
       "      <th>job_position_RUMAH_TANGGA</th>\n",
       "      <th>job_position_SPESIALIS</th>\n",
       "      <th>job_position_TIDAK_KERJA</th>\n",
       "      <th>job_position_WIRASWASTA</th>\n",
       "    </tr>\n",
       "  </thead>\n",
       "  <tbody>\n",
       "    <tr>\n",
       "      <th>0</th>\n",
       "      <td>1</td>\n",
       "      <td>0.376934</td>\n",
       "      <td>0.005629</td>\n",
       "      <td>0.673512</td>\n",
       "      <td>0.909517</td>\n",
       "      <td>1</td>\n",
       "      <td>0.019455</td>\n",
       "      <td>0.456958</td>\n",
       "      <td>0.022750</td>\n",
       "      <td>0.007009</td>\n",
       "      <td>...</td>\n",
       "      <td>0</td>\n",
       "      <td>0</td>\n",
       "      <td>0</td>\n",
       "      <td>0</td>\n",
       "      <td>0</td>\n",
       "      <td>1</td>\n",
       "      <td>0</td>\n",
       "      <td>0</td>\n",
       "      <td>0</td>\n",
       "      <td>0</td>\n",
       "    </tr>\n",
       "    <tr>\n",
       "      <th>1</th>\n",
       "      <td>0</td>\n",
       "      <td>0.552039</td>\n",
       "      <td>0.632270</td>\n",
       "      <td>0.784524</td>\n",
       "      <td>0.948204</td>\n",
       "      <td>1</td>\n",
       "      <td>0.000000</td>\n",
       "      <td>0.000000</td>\n",
       "      <td>0.038576</td>\n",
       "      <td>0.074766</td>\n",
       "      <td>...</td>\n",
       "      <td>1</td>\n",
       "      <td>0</td>\n",
       "      <td>0</td>\n",
       "      <td>0</td>\n",
       "      <td>0</td>\n",
       "      <td>1</td>\n",
       "      <td>0</td>\n",
       "      <td>0</td>\n",
       "      <td>0</td>\n",
       "      <td>0</td>\n",
       "    </tr>\n",
       "    <tr>\n",
       "      <th>2</th>\n",
       "      <td>0</td>\n",
       "      <td>0.772855</td>\n",
       "      <td>0.696998</td>\n",
       "      <td>0.783631</td>\n",
       "      <td>0.766422</td>\n",
       "      <td>1</td>\n",
       "      <td>0.077821</td>\n",
       "      <td>0.324991</td>\n",
       "      <td>0.683482</td>\n",
       "      <td>0.271028</td>\n",
       "      <td>...</td>\n",
       "      <td>1</td>\n",
       "      <td>0</td>\n",
       "      <td>0</td>\n",
       "      <td>0</td>\n",
       "      <td>0</td>\n",
       "      <td>0</td>\n",
       "      <td>0</td>\n",
       "      <td>0</td>\n",
       "      <td>0</td>\n",
       "      <td>1</td>\n",
       "    </tr>\n",
       "    <tr>\n",
       "      <th>3</th>\n",
       "      <td>0</td>\n",
       "      <td>0.535865</td>\n",
       "      <td>0.550657</td>\n",
       "      <td>0.565476</td>\n",
       "      <td>0.974102</td>\n",
       "      <td>1</td>\n",
       "      <td>0.042802</td>\n",
       "      <td>0.200904</td>\n",
       "      <td>0.092977</td>\n",
       "      <td>0.042056</td>\n",
       "      <td>...</td>\n",
       "      <td>0</td>\n",
       "      <td>0</td>\n",
       "      <td>0</td>\n",
       "      <td>0</td>\n",
       "      <td>0</td>\n",
       "      <td>1</td>\n",
       "      <td>0</td>\n",
       "      <td>0</td>\n",
       "      <td>0</td>\n",
       "      <td>0</td>\n",
       "    </tr>\n",
       "    <tr>\n",
       "      <th>4</th>\n",
       "      <td>0</td>\n",
       "      <td>0.786920</td>\n",
       "      <td>0.715760</td>\n",
       "      <td>0.999702</td>\n",
       "      <td>0.688586</td>\n",
       "      <td>1</td>\n",
       "      <td>0.000000</td>\n",
       "      <td>0.000000</td>\n",
       "      <td>0.031652</td>\n",
       "      <td>0.056075</td>\n",
       "      <td>...</td>\n",
       "      <td>1</td>\n",
       "      <td>0</td>\n",
       "      <td>0</td>\n",
       "      <td>0</td>\n",
       "      <td>0</td>\n",
       "      <td>0</td>\n",
       "      <td>0</td>\n",
       "      <td>0</td>\n",
       "      <td>0</td>\n",
       "      <td>1</td>\n",
       "    </tr>\n",
       "  </tbody>\n",
       "</table>\n",
       "<p>5 rows × 56 columns</p>\n",
       "</div>"
      ],
      "text/plain": [
       "   is_scammer  trx_date  report_date  registereddate  birthday  is_verified   \n",
       "0           1  0.376934     0.005629        0.673512  0.909517            1  \\\n",
       "1           0  0.552039     0.632270        0.784524  0.948204            1   \n",
       "2           0  0.772855     0.696998        0.783631  0.766422            1   \n",
       "3           0  0.535865     0.550657        0.565476  0.974102            1   \n",
       "4           0  0.786920     0.715760        0.999702  0.688586            1   \n",
       "\n",
       "   aqc_freq_prepaid_mobile  aqc_mean_prepaid_mobile_amount  aqc_freq_topup   \n",
       "0                 0.019455                        0.456958        0.022750  \\\n",
       "1                 0.000000                        0.000000        0.038576   \n",
       "2                 0.077821                        0.324991        0.683482   \n",
       "3                 0.042802                        0.200904        0.092977   \n",
       "4                 0.000000                        0.000000        0.031652   \n",
       "\n",
       "   aqc_freq_topup_within_7d  ...  gender_Male  gender_None   \n",
       "0                  0.007009  ...            0            0  \\\n",
       "1                  0.074766  ...            1            0   \n",
       "2                  0.271028  ...            1            0   \n",
       "3                  0.042056  ...            0            0   \n",
       "4                  0.056075  ...            1            0   \n",
       "\n",
       "   job_position_KARYAWAN  job_position_LAINNYA  job_position_PEGAWAI_NS   \n",
       "0                      0                     0                        0  \\\n",
       "1                      0                     0                        0   \n",
       "2                      0                     0                        0   \n",
       "3                      0                     0                        0   \n",
       "4                      0                     0                        0   \n",
       "\n",
       "   job_position_PELAJAR  job_position_RUMAH_TANGGA  job_position_SPESIALIS   \n",
       "0                     1                          0                       0  \\\n",
       "1                     1                          0                       0   \n",
       "2                     0                          0                       0   \n",
       "3                     1                          0                       0   \n",
       "4                     0                          0                       0   \n",
       "\n",
       "   job_position_TIDAK_KERJA  job_position_WIRASWASTA  \n",
       "0                         0                        0  \n",
       "1                         0                        0  \n",
       "2                         0                        1  \n",
       "3                         0                        0  \n",
       "4                         0                        1  \n",
       "\n",
       "[5 rows x 56 columns]"
      ]
     },
     "execution_count": 7,
     "metadata": {},
     "output_type": "execute_result"
    }
   ],
   "source": [
    "df = df.rename(columns={\"Unnamed: 0\": \"id\"})\n",
    "df = df.drop(columns = ['uid', 'id'])\n",
    "df.head()"
   ]
  },
  {
   "cell_type": "markdown",
   "id": "9a463193",
   "metadata": {},
   "source": [
    "#### Dataset Splitting and Shuffling"
   ]
  },
  {
   "cell_type": "code",
   "execution_count": 8,
   "id": "0e1ded85",
   "metadata": {},
   "outputs": [],
   "source": [
    "# Split Train and Validation Dataset\n",
    "#from sklearn.model_selection import train_test_split\n",
    "SPLIT_SIZE = 0.7368421\n",
    "\n",
    "train_len = int(len(df) * SPLIT_SIZE)\n",
    "\n",
    "shuffled_files = df.sample(frac = 1, random_state = 1)\n",
    "\n",
    "test_set = shuffled_files[train_len:]\n",
    "train_set = shuffled_files[:train_len]\n",
    "\n",
    "y_train = train_set['is_scammer']\n",
    "x_train = train_set.drop(columns=['is_scammer'])\n",
    "y_test = test_set['is_scammer']\n",
    "x_test = test_set.drop(columns=['is_scammer'])"
   ]
  },
  {
   "cell_type": "code",
   "execution_count": 45,
   "id": "e8ed7028",
   "metadata": {},
   "outputs": [],
   "source": [
    "# Convert to tensors\n",
    "x_train, y_train = tf.convert_to_tensor(x_train, dtype=tf.float32), tf.convert_to_tensor(y_train, dtype=tf.float32)\n",
    "x_test, y_test = tf.convert_to_tensor(x_test, dtype=tf.float32), tf.convert_to_tensor(y_test, dtype=tf.float32)"
   ]
  },
  {
   "cell_type": "code",
   "execution_count": 36,
   "id": "c257ebd1",
   "metadata": {},
   "outputs": [
    {
     "data": {
      "text/plain": [
       "<tf.Tensor: shape=(10716,), dtype=float32, numpy=array([1., 1., 1., ..., 1., 1., 1.], dtype=float32)>"
      ]
     },
     "execution_count": 36,
     "metadata": {},
     "output_type": "execute_result"
    }
   ],
   "source": [
    "y_test"
   ]
  },
  {
   "cell_type": "markdown",
   "id": "e70933b9",
   "metadata": {},
   "source": [
    "#### Modelling"
   ]
  },
  {
   "cell_type": "code",
   "execution_count": 90,
   "id": "3a230fef",
   "metadata": {},
   "outputs": [],
   "source": [
    "model = tf.keras.models.Sequential(\n",
    "    tf.keras.layers.Dense(units=1, activation='sigmoid', input_dim=x_train.shape[1])\n",
    ")"
   ]
  },
  {
   "cell_type": "code",
   "execution_count": 91,
   "id": "97f1cb7a",
   "metadata": {},
   "outputs": [],
   "source": [
    "# Main Metrics: F1, precision\n",
    "# Complementary Metrics: "
   ]
  },
  {
   "cell_type": "code",
   "execution_count": 92,
   "id": "2df57993",
   "metadata": {},
   "outputs": [],
   "source": [
    "model.compile(\n",
    "    optimizer='sgd',\n",
    "    loss='binary_crossentropy', \n",
    "    metrics=[\n",
    "        tf.keras.metrics.Precision(), \n",
    "        tf.keras.metrics.Recall(), \n",
    "        tf.keras.metrics.FalseNegatives(),\n",
    "        tf.keras.metrics.FalsePositives(),\n",
    "        tf.keras.metrics.TruePositives(),\n",
    "        tf.keras.metrics.TrueNegatives()\n",
    "    ]\n",
    ")"
   ]
  },
  {
   "cell_type": "code",
   "execution_count": 93,
   "id": "1740989d",
   "metadata": {
    "scrolled": true
   },
   "outputs": [
    {
     "name": "stdout",
     "output_type": "stream",
     "text": [
      "Epoch 1/50\n",
      "938/938 [==============================] - 3s 2ms/step - loss: 0.5184 - precision_5: 0.8170 - recall_5: 0.7848 - false_negatives_2: 3187.0000 - false_positives_2: 2603.0000 - true_positives_2: 11622.0000 - true_negatives_2: 12589.0000 - val_loss: 0.3469 - val_precision_5: 0.9691 - val_recall_5: 0.9769 - val_false_negatives_2: 121.0000 - val_false_positives_2: 163.0000 - val_true_positives_2: 5120.0000 - val_true_negatives_2: 5312.0000\n",
      "Epoch 2/50\n",
      "938/938 [==============================] - 2s 2ms/step - loss: 0.2739 - precision_5: 0.9891 - recall_5: 0.9934 - false_negatives_2: 97.0000 - false_positives_2: 162.0000 - true_positives_2: 14712.0000 - true_negatives_2: 15030.0000 - val_loss: 0.2122 - val_precision_5: 0.9992 - val_recall_5: 1.0000 - val_false_negatives_2: 0.0000e+00 - val_false_positives_2: 4.0000 - val_true_positives_2: 5241.0000 - val_true_negatives_2: 5471.0000\n",
      "Epoch 3/50\n",
      "938/938 [==============================] - 2s 2ms/step - loss: 0.1802 - precision_5: 0.9999 - recall_5: 1.0000 - false_negatives_2: 0.0000e+00 - false_positives_2: 1.0000 - true_positives_2: 14809.0000 - true_negatives_2: 15191.0000 - val_loss: 0.1494 - val_precision_5: 1.0000 - val_recall_5: 1.0000 - val_false_negatives_2: 0.0000e+00 - val_false_positives_2: 0.0000e+00 - val_true_positives_2: 5241.0000 - val_true_negatives_2: 5475.0000\n",
      "Epoch 4/50\n",
      "938/938 [==============================] - 2s 2ms/step - loss: 0.1322 - precision_5: 1.0000 - recall_5: 1.0000 - false_negatives_2: 0.0000e+00 - false_positives_2: 0.0000e+00 - true_positives_2: 14809.0000 - true_negatives_2: 15192.0000 - val_loss: 0.1138 - val_precision_5: 1.0000 - val_recall_5: 1.0000 - val_false_negatives_2: 0.0000e+00 - val_false_positives_2: 0.0000e+00 - val_true_positives_2: 5241.0000 - val_true_negatives_2: 5475.0000\n",
      "Epoch 5/50\n",
      "938/938 [==============================] - 2s 2ms/step - loss: 0.1035 - precision_5: 1.0000 - recall_5: 1.0000 - false_negatives_2: 0.0000e+00 - false_positives_2: 0.0000e+00 - true_positives_2: 14809.0000 - true_negatives_2: 15192.0000 - val_loss: 0.0914 - val_precision_5: 1.0000 - val_recall_5: 1.0000 - val_false_negatives_2: 0.0000e+00 - val_false_positives_2: 0.0000e+00 - val_true_positives_2: 5241.0000 - val_true_negatives_2: 5475.0000\n",
      "Epoch 6/50\n",
      "938/938 [==============================] - 2s 2ms/step - loss: 0.0847 - precision_5: 1.0000 - recall_5: 1.0000 - false_negatives_2: 0.0000e+00 - false_positives_2: 0.0000e+00 - true_positives_2: 14809.0000 - true_negatives_2: 15192.0000 - val_loss: 0.0761 - val_precision_5: 1.0000 - val_recall_5: 1.0000 - val_false_negatives_2: 0.0000e+00 - val_false_positives_2: 0.0000e+00 - val_true_positives_2: 5241.0000 - val_true_negatives_2: 5475.0000\n",
      "Epoch 7/50\n",
      "938/938 [==============================] - 2s 2ms/step - loss: 0.0714 - precision_5: 1.0000 - recall_5: 1.0000 - false_negatives_2: 0.0000e+00 - false_positives_2: 0.0000e+00 - true_positives_2: 14809.0000 - true_negatives_2: 15192.0000 - val_loss: 0.0651 - val_precision_5: 1.0000 - val_recall_5: 1.0000 - val_false_negatives_2: 0.0000e+00 - val_false_positives_2: 0.0000e+00 - val_true_positives_2: 5241.0000 - val_true_negatives_2: 5475.0000\n",
      "Epoch 8/50\n",
      "938/938 [==============================] - 2s 2ms/step - loss: 0.0617 - precision_5: 1.0000 - recall_5: 1.0000 - false_negatives_2: 0.0000e+00 - false_positives_2: 0.0000e+00 - true_positives_2: 14809.0000 - true_negatives_2: 15192.0000 - val_loss: 0.0568 - val_precision_5: 1.0000 - val_recall_5: 1.0000 - val_false_negatives_2: 0.0000e+00 - val_false_positives_2: 0.0000e+00 - val_true_positives_2: 5241.0000 - val_true_negatives_2: 5475.0000\n",
      "Epoch 9/50\n",
      "938/938 [==============================] - 2s 2ms/step - loss: 0.0542 - precision_5: 1.0000 - recall_5: 1.0000 - false_negatives_2: 0.0000e+00 - false_positives_2: 0.0000e+00 - true_positives_2: 14809.0000 - true_negatives_2: 15192.0000 - val_loss: 0.0503 - val_precision_5: 1.0000 - val_recall_5: 1.0000 - val_false_negatives_2: 0.0000e+00 - val_false_positives_2: 0.0000e+00 - val_true_positives_2: 5241.0000 - val_true_negatives_2: 5475.0000\n",
      "Epoch 10/50\n",
      "938/938 [==============================] - 2s 2ms/step - loss: 0.0483 - precision_5: 1.0000 - recall_5: 1.0000 - false_negatives_2: 0.0000e+00 - false_positives_2: 0.0000e+00 - true_positives_2: 14809.0000 - true_negatives_2: 15192.0000 - val_loss: 0.0451 - val_precision_5: 1.0000 - val_recall_5: 1.0000 - val_false_negatives_2: 0.0000e+00 - val_false_positives_2: 0.0000e+00 - val_true_positives_2: 5241.0000 - val_true_negatives_2: 5475.0000\n",
      "Epoch 11/50\n",
      "938/938 [==============================] - 2s 2ms/step - loss: 0.0436 - precision_5: 1.0000 - recall_5: 1.0000 - false_negatives_2: 0.0000e+00 - false_positives_2: 0.0000e+00 - true_positives_2: 14809.0000 - true_negatives_2: 15192.0000 - val_loss: 0.0409 - val_precision_5: 1.0000 - val_recall_5: 1.0000 - val_false_negatives_2: 0.0000e+00 - val_false_positives_2: 0.0000e+00 - val_true_positives_2: 5241.0000 - val_true_negatives_2: 5475.0000\n",
      "Epoch 12/50\n",
      "938/938 [==============================] - 2s 2ms/step - loss: 0.0397 - precision_5: 1.0000 - recall_5: 1.0000 - false_negatives_2: 0.0000e+00 - false_positives_2: 0.0000e+00 - true_positives_2: 14809.0000 - true_negatives_2: 15192.0000 - val_loss: 0.0373 - val_precision_5: 1.0000 - val_recall_5: 1.0000 - val_false_negatives_2: 0.0000e+00 - val_false_positives_2: 0.0000e+00 - val_true_positives_2: 5241.0000 - val_true_negatives_2: 5475.0000\n",
      "Epoch 13/50\n",
      "938/938 [==============================] - 2s 2ms/step - loss: 0.0364 - precision_5: 1.0000 - recall_5: 1.0000 - false_negatives_2: 0.0000e+00 - false_positives_2: 0.0000e+00 - true_positives_2: 14809.0000 - true_negatives_2: 15192.0000 - val_loss: 0.0344 - val_precision_5: 1.0000 - val_recall_5: 1.0000 - val_false_negatives_2: 0.0000e+00 - val_false_positives_2: 0.0000e+00 - val_true_positives_2: 5241.0000 - val_true_negatives_2: 5475.0000\n",
      "Epoch 14/50\n",
      "938/938 [==============================] - 2s 2ms/step - loss: 0.0336 - precision_5: 1.0000 - recall_5: 1.0000 - false_negatives_2: 0.0000e+00 - false_positives_2: 0.0000e+00 - true_positives_2: 14809.0000 - true_negatives_2: 15192.0000 - val_loss: 0.0318 - val_precision_5: 1.0000 - val_recall_5: 1.0000 - val_false_negatives_2: 0.0000e+00 - val_false_positives_2: 0.0000e+00 - val_true_positives_2: 5241.0000 - val_true_negatives_2: 5475.0000\n",
      "Epoch 15/50\n",
      "938/938 [==============================] - 2s 2ms/step - loss: 0.0312 - precision_5: 1.0000 - recall_5: 1.0000 - false_negatives_2: 0.0000e+00 - false_positives_2: 0.0000e+00 - true_positives_2: 14809.0000 - true_negatives_2: 15192.0000 - val_loss: 0.0296 - val_precision_5: 1.0000 - val_recall_5: 1.0000 - val_false_negatives_2: 0.0000e+00 - val_false_positives_2: 0.0000e+00 - val_true_positives_2: 5241.0000 - val_true_negatives_2: 5475.0000\n",
      "Epoch 16/50\n",
      "938/938 [==============================] - 2s 2ms/step - loss: 0.0291 - precision_5: 1.0000 - recall_5: 1.0000 - false_negatives_2: 0.0000e+00 - false_positives_2: 0.0000e+00 - true_positives_2: 14809.0000 - true_negatives_2: 15192.0000 - val_loss: 0.0277 - val_precision_5: 1.0000 - val_recall_5: 1.0000 - val_false_negatives_2: 0.0000e+00 - val_false_positives_2: 0.0000e+00 - val_true_positives_2: 5241.0000 - val_true_negatives_2: 5475.0000\n",
      "Epoch 17/50\n",
      "938/938 [==============================] - 2s 2ms/step - loss: 0.0273 - precision_5: 1.0000 - recall_5: 1.0000 - false_negatives_2: 0.0000e+00 - false_positives_2: 0.0000e+00 - true_positives_2: 14809.0000 - true_negatives_2: 15192.0000 - val_loss: 0.0260 - val_precision_5: 1.0000 - val_recall_5: 1.0000 - val_false_negatives_2: 0.0000e+00 - val_false_positives_2: 0.0000e+00 - val_true_positives_2: 5241.0000 - val_true_negatives_2: 5475.0000\n",
      "Epoch 18/50\n",
      "938/938 [==============================] - 2s 2ms/step - loss: 0.0257 - precision_5: 1.0000 - recall_5: 1.0000 - false_negatives_2: 0.0000e+00 - false_positives_2: 0.0000e+00 - true_positives_2: 14809.0000 - true_negatives_2: 15192.0000 - val_loss: 0.0245 - val_precision_5: 1.0000 - val_recall_5: 1.0000 - val_false_negatives_2: 0.0000e+00 - val_false_positives_2: 0.0000e+00 - val_true_positives_2: 5241.0000 - val_true_negatives_2: 5475.0000\n"
     ]
    },
    {
     "name": "stdout",
     "output_type": "stream",
     "text": [
      "Epoch 19/50\n",
      "938/938 [==============================] - 2s 2ms/step - loss: 0.0242 - precision_5: 1.0000 - recall_5: 1.0000 - false_negatives_2: 0.0000e+00 - false_positives_2: 0.0000e+00 - true_positives_2: 14809.0000 - true_negatives_2: 15192.0000 - val_loss: 0.0232 - val_precision_5: 1.0000 - val_recall_5: 1.0000 - val_false_negatives_2: 0.0000e+00 - val_false_positives_2: 0.0000e+00 - val_true_positives_2: 5241.0000 - val_true_negatives_2: 5475.0000\n",
      "Epoch 20/50\n",
      "938/938 [==============================] - 2s 2ms/step - loss: 0.0229 - precision_5: 1.0000 - recall_5: 1.0000 - false_negatives_2: 0.0000e+00 - false_positives_2: 0.0000e+00 - true_positives_2: 14809.0000 - true_negatives_2: 15192.0000 - val_loss: 0.0220 - val_precision_5: 1.0000 - val_recall_5: 1.0000 - val_false_negatives_2: 0.0000e+00 - val_false_positives_2: 0.0000e+00 - val_true_positives_2: 5241.0000 - val_true_negatives_2: 5475.0000\n",
      "Epoch 21/50\n",
      "938/938 [==============================] - 2s 2ms/step - loss: 0.0218 - precision_5: 1.0000 - recall_5: 1.0000 - false_negatives_2: 0.0000e+00 - false_positives_2: 0.0000e+00 - true_positives_2: 14809.0000 - true_negatives_2: 15192.0000 - val_loss: 0.0209 - val_precision_5: 1.0000 - val_recall_5: 1.0000 - val_false_negatives_2: 0.0000e+00 - val_false_positives_2: 0.0000e+00 - val_true_positives_2: 5241.0000 - val_true_negatives_2: 5475.0000\n",
      "Epoch 22/50\n",
      "938/938 [==============================] - 2s 2ms/step - loss: 0.0207 - precision_5: 1.0000 - recall_5: 1.0000 - false_negatives_2: 0.0000e+00 - false_positives_2: 0.0000e+00 - true_positives_2: 14809.0000 - true_negatives_2: 15192.0000 - val_loss: 0.0199 - val_precision_5: 1.0000 - val_recall_5: 1.0000 - val_false_negatives_2: 0.0000e+00 - val_false_positives_2: 0.0000e+00 - val_true_positives_2: 5241.0000 - val_true_negatives_2: 5475.0000\n",
      "Epoch 23/50\n",
      "938/938 [==============================] - 2s 2ms/step - loss: 0.0198 - precision_5: 1.0000 - recall_5: 1.0000 - false_negatives_2: 0.0000e+00 - false_positives_2: 0.0000e+00 - true_positives_2: 14809.0000 - true_negatives_2: 15192.0000 - val_loss: 0.0190 - val_precision_5: 1.0000 - val_recall_5: 1.0000 - val_false_negatives_2: 0.0000e+00 - val_false_positives_2: 0.0000e+00 - val_true_positives_2: 5241.0000 - val_true_negatives_2: 5475.0000\n",
      "Epoch 24/50\n",
      "938/938 [==============================] - 2s 2ms/step - loss: 0.0189 - precision_5: 1.0000 - recall_5: 1.0000 - false_negatives_2: 0.0000e+00 - false_positives_2: 0.0000e+00 - true_positives_2: 14809.0000 - true_negatives_2: 15192.0000 - val_loss: 0.0182 - val_precision_5: 1.0000 - val_recall_5: 1.0000 - val_false_negatives_2: 0.0000e+00 - val_false_positives_2: 0.0000e+00 - val_true_positives_2: 5241.0000 - val_true_negatives_2: 5475.0000\n",
      "Epoch 25/50\n",
      "938/938 [==============================] - 2s 2ms/step - loss: 0.0181 - precision_5: 1.0000 - recall_5: 1.0000 - false_negatives_2: 0.0000e+00 - false_positives_2: 0.0000e+00 - true_positives_2: 14809.0000 - true_negatives_2: 15192.0000 - val_loss: 0.0175 - val_precision_5: 1.0000 - val_recall_5: 1.0000 - val_false_negatives_2: 0.0000e+00 - val_false_positives_2: 0.0000e+00 - val_true_positives_2: 5241.0000 - val_true_negatives_2: 5475.0000\n",
      "Epoch 26/50\n",
      "938/938 [==============================] - 2s 2ms/step - loss: 0.0174 - precision_5: 1.0000 - recall_5: 1.0000 - false_negatives_2: 0.0000e+00 - false_positives_2: 0.0000e+00 - true_positives_2: 14809.0000 - true_negatives_2: 15192.0000 - val_loss: 0.0168 - val_precision_5: 1.0000 - val_recall_5: 1.0000 - val_false_negatives_2: 0.0000e+00 - val_false_positives_2: 0.0000e+00 - val_true_positives_2: 5241.0000 - val_true_negatives_2: 5475.0000\n",
      "Epoch 27/50\n",
      "938/938 [==============================] - 2s 2ms/step - loss: 0.0167 - precision_5: 1.0000 - recall_5: 1.0000 - false_negatives_2: 0.0000e+00 - false_positives_2: 0.0000e+00 - true_positives_2: 14809.0000 - true_negatives_2: 15192.0000 - val_loss: 0.0161 - val_precision_5: 1.0000 - val_recall_5: 1.0000 - val_false_negatives_2: 0.0000e+00 - val_false_positives_2: 0.0000e+00 - val_true_positives_2: 5241.0000 - val_true_negatives_2: 5475.0000\n",
      "Epoch 28/50\n",
      "938/938 [==============================] - 2s 2ms/step - loss: 0.0161 - precision_5: 1.0000 - recall_5: 1.0000 - false_negatives_2: 0.0000e+00 - false_positives_2: 0.0000e+00 - true_positives_2: 14809.0000 - true_negatives_2: 15192.0000 - val_loss: 0.0155 - val_precision_5: 1.0000 - val_recall_5: 1.0000 - val_false_negatives_2: 0.0000e+00 - val_false_positives_2: 0.0000e+00 - val_true_positives_2: 5241.0000 - val_true_negatives_2: 5475.0000\n",
      "Epoch 29/50\n",
      "938/938 [==============================] - 2s 2ms/step - loss: 0.0155 - precision_5: 1.0000 - recall_5: 1.0000 - false_negatives_2: 0.0000e+00 - false_positives_2: 0.0000e+00 - true_positives_2: 14809.0000 - true_negatives_2: 15192.0000 - val_loss: 0.0150 - val_precision_5: 1.0000 - val_recall_5: 1.0000 - val_false_negatives_2: 0.0000e+00 - val_false_positives_2: 0.0000e+00 - val_true_positives_2: 5241.0000 - val_true_negatives_2: 5475.0000\n",
      "Epoch 30/50\n",
      "938/938 [==============================] - 2s 2ms/step - loss: 0.0150 - precision_5: 1.0000 - recall_5: 1.0000 - false_negatives_2: 0.0000e+00 - false_positives_2: 0.0000e+00 - true_positives_2: 14809.0000 - true_negatives_2: 15192.0000 - val_loss: 0.0145 - val_precision_5: 1.0000 - val_recall_5: 1.0000 - val_false_negatives_2: 0.0000e+00 - val_false_positives_2: 0.0000e+00 - val_true_positives_2: 5241.0000 - val_true_negatives_2: 5475.0000\n",
      "Epoch 31/50\n",
      "938/938 [==============================] - 2s 2ms/step - loss: 0.0145 - precision_5: 1.0000 - recall_5: 1.0000 - false_negatives_2: 0.0000e+00 - false_positives_2: 0.0000e+00 - true_positives_2: 14809.0000 - true_negatives_2: 15192.0000 - val_loss: 0.0140 - val_precision_5: 1.0000 - val_recall_5: 1.0000 - val_false_negatives_2: 0.0000e+00 - val_false_positives_2: 0.0000e+00 - val_true_positives_2: 5241.0000 - val_true_negatives_2: 5475.0000\n",
      "Epoch 32/50\n",
      "938/938 [==============================] - 2s 2ms/step - loss: 0.0140 - precision_5: 1.0000 - recall_5: 1.0000 - false_negatives_2: 0.0000e+00 - false_positives_2: 0.0000e+00 - true_positives_2: 14809.0000 - true_negatives_2: 15192.0000 - val_loss: 0.0136 - val_precision_5: 1.0000 - val_recall_5: 1.0000 - val_false_negatives_2: 0.0000e+00 - val_false_positives_2: 0.0000e+00 - val_true_positives_2: 5241.0000 - val_true_negatives_2: 5475.0000\n",
      "Epoch 33/50\n",
      "938/938 [==============================] - 2s 2ms/step - loss: 0.0135 - precision_5: 1.0000 - recall_5: 1.0000 - false_negatives_2: 0.0000e+00 - false_positives_2: 0.0000e+00 - true_positives_2: 14809.0000 - true_negatives_2: 15192.0000 - val_loss: 0.0131 - val_precision_5: 1.0000 - val_recall_5: 1.0000 - val_false_negatives_2: 0.0000e+00 - val_false_positives_2: 0.0000e+00 - val_true_positives_2: 5241.0000 - val_true_negatives_2: 5475.0000\n",
      "Epoch 34/50\n",
      "938/938 [==============================] - 2s 2ms/step - loss: 0.0131 - precision_5: 1.0000 - recall_5: 1.0000 - false_negatives_2: 0.0000e+00 - false_positives_2: 0.0000e+00 - true_positives_2: 14809.0000 - true_negatives_2: 15192.0000 - val_loss: 0.0127 - val_precision_5: 1.0000 - val_recall_5: 1.0000 - val_false_negatives_2: 0.0000e+00 - val_false_positives_2: 0.0000e+00 - val_true_positives_2: 5241.0000 - val_true_negatives_2: 5475.0000\n",
      "Epoch 35/50\n",
      "938/938 [==============================] - 2s 2ms/step - loss: 0.0127 - precision_5: 1.0000 - recall_5: 1.0000 - false_negatives_2: 0.0000e+00 - false_positives_2: 0.0000e+00 - true_positives_2: 14809.0000 - true_negatives_2: 15192.0000 - val_loss: 0.0124 - val_precision_5: 1.0000 - val_recall_5: 1.0000 - val_false_negatives_2: 0.0000e+00 - val_false_positives_2: 0.0000e+00 - val_true_positives_2: 5241.0000 - val_true_negatives_2: 5475.0000\n",
      "Epoch 36/50\n",
      "938/938 [==============================] - 2s 2ms/step - loss: 0.0124 - precision_5: 1.0000 - recall_5: 1.0000 - false_negatives_2: 0.0000e+00 - false_positives_2: 0.0000e+00 - true_positives_2: 14809.0000 - true_negatives_2: 15192.0000 - val_loss: 0.0120 - val_precision_5: 1.0000 - val_recall_5: 1.0000 - val_false_negatives_2: 0.0000e+00 - val_false_positives_2: 0.0000e+00 - val_true_positives_2: 5241.0000 - val_true_negatives_2: 5475.0000\n"
     ]
    },
    {
     "name": "stdout",
     "output_type": "stream",
     "text": [
      "Epoch 37/50\n",
      "938/938 [==============================] - 2s 2ms/step - loss: 0.0120 - precision_5: 1.0000 - recall_5: 1.0000 - false_negatives_2: 0.0000e+00 - false_positives_2: 0.0000e+00 - true_positives_2: 14809.0000 - true_negatives_2: 15192.0000 - val_loss: 0.0117 - val_precision_5: 1.0000 - val_recall_5: 1.0000 - val_false_negatives_2: 0.0000e+00 - val_false_positives_2: 0.0000e+00 - val_true_positives_2: 5241.0000 - val_true_negatives_2: 5475.0000\n",
      "Epoch 38/50\n",
      "938/938 [==============================] - 2s 2ms/step - loss: 0.0117 - precision_5: 1.0000 - recall_5: 1.0000 - false_negatives_2: 0.0000e+00 - false_positives_2: 0.0000e+00 - true_positives_2: 14809.0000 - true_negatives_2: 15192.0000 - val_loss: 0.0114 - val_precision_5: 1.0000 - val_recall_5: 1.0000 - val_false_negatives_2: 0.0000e+00 - val_false_positives_2: 0.0000e+00 - val_true_positives_2: 5241.0000 - val_true_negatives_2: 5475.0000\n",
      "Epoch 39/50\n",
      "938/938 [==============================] - 2s 2ms/step - loss: 0.0114 - precision_5: 1.0000 - recall_5: 1.0000 - false_negatives_2: 0.0000e+00 - false_positives_2: 0.0000e+00 - true_positives_2: 14809.0000 - true_negatives_2: 15192.0000 - val_loss: 0.0111 - val_precision_5: 1.0000 - val_recall_5: 1.0000 - val_false_negatives_2: 0.0000e+00 - val_false_positives_2: 0.0000e+00 - val_true_positives_2: 5241.0000 - val_true_negatives_2: 5475.0000\n",
      "Epoch 40/50\n",
      "938/938 [==============================] - 2s 2ms/step - loss: 0.0111 - precision_5: 1.0000 - recall_5: 1.0000 - false_negatives_2: 0.0000e+00 - false_positives_2: 0.0000e+00 - true_positives_2: 14809.0000 - true_negatives_2: 15192.0000 - val_loss: 0.0108 - val_precision_5: 1.0000 - val_recall_5: 1.0000 - val_false_negatives_2: 0.0000e+00 - val_false_positives_2: 0.0000e+00 - val_true_positives_2: 5241.0000 - val_true_negatives_2: 5475.0000\n",
      "Epoch 41/50\n",
      "938/938 [==============================] - 2s 2ms/step - loss: 0.0108 - precision_5: 1.0000 - recall_5: 1.0000 - false_negatives_2: 0.0000e+00 - false_positives_2: 0.0000e+00 - true_positives_2: 14809.0000 - true_negatives_2: 15192.0000 - val_loss: 0.0105 - val_precision_5: 1.0000 - val_recall_5: 1.0000 - val_false_negatives_2: 0.0000e+00 - val_false_positives_2: 0.0000e+00 - val_true_positives_2: 5241.0000 - val_true_negatives_2: 5475.0000\n",
      "Epoch 42/50\n",
      "938/938 [==============================] - 2s 2ms/step - loss: 0.0105 - precision_5: 1.0000 - recall_5: 1.0000 - false_negatives_2: 0.0000e+00 - false_positives_2: 0.0000e+00 - true_positives_2: 14809.0000 - true_negatives_2: 15192.0000 - val_loss: 0.0103 - val_precision_5: 1.0000 - val_recall_5: 1.0000 - val_false_negatives_2: 0.0000e+00 - val_false_positives_2: 0.0000e+00 - val_true_positives_2: 5241.0000 - val_true_negatives_2: 5475.0000\n",
      "Epoch 43/50\n",
      "938/938 [==============================] - 2s 2ms/step - loss: 0.0103 - precision_5: 1.0000 - recall_5: 1.0000 - false_negatives_2: 0.0000e+00 - false_positives_2: 0.0000e+00 - true_positives_2: 14809.0000 - true_negatives_2: 15192.0000 - val_loss: 0.0100 - val_precision_5: 1.0000 - val_recall_5: 1.0000 - val_false_negatives_2: 0.0000e+00 - val_false_positives_2: 0.0000e+00 - val_true_positives_2: 5241.0000 - val_true_negatives_2: 5475.0000\n",
      "Epoch 44/50\n",
      "938/938 [==============================] - 2s 2ms/step - loss: 0.0100 - precision_5: 1.0000 - recall_5: 1.0000 - false_negatives_2: 0.0000e+00 - false_positives_2: 0.0000e+00 - true_positives_2: 14809.0000 - true_negatives_2: 15192.0000 - val_loss: 0.0098 - val_precision_5: 1.0000 - val_recall_5: 1.0000 - val_false_negatives_2: 0.0000e+00 - val_false_positives_2: 0.0000e+00 - val_true_positives_2: 5241.0000 - val_true_negatives_2: 5475.0000\n",
      "Epoch 45/50\n",
      "938/938 [==============================] - 2s 2ms/step - loss: 0.0098 - precision_5: 1.0000 - recall_5: 1.0000 - false_negatives_2: 0.0000e+00 - false_positives_2: 0.0000e+00 - true_positives_2: 14809.0000 - true_negatives_2: 15192.0000 - val_loss: 0.0096 - val_precision_5: 1.0000 - val_recall_5: 1.0000 - val_false_negatives_2: 0.0000e+00 - val_false_positives_2: 0.0000e+00 - val_true_positives_2: 5241.0000 - val_true_negatives_2: 5475.0000\n",
      "Epoch 46/50\n",
      "938/938 [==============================] - 2s 2ms/step - loss: 0.0096 - precision_5: 1.0000 - recall_5: 1.0000 - false_negatives_2: 0.0000e+00 - false_positives_2: 0.0000e+00 - true_positives_2: 14809.0000 - true_negatives_2: 15192.0000 - val_loss: 0.0093 - val_precision_5: 1.0000 - val_recall_5: 1.0000 - val_false_negatives_2: 0.0000e+00 - val_false_positives_2: 0.0000e+00 - val_true_positives_2: 5241.0000 - val_true_negatives_2: 5475.0000\n",
      "Epoch 47/50\n",
      "938/938 [==============================] - 2s 2ms/step - loss: 0.0094 - precision_5: 1.0000 - recall_5: 1.0000 - false_negatives_2: 0.0000e+00 - false_positives_2: 0.0000e+00 - true_positives_2: 14809.0000 - true_negatives_2: 15192.0000 - val_loss: 0.0091 - val_precision_5: 1.0000 - val_recall_5: 1.0000 - val_false_negatives_2: 0.0000e+00 - val_false_positives_2: 0.0000e+00 - val_true_positives_2: 5241.0000 - val_true_negatives_2: 5475.0000\n",
      "Epoch 48/50\n",
      "938/938 [==============================] - 2s 2ms/step - loss: 0.0092 - precision_5: 1.0000 - recall_5: 1.0000 - false_negatives_2: 0.0000e+00 - false_positives_2: 0.0000e+00 - true_positives_2: 14809.0000 - true_negatives_2: 15192.0000 - val_loss: 0.0089 - val_precision_5: 1.0000 - val_recall_5: 1.0000 - val_false_negatives_2: 0.0000e+00 - val_false_positives_2: 0.0000e+00 - val_true_positives_2: 5241.0000 - val_true_negatives_2: 5475.0000\n",
      "Epoch 49/50\n",
      "938/938 [==============================] - 2s 2ms/step - loss: 0.0090 - precision_5: 1.0000 - recall_5: 1.0000 - false_negatives_2: 0.0000e+00 - false_positives_2: 0.0000e+00 - true_positives_2: 14809.0000 - true_negatives_2: 15192.0000 - val_loss: 0.0088 - val_precision_5: 1.0000 - val_recall_5: 1.0000 - val_false_negatives_2: 0.0000e+00 - val_false_positives_2: 0.0000e+00 - val_true_positives_2: 5241.0000 - val_true_negatives_2: 5475.0000\n",
      "Epoch 50/50\n",
      "938/938 [==============================] - 2s 2ms/step - loss: 0.0088 - precision_5: 1.0000 - recall_5: 1.0000 - false_negatives_2: 0.0000e+00 - false_positives_2: 0.0000e+00 - true_positives_2: 14809.0000 - true_negatives_2: 15192.0000 - val_loss: 0.0086 - val_precision_5: 1.0000 - val_recall_5: 1.0000 - val_false_negatives_2: 0.0000e+00 - val_false_positives_2: 0.0000e+00 - val_true_positives_2: 5241.0000 - val_true_negatives_2: 5475.0000\n"
     ]
    }
   ],
   "source": [
    "history = model.fit(\n",
    "    x_train, \n",
    "    y_train, \n",
    "    epochs=50, \n",
    "    validation_data=(x_test, y_test) \n",
    "#     callbacks=[metrics]\n",
    ")"
   ]
  },
  {
   "cell_type": "markdown",
   "id": "076409ce",
   "metadata": {},
   "source": [
    "#### Evaluation"
   ]
  },
  {
   "cell_type": "code",
   "execution_count": 108,
   "id": "4ff22156",
   "metadata": {},
   "outputs": [
    {
     "data": {
      "text/plain": [
       "dict_keys(['loss', 'precision_5', 'recall_5', 'false_negatives_2', 'false_positives_2', 'true_positives_2', 'true_negatives_2', 'val_loss', 'val_precision_5', 'val_recall_5', 'val_false_negatives_2', 'val_false_positives_2', 'val_true_positives_2', 'val_true_negatives_2'])"
      ]
     },
     "execution_count": 108,
     "metadata": {},
     "output_type": "execute_result"
    }
   ],
   "source": [
    "history.history.keys()"
   ]
  },
  {
   "cell_type": "code",
   "execution_count": 114,
   "id": "3dbf0345",
   "metadata": {},
   "outputs": [
    {
     "name": "stdout",
     "output_type": "stream",
     "text": [
      "loss : 0.008797332644462585\n",
      "precision_5 : 1.0\n",
      "recall_5 : 1.0\n",
      "false_negatives_2 : 0.0\n",
      "false_positives_2 : 0.0\n",
      "true_positives_2 : 14809.0\n",
      "true_negatives_2 : 15192.0\n",
      "val_loss : 0.008578669279813766\n",
      "val_precision_5 : 1.0\n",
      "val_recall_5 : 1.0\n",
      "val_false_negatives_2 : 0.0\n",
      "val_false_positives_2 : 0.0\n",
      "val_true_positives_2 : 5241.0\n",
      "val_true_negatives_2 : 5475.0\n"
     ]
    }
   ],
   "source": [
    "for key in history.history.keys():\n",
    "    print(str(key) + \" : \" + str(history.history[key][49]))"
   ]
  },
  {
   "cell_type": "markdown",
   "id": "90290921",
   "metadata": {},
   "source": [
    "#### Save Model"
   ]
  },
  {
   "cell_type": "code",
   "execution_count": 115,
   "id": "e5fadf2a",
   "metadata": {},
   "outputs": [],
   "source": [
    "model.save(\"log_reg_keras.h5\")"
   ]
  }
 ],
 "metadata": {
  "kernelspec": {
   "display_name": "Python 3",
   "language": "python",
   "name": "python3"
  },
  "language_info": {
   "codemirror_mode": {
    "name": "ipython",
    "version": 3
   },
   "file_extension": ".py",
   "mimetype": "text/x-python",
   "name": "python",
   "nbconvert_exporter": "python",
   "pygments_lexer": "ipython3",
   "version": "3.6.13"
  }
 },
 "nbformat": 4,
 "nbformat_minor": 5
}
